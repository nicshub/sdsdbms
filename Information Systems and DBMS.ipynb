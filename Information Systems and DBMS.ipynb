{
 "cells": [
  {
   "cell_type": "markdown",
   "id": "5034f5a7",
   "metadata": {
    "slideshow": {
     "slide_type": "slide"
    }
   },
   "source": [
    "# Information Systems and DBMS"
   ]
  },
  {
   "cell_type": "markdown",
   "id": "1a66e195",
   "metadata": {
    "slideshow": {
     "slide_type": "subslide"
    }
   },
   "source": [
    "# What is an information System ?"
   ]
  },
  {
   "cell_type": "markdown",
   "id": "43aaf5d7",
   "metadata": {
    "cell_style": "split",
    "slideshow": {
     "slide_type": "fragment"
    }
   },
   "source": [
    "> An information systems (IS) is a formal, sociotechnical, organizational system designed to collect, process, store, and distribute information.\n",
    "\n",
    "Information systems for managers: with cases, Piccoli, Pigni (2018)"
   ]
  },
  {
   "cell_type": "markdown",
   "id": "619aa35d",
   "metadata": {
    "cell_style": "split",
    "slideshow": {
     "slide_type": "fragment"
    }
   },
   "source": [
    "> An information system (IS) can be defined technically as a set of interrelated components that collect, process, store, and distribute information to support decision making and control in an organization.\n",
    "\n",
    "Management Information Systems - thirteenth edition. Pearson, 2014."
   ]
  },
  {
   "cell_type": "markdown",
   "id": "317a4106",
   "metadata": {
    "cell_style": "split",
    "slideshow": {
     "slide_type": "fragment"
    }
   },
   "source": [
    "> Information systems are interrelated components working together to collect, process, store, and disseminate information to support decision making, coordination, control, analysis, and visualization in an organization.\n",
    "\n",
    "Management Information Systems, twelfth edition, Prentice-Hall, 2012."
   ]
  },
  {
   "cell_type": "markdown",
   "id": "b77407f5",
   "metadata": {
    "cell_style": "split",
    "slideshow": {
     "slide_type": "fragment"
    }
   },
   "source": [
    "> Information systems are combinations of hardware, software, and telecommunications networks that people build and use to collect, create, and distribute useful data, typically in organizational settings.\n",
    "\n",
    "Information Systems Today - Managing in the Digital World, fourth edition. Prentice-Hall, 2010."
   ]
  },
  {
   "cell_type": "markdown",
   "id": "66366ef6",
   "metadata": {
    "slideshow": {
     "slide_type": "subslide"
    }
   },
   "source": [
    "# Information System vs Information Technology"
   ]
  },
  {
   "cell_type": "markdown",
   "id": "150f34b6",
   "metadata": {
    "slideshow": {
     "slide_type": "fragment"
    }
   },
   "source": [
    "- Technology is an (important) part of an Information System, not the Information system itself."
   ]
  },
  {
   "cell_type": "markdown",
   "id": "48b9ffcb",
   "metadata": {
    "slideshow": {
     "slide_type": "fragment"
    }
   },
   "source": [
    "- Information systems include: **technology**, **people** and **processes** (the golden triangle)"
   ]
  },
  {
   "cell_type": "markdown",
   "id": "1480cad3",
   "metadata": {
    "cell_style": "split",
    "slideshow": {
     "slide_type": "fragment"
    }
   },
   "source": [
    "- Focus of IS is solving problems, tranform data into insights"
   ]
  },
  {
   "cell_type": "markdown",
   "id": "7c8763e9",
   "metadata": {
    "cell_style": "split",
    "slideshow": {
     "slide_type": "fragment"
    }
   },
   "source": [
    "- Focus of IT is the technology to collect, store, mantain data"
   ]
  },
  {
   "cell_type": "markdown",
   "id": "d1025fbb",
   "metadata": {
    "slideshow": {
     "slide_type": "fragment"
    }
   },
   "source": [
    "- *data* is the bridge"
   ]
  },
  {
   "cell_type": "markdown",
   "id": "34bbbf45",
   "metadata": {
    "slideshow": {
     "slide_type": "subslide"
    }
   },
   "source": [
    "# Example: Civil registration "
   ]
  },
  {
   "cell_type": "markdown",
   "id": "78c1fab2",
   "metadata": {
    "slideshow": {
     "slide_type": "fragment"
    }
   },
   "source": [
    "- Civil registration is the system that mantain the the vital events of a citizen"
   ]
  },
  {
   "cell_type": "markdown",
   "id": "21ecb435",
   "metadata": {
    "slideshow": {
     "slide_type": "fragment"
    }
   },
   "source": [
    "- The primary purpose is to create certificate for legal rights, another purpose is for statistics"
   ]
  },
  {
   "cell_type": "markdown",
   "id": "c223cd72",
   "metadata": {
    "slideshow": {
     "slide_type": "fragment"
    }
   },
   "source": [
    "- Civil registries have been created centuries before computer"
   ]
  },
  {
   "cell_type": "markdown",
   "id": "2e08ef77",
   "metadata": {
    "slideshow": {
     "slide_type": "fragment"
    }
   },
   "source": [
    "- They evolved from paper book to digital, but the purpose is the same!"
   ]
  },
  {
   "cell_type": "markdown",
   "id": "00a9fdb9",
   "metadata": {
    "slideshow": {
     "slide_type": "subslide"
    }
   },
   "source": [
    "## Let's search our ancestors\n",
    "https://antenati.cultura.gov.it/"
   ]
  },
  {
   "cell_type": "markdown",
   "id": "b6caa035",
   "metadata": {
    "slideshow": {
     "slide_type": "subslide"
    }
   },
   "source": [
    "# Evolution of Information System\n",
    "\n",
    "Even before the computer system. information system evolved. Let's see in our example"
   ]
  },
  {
   "cell_type": "markdown",
   "id": "10ea4608",
   "metadata": {
    "slideshow": {
     "slide_type": "fragment"
    }
   },
   "source": [
    "- Procedures to access data: Create office registries with times, census"
   ]
  },
  {
   "cell_type": "markdown",
   "id": "da4e3a4d",
   "metadata": {
    "slideshow": {
     "slide_type": "fragment"
    }
   },
   "source": [
    "- Standard execution of procedures: Formal document"
   ]
  },
  {
   "cell_type": "markdown",
   "id": "277e6f90",
   "metadata": {
    "slideshow": {
     "slide_type": "fragment"
    }
   },
   "source": [
    "- Organization of information: Registries divided by birth year, shelf"
   ]
  },
  {
   "cell_type": "markdown",
   "id": "5ec16ff8",
   "metadata": {
    "slideshow": {
     "slide_type": "fragment"
    }
   },
   "source": [
    "- Copies of archives: Distribuited version of archives to central governement"
   ]
  },
  {
   "cell_type": "markdown",
   "id": "48494836",
   "metadata": {
    "slideshow": {
     "slide_type": "fragment"
    }
   },
   "source": [
    "- Data encoding: for example the Social Security Number, House number)"
   ]
  },
  {
   "cell_type": "markdown",
   "id": "7f353b53",
   "metadata": {
    "slideshow": {
     "slide_type": "slide"
    }
   },
   "source": [
    "# Six Components\n",
    "Principles of Information Systems (14th ed.) Ralph Stair, George Reynolds"
   ]
  },
  {
   "cell_type": "markdown",
   "id": "fa5d7715",
   "metadata": {
    "slideshow": {
     "slide_type": "subslide"
    }
   },
   "source": [
    "## 1. Hardware"
   ]
  },
  {
   "cell_type": "markdown",
   "id": "5ff9d9e4",
   "metadata": {
    "slideshow": {
     "slide_type": "fragment"
    }
   },
   "source": [
    "The term hardware refers to machinery and equipment. In a modern information system, this category includes the computer itself and all of its support equipment. The support equipment includes input and output devices, storage devices and communications devices. In pre-computer information systems, the hardware might include ledger books and ink."
   ]
  },
  {
   "cell_type": "markdown",
   "id": "e06fe14b",
   "metadata": {
    "slideshow": {
     "slide_type": "subslide"
    }
   },
   "source": [
    "## 2. Software"
   ]
  },
  {
   "cell_type": "markdown",
   "id": "98180ea2",
   "metadata": {
    "slideshow": {
     "slide_type": "fragment"
    }
   },
   "source": [
    "The term software refers to computer programs and the manuals (if any) that support them. Computer programs are machine-readable instructions that direct the circuitry within the hardware parts of the system to function in ways that produce useful information from data. Programs are generally stored on some input/output medium, often a disk or tape. The \"software\" for pre-computer information systems included how the hardware was prepared for use (e.g., column headings in the ledger book) and instructions for using them (the guidebook for a card catalog)."
   ]
  },
  {
   "cell_type": "markdown",
   "id": "666999d4",
   "metadata": {
    "slideshow": {
     "slide_type": "subslide"
    }
   },
   "source": [
    "## 3. Data"
   ]
  },
  {
   "cell_type": "markdown",
   "id": "43f6c6ed",
   "metadata": {
    "slideshow": {
     "slide_type": "fragment"
    }
   },
   "source": [
    "Data are facts that are used by systems to produce useful information. In modern information systems, data are generally stored in machine-readable form on disk or tape until the computer needs them. In pre-computer information systems, the data are generally stored in human-readable form."
   ]
  },
  {
   "cell_type": "markdown",
   "id": "a1743257",
   "metadata": {
    "slideshow": {
     "slide_type": "subslide"
    }
   },
   "source": [
    "## 4. Procedures"
   ]
  },
  {
   "cell_type": "markdown",
   "id": "3a59f62d",
   "metadata": {
    "slideshow": {
     "slide_type": "fragment"
    }
   },
   "source": [
    "Procedures are the policies that govern the operation of an information system. \"Procedures are to people what software is to hardware\" is a common analogy that is used to illustrate the role of procedures in a system."
   ]
  },
  {
   "cell_type": "markdown",
   "id": "69a73f5a",
   "metadata": {
    "slideshow": {
     "slide_type": "subslide"
    }
   },
   "source": [
    "## 5. People"
   ]
  },
  {
   "cell_type": "markdown",
   "id": "2c1c744a",
   "metadata": {
    "slideshow": {
     "slide_type": "fragment"
    }
   },
   "source": [
    "Every system needs people if it is to be useful. Often the most overlooked element of the system is the people, probably the component that most influence the success or failure of information systems. This includes \"not only the users, but those who operate and service the computers, those who maintain the data, and those who support the network of computers"
   ]
  },
  {
   "cell_type": "markdown",
   "id": "dfd8abaf",
   "metadata": {
    "slideshow": {
     "slide_type": "subslide"
    }
   },
   "source": [
    "## 6. Internet"
   ]
  },
  {
   "cell_type": "markdown",
   "id": "0ffd0143",
   "metadata": {
    "slideshow": {
     "slide_type": "fragment"
    }
   },
   "source": [
    "The internet is a combination of data and people. (Although this component is not necessary to function.)"
   ]
  },
  {
   "cell_type": "markdown",
   "id": "c28e75e7",
   "metadata": {
    "slideshow": {
     "slide_type": "slide"
    }
   },
   "source": [
    "# The golden triangle"
   ]
  },
  {
   "cell_type": "markdown",
   "id": "6e7f1df3",
   "metadata": {
    "slideshow": {
     "slide_type": "fragment"
    }
   },
   "source": [
    "![](https://www.ats-global.com/wp-content/uploads/2023/10/PeopleProcessTech_diagram-illo-Triangle-1-1536x864-1.webp)\n",
    "\n",
    "https://www.ats-global.com/resources/blogs/people-process-technology-how-the-golden-triangle-drives-digital-transformation/"
   ]
  },
  {
   "cell_type": "markdown",
   "id": "1b32c24a",
   "metadata": {
    "slideshow": {
     "slide_type": "subslide"
    }
   },
   "source": [
    "## How Understanding 'The Golden Triangle' Drives Procurement And Digital Transformation\n",
    "\n",
    "> Organizations have adopted the framework known as the \"Golden Triangle\" in order to keep a balance in their technology efforts. As the world moves from Industry 4.0 to Industry 5.0, organizations should keep the Golden Triangle in mind, arguably more so than ever before.\n",
    "\n",
    "https://www.forbes.com/sites/forbestechcouncil/2021/02/11/how-understanding-the-golden-triangle-drives-procurement-and-digital-transformation/?sh=20245e667eeb"
   ]
  },
  {
   "cell_type": "markdown",
   "id": "08e6e372",
   "metadata": {
    "slideshow": {
     "slide_type": "slide"
    }
   },
   "source": [
    "# The Role of DBMS in Information Systems"
   ]
  },
  {
   "cell_type": "markdown",
   "id": "e2404e79",
   "metadata": {
    "cell_style": "split",
    "slideshow": {
     "slide_type": "fragment"
    }
   },
   "source": [
    "> provides the end user with a single, integrated view of the data, and translates all applications it receives into complex operations that fulfil those requests.\n",
    "\n",
    "https://blog.ze.com/the-zema-solution/the-role-of-database-management-system-in-information-systems/"
   ]
  },
  {
   "cell_type": "markdown",
   "id": "f3875b66",
   "metadata": {
    "cell_style": "split",
    "slideshow": {
     "slide_type": "fragment"
    }
   },
   "source": [
    "> DBMS is the lifeblood of any information system) \n",
    "https://www.innozant.com/role-of-dbms-sql-in-information-system/)"
   ]
  },
  {
   "cell_type": "markdown",
   "id": "87a85ab9",
   "metadata": {
    "slideshow": {
     "slide_type": "slide"
    }
   },
   "source": [
    "# Data Base Management Systems (DBMS)\n",
    "\n",
    "Database Systems: A Practical Approach to Design, Implementation, and Management, Global Edition "
   ]
  },
  {
   "cell_type": "markdown",
   "id": "000d8bf8",
   "metadata": {
    "cell_style": "split",
    "slideshow": {
     "slide_type": "subslide"
    }
   },
   "source": [
    "**database**\n",
    "\n",
    ">A shared collection of logically related data and its description,\n",
    "designed to meet the information needs of an organization."
   ]
  },
  {
   "cell_type": "markdown",
   "id": "15e9c7e3",
   "metadata": {
    "cell_style": "split",
    "slideshow": {
     "slide_type": "fragment"
    }
   },
   "source": [
    "**DBMS**\n",
    "\n",
    "> A software system that enables users to define, create, maintain and control access to the database\n",
    "\n"
   ]
  },
  {
   "cell_type": "markdown",
   "id": "22f079c5",
   "metadata": {
    "slideshow": {
     "slide_type": "subslide"
    }
   },
   "source": [
    "## Features (side by side)"
   ]
  },
  {
   "cell_type": "markdown",
   "id": "f6899ec5",
   "metadata": {
    "cell_style": "split",
    "slideshow": {
     "slide_type": "fragment"
    }
   },
   "source": [
    "**database**\n",
    "- Data about data: System Catalog (data dictionary / metadata)\n",
    "- Data Abstraction: Separation from application, stable definition \n",
    "- Data organization: to provide information"
   ]
  },
  {
   "cell_type": "markdown",
   "id": "db02d583",
   "metadata": {
    "cell_style": "split",
    "slideshow": {
     "slide_type": "fragment"
    }
   },
   "source": [
    "**DBMS**\n",
    "- Data definition: define structures and catalog\n",
    "- Query System: allow to access to data\n",
    "- Access Control: define access and security"
   ]
  },
  {
   "cell_type": "markdown",
   "id": "ca19c28e",
   "metadata": {
    "slideshow": {
     "slide_type": "subslide"
    }
   },
   "source": [
    "## It's like the Plato Apple: DataBase and DBMS\n",
    "![](images/platodb-dbms.jpeg)"
   ]
  },
  {
   "cell_type": "markdown",
   "id": "80cf6bf6",
   "metadata": {
    "slideshow": {
     "slide_type": "slide"
    }
   },
   "source": [
    "# DBMS application"
   ]
  },
  {
   "cell_type": "markdown",
   "id": "5d6a3901",
   "metadata": {
    "slideshow": {
     "slide_type": "subslide"
    }
   },
   "source": [
    "## The need: Data Sharing"
   ]
  },
  {
   "cell_type": "markdown",
   "id": "107c8a67",
   "metadata": {
    "slideshow": {
     "slide_type": "fragment"
    }
   },
   "source": [
    "- Organizations (in particular big) it's structured in different department with different activities;"
   ]
  },
  {
   "cell_type": "markdown",
   "id": "441838e7",
   "metadata": {
    "slideshow": {
     "slide_type": "fragment"
    }
   },
   "source": [
    "- Each department owns its (sub)information system"
   ]
  },
  {
   "cell_type": "markdown",
   "id": "536614c4",
   "metadata": {
    "slideshow": {
     "slide_type": "fragment"
    }
   },
   "source": [
    "- Those informations can overlap and be useful to all the departments for different purposes.\n"
   ]
  },
  {
   "cell_type": "markdown",
   "id": "21f47c31",
   "metadata": {
    "slideshow": {
     "slide_type": "fragment"
    }
   },
   "source": [
    "- Departments can share information (in forms of files, reports, paper)"
   ]
  },
  {
   "cell_type": "markdown",
   "id": "eb30f62d",
   "metadata": {
    "slideshow": {
     "slide_type": "subslide"
    }
   },
   "source": [
    "## Possible Problems in Data Sharing"
   ]
  },
  {
   "cell_type": "markdown",
   "id": "1b2420b5",
   "metadata": {
    "slideshow": {
     "slide_type": "fragment"
    }
   },
   "source": [
    "- **Efficiency**: This process can be slow, static and duplicate efforts (producer-consumer)"
   ]
  },
  {
   "cell_type": "markdown",
   "id": "231efb58",
   "metadata": {
    "slideshow": {
     "slide_type": "fragment"
    }
   },
   "source": [
    "- **Redundancy**: Same data is present in diffent information systems"
   ]
  },
  {
   "cell_type": "markdown",
   "id": "77cb7b1f",
   "metadata": {
    "slideshow": {
     "slide_type": "fragment"
    }
   },
   "source": [
    "- **Inconsistency**: Different version of data (this is quite common)"
   ]
  },
  {
   "cell_type": "markdown",
   "id": "8ccdfb35",
   "metadata": {
    "slideshow": {
     "slide_type": "subslide"
    }
   },
   "source": [
    "## Solution"
   ]
  },
  {
   "cell_type": "markdown",
   "id": "5e1e03e5",
   "metadata": {
    "slideshow": {
     "slide_type": "fragment"
    }
   },
   "source": [
    "DBMS it's an integrated resource, shared between departments that:\n",
    "- Address the need of data collection and sharing\n",
    "- Helps to solve the possible problems"
   ]
  },
  {
   "cell_type": "markdown",
   "id": "02bb6d73",
   "metadata": {
    "cell_style": "center",
    "slideshow": {
     "slide_type": "slide"
    }
   },
   "source": [
    "## Advantages and Disadvantages of a DBMS"
   ]
  },
  {
   "cell_type": "markdown",
   "id": "b5690823",
   "metadata": {
    "slideshow": {
     "slide_type": "subslide"
    }
   },
   "source": [
    "#### Advantages"
   ]
  },
  {
   "cell_type": "markdown",
   "id": "e8d9ca57",
   "metadata": {
    "cell_style": "split",
    "slideshow": {
     "slide_type": "fragment"
    }
   },
   "source": [
    "In terms of business:\n",
    "- Data Consistency: Changes on data will be available to every one.\n",
    "- Data Sharing: Data are available to all departments\n",
    "- Data Integrity: Control on duplicate, format\n",
    "- Data Security: Access to data is controlled\n"
   ]
  },
  {
   "cell_type": "markdown",
   "id": "688dd952",
   "metadata": {
    "cell_style": "split",
    "slideshow": {
     "slide_type": "fragment"
    }
   },
   "source": [
    "In terms of operations:\n",
    "- Cost Optimization: multiple application can share the same \"central\" database;\n",
    "- Efficiency: Access to data is fast and concurrent\n",
    "- Retention: Backup/Disaster Recovery facilities"
   ]
  },
  {
   "cell_type": "markdown",
   "id": "b17bd696",
   "metadata": {
    "slideshow": {
     "slide_type": "subslide"
    }
   },
   "source": [
    "#### Disavantages"
   ]
  },
  {
   "cell_type": "markdown",
   "id": "85bbb897",
   "metadata": {
    "cell_style": "split",
    "slideshow": {
     "slide_type": "fragment"
    }
   },
   "source": [
    "In terms of business:\n",
    "- Complexity: Each data strategy needs top-down approach\n",
    "- Value: Getting value from data can be challenging \n"
   ]
  },
  {
   "cell_type": "markdown",
   "id": "2c917971",
   "metadata": {
    "cell_style": "split",
    "slideshow": {
     "slide_type": "fragment"
    }
   },
   "source": [
    "In terms of operations:\n",
    "- Cost: Dedicated hardware/license (for proprietary db)\n",
    "- Manteinance: Needs dedicated resources\n",
    "- Legacy: change legacy system to collect data centrally \n",
    "- Single point of failure: if db is down?"
   ]
  },
  {
   "cell_type": "markdown",
   "id": "f6f2a23e",
   "metadata": {
    "slideshow": {
     "slide_type": "slide"
    }
   },
   "source": [
    "# Story"
   ]
  },
  {
   "cell_type": "markdown",
   "id": "d9f8f42d",
   "metadata": {
    "slideshow": {
     "slide_type": "subslide"
    }
   },
   "source": [
    "## Integrated Data Story (IDS)\n",
    "\n",
    "\n",
    "https://www.computer.org/csdl/magazine/an/2009/04/man2009040042/13rRUNvgzbL"
   ]
  },
  {
   "cell_type": "markdown",
   "id": "9ab88dc7",
   "metadata": {
    "cell_style": "split",
    "slideshow": {
     "slide_type": "fragment"
    }
   },
   "source": [
    "> The Integrated Data Store (IDS) systems and\n",
    "all other systems based on its concepts consider their basic contribution to the programmer to be the capability to associate records\n",
    "into data structure sets and the capability to\n",
    "use these sets as retrieval paths. A new basis\n",
    "for understanding had become available in\n",
    "the area of information systems. It was\n",
    "achieved by a shift from a computer-centered\n",
    "to the database-centered point of view. This\n",
    "new understanding will lead to new solutions\n",
    "to our database problems and speed our conquest of the n-dimensional data structures\n",
    "which best model the complexities of the\n",
    "real world.\n"
   ]
  },
  {
   "cell_type": "markdown",
   "id": "442f439d",
   "metadata": {
    "cell_style": "split"
   },
   "source": [
    "![](https://cacm.acm.org/system/assets/0002/4057/062016_CACMpg25_How-Charles-Bachman5.large.jpg?1476779507&1466529831)\n",
    "\n",
    "https://cacm.acm.org/magazines/2016/7/204036-how-charles-bachman-invented-the-dbms-a-foundation-of-our-digital-world/abstract"
   ]
  },
  {
   "cell_type": "markdown",
   "id": "bfd058ad",
   "metadata": {
    "slideshow": {
     "slide_type": "subslide"
    }
   },
   "source": [
    "## The future: Data Mesh\n",
    "\n",
    "The concept of DBMS is evolving into a new approach of data archicture, organized by specific business domain\n"
   ]
  },
  {
   "cell_type": "markdown",
   "id": "2732aea6",
   "metadata": {
    "cell_style": "split",
    "slideshow": {
     "slide_type": "fragment"
    }
   },
   "source": [
    "With Data Mesh, the data literally becomes the product, usually to be consumed in the form of a dataset. To be effective, data products must conform to a set of characteristics that place them at the intersection of usability, feasibility and value (Marty Cagan’s diagram). "
   ]
  },
  {
   "cell_type": "markdown",
   "id": "a8d22113",
   "metadata": {
    "cell_style": "split",
    "slideshow": {
     "slide_type": "fragment"
    }
   },
   "source": [
    "![](https://en.blog.businessdecision.com/wp-content/uploads/2022/12/Marty-Cagan-diagram.jpg)"
   ]
  },
  {
   "cell_type": "markdown",
   "id": "7563ae2a",
   "metadata": {
    "slideshow": {
     "slide_type": "slide"
    }
   },
   "source": [
    "# DBMS History Project"
   ]
  },
  {
   "cell_type": "markdown",
   "id": "fa1b9798",
   "metadata": {
    "slideshow": {
     "slide_type": "subslide"
    }
   },
   "source": [
    "## SQL Timeline\n",
    "https://cdn.knightlab.com/libs/timeline3/latest/embed/index.html?source=1JTnj9UbssqQN3Xlt1ZajifExqPgrxqItxFJ5Wcb1-7E&font=Default&lang=en&initial_zoom=2&height=800"
   ]
  },
  {
   "cell_type": "markdown",
   "id": "4c9028e0",
   "metadata": {
    "slideshow": {
     "slide_type": "subslide"
    }
   },
   "source": [
    "# SQL and Big Data \n",
    "![](images/sqlbigdata.png)"
   ]
  },
  {
   "cell_type": "code",
   "execution_count": null,
   "id": "ac746697",
   "metadata": {},
   "outputs": [],
   "source": []
  }
 ],
 "metadata": {
  "celltoolbar": "Slideshow",
  "kernelspec": {
   "display_name": "Python 3 (ipykernel)",
   "language": "python",
   "name": "python3"
  },
  "language_info": {
   "codemirror_mode": {
    "name": "ipython",
    "version": 3
   },
   "file_extension": ".py",
   "mimetype": "text/x-python",
   "name": "python",
   "nbconvert_exporter": "python",
   "pygments_lexer": "ipython3",
   "version": "3.9.15"
  },
  "rise": {
   "autolaunch": true,
   "enable_chalkboard": "true",
   "footer": "<div class=\"sds-footer\"> *** Social Data Science (SDS) - Notions of Database Management Systems ***</div>",
   "header": "<div class=\"sds-header\"><div class=\"sds-header-image\"></div></div>",
   "scroll": true,
   "theme": "white"
  }
 },
 "nbformat": 4,
 "nbformat_minor": 5
}
