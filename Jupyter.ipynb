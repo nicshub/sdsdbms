{
 "cells": [
  {
   "cell_type": "markdown",
   "id": "87a85ab9",
   "metadata": {
    "slideshow": {
     "slide_type": "slide"
    }
   },
   "source": [
    "# Jupyter"
   ]
  },
  {
   "cell_type": "markdown",
   "id": "42cdf2f5",
   "metadata": {
    "slideshow": {
     "slide_type": "slide"
    }
   },
   "source": [
    "# What is Jupyter ?"
   ]
  },
  {
   "cell_type": "markdown",
   "id": "6fd01d60",
   "metadata": {
    "cell_style": "split",
    "slideshow": {
     "slide_type": "fragment"
    }
   },
   "source": [
    "> Free software, open standards, and web services for interactive computing across all programming languages\n",
    "\n",
    "https://jupyter.org/"
   ]
  },
  {
   "cell_type": "markdown",
   "id": "e0af9f59",
   "metadata": {
    "cell_style": "split",
    "slideshow": {
     "slide_type": "fragment"
    }
   },
   "source": [
    "![](images/jupyter.png)\n",
    "Jupyter Logo Background "
   ]
  },
  {
   "cell_type": "markdown",
   "id": "9c529a16",
   "metadata": {
    "slideshow": {
     "slide_type": "subslide"
    }
   },
   "source": [
    "## History"
   ]
  },
  {
   "cell_type": "markdown",
   "id": "278c5821",
   "metadata": {
    "cell_style": "split",
    "slideshow": {
     "slide_type": "fragment"
    }
   },
   "source": [
    "Project Jupyter is a non-profit, open-source project, born out of the IPython Project in 2014 as it evolved to support interactive data science and scientific computing across all programming languages. Jupyter will always be 100% open-source software, free for all to use"
   ]
  },
  {
   "cell_type": "markdown",
   "id": "6c46b370",
   "metadata": {
    "cell_style": "split",
    "slideshow": {
     "slide_type": "fragment"
    }
   },
   "source": [
    "The **name** is refers to first three programming language supported (Julia, Python, R)\n",
    "\n",
    "The **logo** is the Jupiter planet with its main moons representing the 3 language\n",
    "\n",
    "It's a tribute to Galileo"
   ]
  },
  {
   "cell_type": "markdown",
   "id": "ec6b0bdc",
   "metadata": {
    "slideshow": {
     "slide_type": "subslide"
    }
   },
   "source": [
    "![](images/GalileoJupyterNotebook.png)"
   ]
  },
  {
   "cell_type": "markdown",
   "id": "4338795d",
   "metadata": {
    "slideshow": {
     "slide_type": "subslide"
    }
   },
   "source": [
    "## Impacts"
   ]
  },
  {
   "cell_type": "markdown",
   "id": "35eca1fc",
   "metadata": {
    "cell_style": "split",
    "slideshow": {
     "slide_type": "fragment"
    }
   },
   "source": [
    "In 2021, Nature added iPy as one \n",
    "the \"Ten computer code that transfored science\"\n",
    "https://www.nature.com/articles/d41586-021-00075-2\n",
    "\n",
    "![](images/nature.png)"
   ]
  },
  {
   "cell_type": "markdown",
   "id": "dee5f2f9",
   "metadata": {
    "cell_style": "split",
    "slideshow": {
     "slide_type": "fragment"
    }
   },
   "source": [
    "![](images/nature2.png)"
   ]
  },
  {
   "cell_type": "markdown",
   "id": "339891d4",
   "metadata": {
    "slideshow": {
     "slide_type": "slide"
    }
   },
   "source": [
    "# Juypter Notebooks\n",
    "https://jupyter-notebook.readthedocs.io/"
   ]
  },
  {
   "cell_type": "markdown",
   "id": "a82482ad",
   "metadata": {
    "cell_style": "center",
    "slideshow": {
     "slide_type": "subslide"
    }
   },
   "source": [
    "## Components of Juypter Notebooks"
   ]
  },
  {
   "cell_type": "markdown",
   "id": "439cb061",
   "metadata": {
    "cell_style": "center",
    "slideshow": {
     "slide_type": "fragment"
    }
   },
   "source": [
    "- **Notebook web application**: An interactive web application for writing and running code interactively and authoring notebook documents."
   ]
  },
  {
   "cell_type": "markdown",
   "id": "d1192564",
   "metadata": {
    "slideshow": {
     "slide_type": "fragment"
    }
   },
   "source": [
    "- **Kernels**: Separate processes started by the notebook web application that runs users’ code in a given language and returns output back to the notebook web application."
   ]
  },
  {
   "cell_type": "markdown",
   "id": "b5a1303d",
   "metadata": {
    "slideshow": {
     "slide_type": "fragment"
    }
   },
   "source": [
    "- **Notebook documents**: Self-contained documents that contain a representation of all content visible in the notebook web application, including inputs and outputs of the computations, narrative text, equations, images, and rich media representations of objects."
   ]
  },
  {
   "cell_type": "markdown",
   "id": "7722f595",
   "metadata": {
    "slideshow": {
     "slide_type": "subslide"
    }
   },
   "source": [
    "#### Component diagram\n",
    "![](images/notebook_components.png)"
   ]
  },
  {
   "cell_type": "markdown",
   "id": "01828c4f",
   "metadata": {
    "slideshow": {
     "slide_type": "subslide"
    }
   },
   "source": [
    "### The notebook web application"
   ]
  },
  {
   "cell_type": "markdown",
   "id": "069e1f6f",
   "metadata": {
    "slideshow": {
     "slide_type": "subslide"
    }
   },
   "source": [
    "#### Dashboard\n",
    "The Dashboard it's the initial page and lists the files availabile in the directory and the runnning notebook.\n",
    "\n",
    "Please note that the scope depends on the path where the application is lanched."
   ]
  },
  {
   "cell_type": "markdown",
   "id": "3d1fa6e5",
   "metadata": {
    "slideshow": {
     "slide_type": "fragment"
    }
   },
   "source": [
    "![](https://user-images.githubusercontent.com/591645/229564680-3e9a9031-e925-4008-833c-a478b3e96c97.png)\n",
    "Image of the Notebook Dashboard from the Jupyter manual"
   ]
  },
  {
   "cell_type": "markdown",
   "id": "0d3b8bb7",
   "metadata": {
    "slideshow": {
     "slide_type": "subslide"
    }
   },
   "source": [
    "#### Notebook Editor\n",
    "The editor of a notebook it's \"word\" style with a menu on top "
   ]
  },
  {
   "cell_type": "markdown",
   "id": "d6b4fd19",
   "metadata": {
    "cell_style": "center",
    "slideshow": {
     "slide_type": "fragment"
    }
   },
   "source": [
    "![Image](images/new-notebook.gif)"
   ]
  },
  {
   "cell_type": "markdown",
   "id": "071570fa",
   "metadata": {
    "cell_style": "center",
    "slideshow": {
     "slide_type": "subslide"
    }
   },
   "source": [
    "#### Main features"
   ]
  },
  {
   "cell_type": "markdown",
   "id": "2fe52431",
   "metadata": {
    "cell_style": "split",
    "slideshow": {
     "slide_type": "fragment"
    }
   },
   "source": [
    "- Edit code in the browser, with automatic syntax highlighting, indentation, and tab completion/introspection."
   ]
  },
  {
   "cell_type": "markdown",
   "id": "cbc4917c",
   "metadata": {
    "cell_style": "split",
    "slideshow": {
     "slide_type": "fragment"
    }
   },
   "source": [
    "- Run code from the browser, with the results of computations attached to the code which generated them."
   ]
  },
  {
   "cell_type": "markdown",
   "id": "a6b296ac",
   "metadata": {
    "cell_style": "split",
    "slideshow": {
     "slide_type": "fragment"
    }
   },
   "source": [
    "- See the results of computations with rich media representations, such as HTML, LaTeX, PNG, SVG, PDF, etc."
   ]
  },
  {
   "cell_type": "markdown",
   "id": "f9af6b49",
   "metadata": {
    "cell_style": "split",
    "slideshow": {
     "slide_type": "fragment"
    }
   },
   "source": [
    "- Create and use interactive JavaScript widgets, which bind interactive user interface controls and visualizations to reactive kernel side computations."
   ]
  },
  {
   "cell_type": "markdown",
   "id": "a572247b",
   "metadata": {
    "cell_style": "split",
    "slideshow": {
     "slide_type": "fragment"
    }
   },
   "source": [
    "- Author narrative text using the Markdown markup language."
   ]
  },
  {
   "cell_type": "markdown",
   "id": "2791da0a",
   "metadata": {
    "cell_style": "split",
    "slideshow": {
     "slide_type": "fragment"
    }
   },
   "source": [
    "- Include mathematical equations using LaTeX syntax in Markdown, which are rendered in-browser by MathJax."
   ]
  },
  {
   "cell_type": "markdown",
   "id": "969192cd",
   "metadata": {
    "slideshow": {
     "slide_type": "subslide"
    }
   },
   "source": [
    "### Kernels"
   ]
  },
  {
   "cell_type": "markdown",
   "id": "f9364f4a",
   "metadata": {
    "cell_style": "split",
    "slideshow": {
     "slide_type": "fragment"
    }
   },
   "source": [
    "- Through Jupyter’s kernel and messaging architecture, the Notebook allows code to be run in a range of different programming languages. \n",
    "- For each notebook document that a user opens, the web application starts a kernel that runs the code for that notebook. \n",
    "- Each kernel is capable of running code in a single programming language and there are kernels available in the many languages\n",
    "[https://github.com/jupyter/jupyter/wiki/Jupyter-kernels]"
   ]
  },
  {
   "cell_type": "markdown",
   "id": "b4bc9d54",
   "metadata": {
    "cell_style": "split",
    "slideshow": {
     "slide_type": "fragment"
    }
   },
   "source": [
    "![](images/ipy_kernel_and_terminal.png)"
   ]
  },
  {
   "cell_type": "markdown",
   "id": "b327a3a8",
   "metadata": {
    "slideshow": {
     "slide_type": "slide"
    }
   },
   "source": [
    "# Notebook documents"
   ]
  },
  {
   "cell_type": "markdown",
   "id": "7bdb6bc4",
   "metadata": {
    "cell_style": "split",
    "slideshow": {
     "slide_type": "subslide"
    }
   },
   "source": [
    "Notebook documents contain the inputs and outputs of an interactive session as well as narrative text that accompanies the code but is not meant for execution. Rich output generated by running code, including HTML, images, video, and plots, is embeddeed in the notebook, which makes it a complete and self-contained record of a computation.\n"
   ]
  },
  {
   "cell_type": "markdown",
   "id": "efbfaaa7",
   "metadata": {
    "cell_style": "split",
    "slideshow": {
     "slide_type": "fragment"
    }
   },
   "source": [
    "![](images/jupyter_cell.png)\n",
    "\n",
    "When you run the notebook web application on your computer, notebook documents are just files on your local filesystem with a ``.ipynb`` extension. This allows you to use familiar workflows for organizing your notebooks into folders and sharing them with others."
   ]
  },
  {
   "cell_type": "markdown",
   "id": "01aa721b",
   "metadata": {
    "slideshow": {
     "slide_type": "subslide"
    }
   },
   "source": [
    "## Structure of a notebook document"
   ]
  },
  {
   "cell_type": "markdown",
   "id": "46aa5f30",
   "metadata": {
    "cell_style": "split",
    "slideshow": {
     "slide_type": "subslide"
    }
   },
   "source": [
    "Internally, notebook documents are \n",
    "- **JSON** <https://en.wikipedia.org/wiki/JSON> data \n",
    "- with binary values **base64**  <https://en.wikipedia.org/wiki/Base64> encoded. \n",
    "\n",
    "- This allows them to be read and manipulated programmatically by any programming language. \n",
    "\n",
    "- Because JSON is a text format, notebook documents are version control friendly."
   ]
  },
  {
   "cell_type": "markdown",
   "id": "4468d286",
   "metadata": {
    "cell_style": "split",
    "slideshow": {
     "slide_type": "fragment"
    }
   },
   "source": [
    "![](images/jupyter_json.png)"
   ]
  },
  {
   "cell_type": "markdown",
   "id": "50c31951",
   "metadata": {
    "slideshow": {
     "slide_type": "slide"
    }
   },
   "source": [
    "## Cells"
   ]
  },
  {
   "cell_type": "markdown",
   "id": "969eac83",
   "metadata": {
    "slideshow": {
     "slide_type": "subslide"
    }
   },
   "source": [
    "Notebooks consist of a linear sequence of cells. There are three basic cell types:\n",
    "- **Code cells**: Input and output of live code that is run in the kernel\n",
    "- **Markdown cells**: Narrative text with embedded LaTeX equations\n",
    "- **Raw cells**: Unformatted text that is included, without modification, when notebooks are converted to different formats using nbconvert"
   ]
  },
  {
   "cell_type": "markdown",
   "id": "f5478bb6",
   "metadata": {
    "slideshow": {
     "slide_type": "subslide"
    }
   },
   "source": [
    "### Markdown Cell\n",
    "\n",
    "> Markdown is a plain text format for writing structured documents, based on conventions for indicating formatting in email and usenet posts. It was developed by John Gruber (with help from Aaron Swartz) and released in 2004\n",
    "\n",
    "As Gruber writes:\n",
    "> The overriding design goal for Markdown’s formatting syntax is to make it as readable as possible. The idea is that a Markdown-formatted document should be publishable as-is, as plain text, without looking like it’s been marked up with tags or formatting instructions. (http://daringfireball.net/projects/markdown/)"
   ]
  },
  {
   "cell_type": "markdown",
   "id": "dd29b24c",
   "metadata": {
    "slideshow": {
     "slide_type": "subslide"
    }
   },
   "source": [
    "### Markdown References\n",
    "- https://github.com/adam-p/markdown-here/wiki/Markdown-Cheatsheet\n",
    "- https://www.markdownguide.org/>"
   ]
  },
  {
   "cell_type": "markdown",
   "id": "73840106",
   "metadata": {
    "slideshow": {
     "slide_type": "subslide"
    }
   },
   "source": [
    "### Code Cell"
   ]
  },
  {
   "cell_type": "markdown",
   "id": "563336bb",
   "metadata": {
    "slideshow": {
     "slide_type": "fragment"
    }
   },
   "source": [
    "- Cell where it's possibile to insert code associated to kernel of the notebook (i.e. Python)\n",
    "- Code cell interact with the kernel using a protocol, i.e. the code is executed and output (if any) is printed after the cell\n",
    "- Cell code are executed in order, i.e. no other cell code is effectively executed until the previosly completed"
   ]
  },
  {
   "cell_type": "markdown",
   "id": "ebf31895",
   "metadata": {
    "slideshow": {
     "slide_type": "slide"
    }
   },
   "source": [
    "#### REPL\n",
    "\n",
    "![](images/repl.png)"
   ]
  },
  {
   "cell_type": "markdown",
   "id": "fd2719f2",
   "metadata": {
    "cell_style": "split",
    "slideshow": {
     "slide_type": "subslide"
    }
   },
   "source": [
    "- The **read** function accepts an expression from the user, and parses it into a data structure in memory. For instance, the user may enter the s-expression (+ 1 2 3), which is parsed into a linked list containing four data elements.\n",
    "- The **eval** function takes this internal data structure and evaluates it. In Lisp, evaluating an s-expression beginning with the name of a function means calling that function on the arguments that make up the rest of the expression. So the function + is called on the arguments 1 2 3, yielding the result 6."
   ]
  },
  {
   "cell_type": "markdown",
   "id": "f0e1b428",
   "metadata": {
    "cell_style": "split",
    "slideshow": {
     "slide_type": "fragment"
    }
   },
   "source": [
    "- The **print** function takes the result yielded by eval, and prints it out to the user. If it is a complex expression, it may be pretty-printed to make it easier to understand.\n",
    "- The development environment then returns to the read state, creating a **loop**, which terminates when the program is closed.\n",
    "\n",
    "```lisp\n",
    "(define (REPL env)\n",
    "  (print (eval env (read)))\n",
    "  (REPL env) )\n",
    " ```"
   ]
  },
  {
   "cell_type": "markdown",
   "id": "86f207d5",
   "metadata": {
    "slideshow": {
     "slide_type": "subslide"
    }
   },
   "source": [
    "### Edit / Command Mode"
   ]
  },
  {
   "cell_type": "markdown",
   "id": "010a1073",
   "metadata": {
    "slideshow": {
     "slide_type": "fragment"
    }
   },
   "source": [
    "Notebooks have two modes:"
   ]
  },
  {
   "cell_type": "markdown",
   "id": "838aca0a",
   "metadata": {
    "cell_style": "split",
    "slideshow": {
     "slide_type": "fragment"
    }
   },
   "source": [
    "**Edit Mode (green)**\n",
    "- it's possibile to write in the cell\n",
    "- code is not immediatetely executed\n",
    "\n",
    "Some ide features (but it's not an IDE)\n",
    "- syntax highlighting\n",
    "- code completion\n"
   ]
  },
  {
   "cell_type": "markdown",
   "id": "6a78bcea",
   "metadata": {
    "cell_style": "split",
    "slideshow": {
     "slide_type": "fragment"
    }
   },
   "source": [
    "**Command Mode**: (blue): it's a \"navigation mode\", special keys to author the notebook\n",
    "\n",
    "- Basic navigation: enter, shift-enter, up/k, down/j\n",
    "- Saving the notebook: s\n",
    "- Change Cell types: y, m, 1-6, t\n",
    "- Cell creation: a, b\n",
    "- Cell editing: x, c, v, d, z\n",
    "- Kernel operations: i, 0 (press twice)"
   ]
  },
  {
   "cell_type": "markdown",
   "id": "9ffa50fe",
   "metadata": {
    "slideshow": {
     "slide_type": "subslide"
    }
   },
   "source": [
    "![](https://i.imgflip.com/8enqtc.jpg)\n",
    "[NicsMeme](https://i.imgflip.com/8enqtc.jpg)"
   ]
  },
  {
   "cell_type": "markdown",
   "id": "dd1837f7",
   "metadata": {
    "slideshow": {
     "slide_type": "subslide"
    }
   },
   "source": [
    "# Cell execution"
   ]
  },
  {
   "cell_type": "markdown",
   "id": "dea90c46",
   "metadata": {
    "slideshow": {
     "slide_type": "fragment"
    }
   },
   "source": [
    "- Cells can be executed clickink on the \"Play\" icon in the toolbar, via Cell -> Run in the menu or Shift-Enter"
   ]
  },
  {
   "cell_type": "markdown",
   "id": "9eaea441",
   "metadata": {
    "slideshow": {
     "slide_type": "fragment"
    }
   },
   "source": [
    "- Cells are executed in order, output appears asynchronously"
   ]
  },
  {
   "cell_type": "markdown",
   "id": "ac16e686",
   "metadata": {
    "slideshow": {
     "slide_type": "fragment"
    }
   },
   "source": [
    "- Markdown cells are immediately rendered "
   ]
  },
  {
   "cell_type": "markdown",
   "id": "cbddd1fa",
   "metadata": {
    "slideshow": {
     "slide_type": "fragment"
    }
   },
   "source": [
    "- Code cells sends the entire cell to the kerne, a [] box appers at the left with a * (waiting) and when completed  the execution order"
   ]
  },
  {
   "cell_type": "markdown",
   "id": "d2d4d321",
   "metadata": {
    "slideshow": {
     "slide_type": "subslide"
    }
   },
   "source": [
    "### Demo "
   ]
  },
  {
   "cell_type": "code",
   "execution_count": 4,
   "id": "8ab2ddd4",
   "metadata": {},
   "outputs": [
    {
     "name": "stdout",
     "output_type": "stream",
     "text": [
      "Hello World in Jupyter\n"
     ]
    }
   ],
   "source": [
    "print(\"Hello World in Jupyter\")"
   ]
  },
  {
   "cell_type": "markdown",
   "id": "6f6158b3",
   "metadata": {
    "slideshow": {
     "slide_type": "slide"
    }
   },
   "source": [
    "# How to publish/share notebook ?"
   ]
  },
  {
   "cell_type": "markdown",
   "id": "4895b052",
   "metadata": {
    "slideshow": {
     "slide_type": "subslide"
    }
   },
   "source": [
    "### Nbviewer\n",
    "\n",
    "https://nbviewer.org/"
   ]
  },
  {
   "cell_type": "markdown",
   "id": "86df0563",
   "metadata": {
    "cell_style": "split",
    "slideshow": {
     "slide_type": "slide"
    }
   },
   "source": [
    "Any notebook document available from a public URL or on GitHub can be shared via nbviewer. This service loads the notebook document from the URL and renders it as a static web page. The resulting web page may thus be shared with others without their needing to install the Jupyter Notebook."
   ]
  },
  {
   "cell_type": "markdown",
   "id": "13967386",
   "metadata": {
    "slideshow": {
     "slide_type": "slide"
    }
   },
   "source": [
    "# Export Notebook (NB Convert)\n",
    "\n",
    "Using nbconvert enables:\n",
    "presentation of information in familiar formats, such as PDF.\n",
    "publishing of research using LaTeX and opens the door for embedding notebooks in papers.\n",
    "collaboration with others who may not use the notebook in their work.\n",
    "sharing contents with many people via the web using HTML.\n",
    "Format:\n",
    "- latex \n",
    "- pdf\n",
    "- html\n",
    "- slides\n",
    "\n",
    "https://nbconvert.readthedocs.io/en/latest/install.html"
   ]
  },
  {
   "cell_type": "markdown",
   "id": "d5d85e51",
   "metadata": {
    "slideshow": {
     "slide_type": "slide"
    }
   },
   "source": [
    "# Slides"
   ]
  },
  {
   "cell_type": "markdown",
   "id": "692ebc4f",
   "metadata": {
    "slideshow": {
     "slide_type": "subslide"
    }
   },
   "source": [
    "Based on [reveal](https://revealjs.com/)"
   ]
  },
  {
   "cell_type": "markdown",
   "id": "48cc40ab",
   "metadata": {
    "slideshow": {
     "slide_type": "slide"
    }
   },
   "source": [
    "# RISE\n",
    "https://github.com/damianavila/RISE\n",
    "\n",
    "`conda install -c conda-forge rise`"
   ]
  },
  {
   "cell_type": "markdown",
   "id": "4be70ecf",
   "metadata": {
    "slideshow": {
     "slide_type": "slide"
    }
   },
   "source": [
    "# Voila\n",
    "https://github.com/damianavila/RISE\n",
    "\n",
    "`conda install -c conda-forge rise`"
   ]
  },
  {
   "cell_type": "markdown",
   "id": "45a16602",
   "metadata": {
    "slideshow": {
     "slide_type": "slide"
    }
   },
   "source": [
    "## Export \n",
    "`jupyter nbconvert Notebooks.ipynb Jupyter.ipynb --to slides --post serve  --SlidesExporter.reveal_theme=sky --SlidesExporter.reveal_scroll=True`"
   ]
  },
  {
   "cell_type": "markdown",
   "id": "1de1eeb6",
   "metadata": {
    "slideshow": {
     "slide_type": "slide"
    }
   },
   "source": [
    "# Jupyter Book"
   ]
  },
  {
   "cell_type": "markdown",
   "id": "598194b2",
   "metadata": {
    "cell_style": "split",
    "slideshow": {
     "slide_type": "subslide"
    }
   },
   "source": [
    "Jupyter Book is an open source project for building beautiful, publication-quality books and documents from computational material."
   ]
  },
  {
   "cell_type": "markdown",
   "id": "0dc947ac",
   "metadata": {
    "slideshow": {
     "slide_type": "slide"
    }
   },
   "source": [
    "# Jupyter Lab"
   ]
  },
  {
   "cell_type": "markdown",
   "id": "2ab5071f",
   "metadata": {
    "slideshow": {
     "slide_type": "slide"
    }
   },
   "source": [
    "# Criticism to the Notebook"
   ]
  },
  {
   "cell_type": "code",
   "execution_count": null,
   "id": "87ad1c50",
   "metadata": {},
   "outputs": [],
   "source": []
  }
 ],
 "metadata": {
  "celltoolbar": "Slideshow",
  "kernelspec": {
   "display_name": "Python 3 (ipykernel)",
   "language": "python",
   "name": "python3"
  },
  "language_info": {
   "codemirror_mode": {
    "name": "ipython",
    "version": 3
   },
   "file_extension": ".py",
   "mimetype": "text/x-python",
   "name": "python",
   "nbconvert_exporter": "python",
   "pygments_lexer": "ipython3",
   "version": "3.9.15"
  },
  "rise": {
   "autolaunch": true,
   "enable_chalkboard": "true",
   "footer": "<div class=\"sds-footer\"> *** Social Data Science (SDS) - Notions of Database Management Systems ***</div>",
   "header": "<div class=\"sds-header\"><div class=\"sds-header-image\"></div></div>",
   "scroll": true,
   "theme": "white"
  }
 },
 "nbformat": 4,
 "nbformat_minor": 5
}
