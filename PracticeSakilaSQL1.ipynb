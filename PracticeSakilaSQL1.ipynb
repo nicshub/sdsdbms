{
 "cells": [
  {
   "cell_type": "markdown",
   "id": "d996ec02",
   "metadata": {
    "id": "87a85ab9"
   },
   "source": [
    "# Sakila Database"
   ]
  },
  {
   "cell_type": "markdown",
   "id": "ab62046d",
   "metadata": {
    "id": "389dbb73"
   },
   "source": [
    "## Origin"
   ]
  },
  {
   "cell_type": "markdown",
   "id": "4373a0e7",
   "metadata": {
    "id": "57c2fe13"
   },
   "source": [
    "The Sakila sample database was initially developed by Mike Hillyer, a former member of the MySQL AB documentation team, and is intended to provide a standard schema that can be used for examples in books, tutorials, articles, samples, and so forth.\n",
    "\n",
    "https://dev.mysql.com/doc/sakila/en/"
   ]
  },
  {
   "cell_type": "markdown",
   "id": "70471663",
   "metadata": {
    "id": "c2eb2976"
   },
   "source": [
    "## Schema"
   ]
  },
  {
   "cell_type": "markdown",
   "id": "5e642ec4",
   "metadata": {
    "id": "29a636dd"
   },
   "source": [
    "![Image](https://raw.githubusercontent.com/nicshub/sakila-sqlite3/main/sakila.png)"
   ]
  },
  {
   "cell_type": "markdown",
   "id": "0fdc4565",
   "metadata": {
    "id": "2478587a"
   },
   "source": [
    "## SQLite"
   ]
  },
  {
   "cell_type": "markdown",
   "id": "7ccbc1b5",
   "metadata": {
    "id": "206a8c5d"
   },
   "source": [
    "SQLite is part of the operating system, library need to be installed according to the specific os."
   ]
  },
  {
   "cell_type": "markdown",
   "id": "d94177d2",
   "metadata": {
    "id": "6ef09117"
   },
   "source": [
    "## Google Colab"
   ]
  },
  {
   "cell_type": "markdown",
   "id": "42231dd1",
   "metadata": {
    "id": "277b3fb8"
   },
   "source": [
    "In Google Colab, based on linux container need to be installed"
   ]
  },
  {
   "cell_type": "code",
   "execution_count": null,
   "id": "c28b1b39",
   "metadata": {
    "colab": {
     "base_uri": "https://localhost:8080/"
    },
    "id": "aSUr5vnErn77",
    "outputId": "590493d0-226c-46b1-e428-8bf0703b66ae"
   },
   "outputs": [],
   "source": [
    "!apt-get -y install sqlite3"
   ]
  },
  {
   "cell_type": "markdown",
   "id": "5f580588",
   "metadata": {
    "id": "L_1j75ilr30w"
   },
   "source": [
    "Let's check if it's installed"
   ]
  },
  {
   "cell_type": "code",
   "execution_count": null,
   "id": "09550ec7",
   "metadata": {
    "colab": {
     "base_uri": "https://localhost:8080/"
    },
    "id": "576b7fd1",
    "outputId": "867053aa-ebce-4217-fc3e-9b70fe7cfd71"
   },
   "outputs": [],
   "source": [
    "!sqlite3 -version"
   ]
  },
  {
   "cell_type": "markdown",
   "id": "1a6010f5",
   "metadata": {
    "id": "e9448237"
   },
   "source": [
    "## Get a database"
   ]
  },
  {
   "cell_type": "markdown",
   "id": "617e8edc",
   "metadata": {
    "id": "62d5e145"
   },
   "source": [
    "In this notebook we are going a port of Sakila for sqlite by Bradley Grant\n",
    "\n",
    "https://github.com/bradleygrant/sakila-sqlite3/"
   ]
  },
  {
   "cell_type": "code",
   "execution_count": null,
   "id": "2978e189",
   "metadata": {
    "colab": {
     "base_uri": "https://localhost:8080/"
    },
    "id": "5ba1fd64",
    "outputId": "132b038f-452b-4c95-e183-b26912ca5800"
   },
   "outputs": [],
   "source": [
    "# Delete\n",
    "!rm -f datasets/sakila*\n",
    "# Create Directory\n",
    "!mkdir -p datasets/\n",
    "# Get database\n",
    "!wget https://github.com/nicshub/sakila-sqlite3/raw/main/sakila_master.db -O datasets/sakila.db"
   ]
  },
  {
   "cell_type": "markdown",
   "id": "c9cf3c78",
   "metadata": {
    "id": "55a2ad7a"
   },
   "source": [
    "Let's see if it's created, we are going to use command line using two linux command\n",
    "1. file to see the file headers\n",
    "2. sqlite command line using pipe to avoid the \"prompt\""
   ]
  },
  {
   "cell_type": "code",
   "execution_count": null,
   "id": "78a62a9c",
   "metadata": {
    "colab": {
     "base_uri": "https://localhost:8080/"
    },
    "id": "kwqrDhDTtgmN",
    "outputId": "d3ff8f03-679c-440a-c226-f28c424b7299"
   },
   "outputs": [],
   "source": [
    "!file datasets/sakila.db"
   ]
  },
  {
   "cell_type": "code",
   "execution_count": null,
   "id": "e14b09be",
   "metadata": {
    "colab": {
     "base_uri": "https://localhost:8080/"
    },
    "id": "75a094b7",
    "outputId": "212dff6f-9368-4f85-c409-83a83bba37df"
   },
   "outputs": [],
   "source": [
    "!echo \".tables\" | sqlite3 datasets/sakila.db"
   ]
  },
  {
   "cell_type": "markdown",
   "id": "4f8cccd7",
   "metadata": {
    "id": "a01518e4"
   },
   "source": [
    "Please note the sakila.db it's created automatically by the command and it's the **database**"
   ]
  },
  {
   "cell_type": "markdown",
   "id": "20b40e1e",
   "metadata": {
    "id": "b1834be2"
   },
   "source": [
    "To check the entire schema (physical model), you can use the .schema command"
   ]
  },
  {
   "cell_type": "markdown",
   "id": "d188fff4",
   "metadata": {
    "id": "946c62cd"
   },
   "source": [
    "# Query the database in a notebook"
   ]
  },
  {
   "cell_type": "markdown",
   "id": "574e9ef3",
   "metadata": {
    "id": "5b6c9252"
   },
   "source": [
    "- iPython (and so Jupyter with Python kernek) offer a nice way to run python command without use the standard syntax [ref](https://ipython.readthedocs.io/en/stable/interactive/magics.html)"
   ]
  },
  {
   "cell_type": "markdown",
   "id": "ce4dd239",
   "metadata": {
    "id": "682360fb"
   },
   "source": [
    "There are two kinds of magics\n",
    "\n",
    "- line-oriented %\n",
    "- cell-oriented %%"
   ]
  },
  {
   "cell_type": "code",
   "execution_count": null,
   "id": "1e066279",
   "metadata": {
    "colab": {
     "base_uri": "https://localhost:8080/",
     "height": 225
    },
    "id": "9753fb74",
    "outputId": "8866e944-cd41-47ae-ba7f-5dd8f68ea480"
   },
   "outputs": [],
   "source": [
    "# List of built in magic commands\n",
    "%lsmagic"
   ]
  },
  {
   "cell_type": "markdown",
   "id": "af16baa9",
   "metadata": {
    "id": "6cb386dd"
   },
   "source": [
    "It's also possible to extend with new magic function and then load the module"
   ]
  },
  {
   "cell_type": "markdown",
   "id": "db4c3d21",
   "metadata": {
    "id": "305e7c66"
   },
   "source": [
    "## SQL Magic"
   ]
  },
  {
   "cell_type": "markdown",
   "id": "150718e1",
   "metadata": {
    "id": "cd351a7e"
   },
   "source": [
    "[ipython-sql](https://pypi.org/project/ipython-sql/) introduces the %sql magic function that can be used both for\n",
    "- single line queries (line magic %sql)\n",
    "- multiple lines (cell magic %%sql)"
   ]
  },
  {
   "cell_type": "markdown",
   "id": "d0a92240",
   "metadata": {
    "id": "ecfd5ad9"
   },
   "source": [
    "We will install using package installer for Python pip, directly in Jupyther using built-in function"
   ]
  },
  {
   "cell_type": "code",
   "execution_count": null,
   "id": "2720cb0a",
   "metadata": {
    "colab": {
     "base_uri": "https://localhost:8080/"
    },
    "id": "9de69f82",
    "outputId": "128102d9-4bd2-41fd-df19-49a7c5cc0e59"
   },
   "outputs": [],
   "source": [
    "%pip install ipython-sql"
   ]
  },
  {
   "cell_type": "markdown",
   "id": "24dd4810",
   "metadata": {
    "id": "1fa7be3d"
   },
   "source": [
    "## Loading the SQL Magic extension"
   ]
  },
  {
   "cell_type": "code",
   "execution_count": null,
   "id": "80b0bf6f",
   "metadata": {
    "id": "3822b0b1"
   },
   "outputs": [],
   "source": [
    "%load_ext sql"
   ]
  },
  {
   "cell_type": "markdown",
   "id": "7094cbd9",
   "metadata": {
    "id": "81764564"
   },
   "source": [
    "## Connecting to the database"
   ]
  },
  {
   "cell_type": "code",
   "execution_count": null,
   "id": "4b2c6db7",
   "metadata": {
    "id": "ab692554"
   },
   "outputs": [],
   "source": [
    "%sql sqlite:///datasets/sakila.db"
   ]
  },
  {
   "cell_type": "markdown",
   "id": "ba6b6b72",
   "metadata": {
    "id": "y8AvqyYSwoCe"
   },
   "source": [
    "Let's check if we are connected, just using the %sql magic commands"
   ]
  },
  {
   "cell_type": "code",
   "execution_count": null,
   "id": "a5321b97",
   "metadata": {
    "colab": {
     "base_uri": "https://localhost:8080/"
    },
    "id": "F5-_771ZwuB6",
    "outputId": "42371b2e-76bc-47f5-a350-bbac5241b0cb"
   },
   "outputs": [],
   "source": [
    "%sql"
   ]
  },
  {
   "cell_type": "markdown",
   "id": "0c8fe0b0",
   "metadata": {
    "id": "S0a1z9xNw74T"
   },
   "source": [
    "# Let's start learning by doing\n",
    "\n",
    "for sake of visibility we will conclude queries with LIMIT 10 to limit the result set"
   ]
  },
  {
   "cell_type": "markdown",
   "id": "1f523436",
   "metadata": {
    "id": "m84tWJyKxXN3"
   },
   "source": [
    "## Select from a single table"
   ]
  },
  {
   "cell_type": "markdown",
   "id": "e418ff79",
   "metadata": {
    "id": "xvHz-g6-x0qX"
   },
   "source": [
    "*Exercize*: Get the name of the film category"
   ]
  },
  {
   "cell_type": "code",
   "execution_count": null,
   "id": "3911723c",
   "metadata": {
    "colab": {
     "base_uri": "https://localhost:8080/",
     "height": 181
    },
    "id": "cDlP_Oqhyj4i",
    "outputId": "3acff8d2-3d27-4eaf-86ae-91954918ea49"
   },
   "outputs": [],
   "source": [
    "%%sql"
   ]
  },
  {
   "cell_type": "markdown",
   "id": "ae35a385",
   "metadata": {
    "id": "4eC_P47Ry6CU"
   },
   "source": [
    "*Exercize* Get first name and last name of actors"
   ]
  },
  {
   "cell_type": "code",
   "execution_count": null,
   "id": "6cb4d5c5",
   "metadata": {
    "colab": {
     "base_uri": "https://localhost:8080/",
     "height": 286
    },
    "id": "OcQtWW8xynp1",
    "outputId": "2915e76f-90f3-4bd9-c2b5-4abd8b5b929b"
   },
   "outputs": [],
   "source": [
    "%%sql"
   ]
  },
  {
   "cell_type": "markdown",
   "id": "03d154b3",
   "metadata": {
    "id": "6563a248"
   },
   "source": [
    "### Distinct values"
   ]
  },
  {
   "cell_type": "markdown",
   "id": "2039140b",
   "metadata": {
    "id": "0f18eeb5"
   },
   "source": [
    "*Exercize* : Get the distinct rating of the films"
   ]
  },
  {
   "cell_type": "code",
   "execution_count": null,
   "id": "a89dc794",
   "metadata": {
    "colab": {
     "base_uri": "https://localhost:8080/",
     "height": 181
    },
    "id": "a452e8f9",
    "outputId": "4beebe52-3d91-462b-e347-c4d500381674"
   },
   "outputs": [],
   "source": [
    "%%sql"
   ]
  },
  {
   "cell_type": "markdown",
   "id": "c4f01ecd",
   "metadata": {
    "id": "7b67117b"
   },
   "source": [
    "### All attributes (*)"
   ]
  },
  {
   "cell_type": "markdown",
   "id": "c2b016a3",
   "metadata": {
    "id": "U8Xevr2YzWE0"
   },
   "source": [
    "*Exercize* Get all the attributes in the relation language"
   ]
  },
  {
   "cell_type": "code",
   "execution_count": null,
   "id": "7c0c9db3",
   "metadata": {
    "colab": {
     "base_uri": "https://localhost:8080/",
     "height": 202
    },
    "id": "MI-kOdJHzUje",
    "outputId": "54438dff-9faf-4048-b038-5e355b05d06b"
   },
   "outputs": [],
   "source": [
    "%%sql"
   ]
  },
  {
   "cell_type": "markdown",
   "id": "be9e2e7a",
   "metadata": {
    "id": "1afbb073"
   },
   "source": [
    "### Column aliases\n",
    "- In SQL it's possibile to define aliases for any attribute name\n",
    "- In Relational Algegra it's the ρ operation\n",
    "- The syntax it's simple just add \"as xyz\" after the attribute name, where xyz is the new name\n",
    "- Better no use spaces but only character, number, underscore. In case use quotes"
   ]
  },
  {
   "cell_type": "markdown",
   "id": "ea62c816",
   "metadata": {
    "id": "etN2_QuYzp_R"
   },
   "source": [
    "*Exercize* In the same relation, rename the \"name\" attribute into languagename"
   ]
  },
  {
   "cell_type": "code",
   "execution_count": null,
   "id": "c5a11485",
   "metadata": {
    "colab": {
     "base_uri": "https://localhost:8080/",
     "height": 202
    },
    "id": "2WAvNbVQzNju",
    "outputId": "2cd76caa-6250-4043-eaa1-2de17d952199"
   },
   "outputs": [],
   "source": [
    "%%sql"
   ]
  },
  {
   "cell_type": "markdown",
   "id": "012b2f36",
   "metadata": {
    "id": "57abfe06"
   },
   "source": [
    "### SQL Scalar function\n",
    "\n",
    "https://www.sqlite.org/lang_corefunc.html\n",
    "\n",
    "- SQL enables scalar function (i.e. returning a single value) based on attributes selected in the query\n",
    "- Operations need to be consistent with the data type of the attribute\n"
   ]
  },
  {
   "cell_type": "markdown",
   "id": "f60478e6",
   "metadata": {
    "id": "492eeada"
   },
   "source": [
    "## Simple expressions\n",
    "\n",
    "- Math function on numbers\n",
    "- Concatenation of Strings"
   ]
  },
  {
   "cell_type": "markdown",
   "id": "b7f43559",
   "metadata": {
    "id": "A2w7JNMF4g1E"
   },
   "source": [
    " *Exercize*: Get the total rent of a film computed as the product of rate * duration, include title and original value."
   ]
  },
  {
   "cell_type": "code",
   "execution_count": null,
   "id": "ab02dfa1",
   "metadata": {
    "colab": {
     "base_uri": "https://localhost:8080/",
     "height": 286
    },
    "id": "3c210db1",
    "outputId": "d27c93b4-7f8e-4e60-9b1d-a4c4e8a39dcc"
   },
   "outputs": [],
   "source": [
    "%%sql"
   ]
  },
  {
   "cell_type": "markdown",
   "id": "801db5b1",
   "metadata": {
    "id": "62de4ff2"
   },
   "source": [
    " *Exercize*: Get in a single attribute named full_name containing firstname, lastname of staff\n",
    "\n",
    " (Use operator || to concat two field)"
   ]
  },
  {
   "cell_type": "code",
   "execution_count": null,
   "id": "b0bdeb0b",
   "metadata": {
    "colab": {
     "base_uri": "https://localhost:8080/"
    },
    "id": "2b5fb2ff",
    "outputId": "1746e579-903b-4c52-d7d2-b391e1fab6a1"
   },
   "outputs": [],
   "source": [
    "%%sql"
   ]
  },
  {
   "cell_type": "markdown",
   "id": "522ff65b",
   "metadata": {
    "id": "45d06caa"
   },
   "source": [
    "### Date time functions\n",
    "\n",
    "https://www.sqlite.org/lang_datefunc.html"
   ]
  },
  {
   "cell_type": "markdown",
   "id": "9c9bc525",
   "metadata": {
    "id": "1213851e"
   },
   "source": [
    " *Exercize*: Get the creation date of the customer in the yyyy-mm-dd format\n",
    "\n",
    "- Use strftime(format, attribute) to format the datetime field in the desidered format\n"
   ]
  },
  {
   "cell_type": "code",
   "execution_count": null,
   "id": "f6afab90",
   "metadata": {
    "colab": {
     "base_uri": "https://localhost:8080/",
     "height": 286
    },
    "id": "791db9b9",
    "outputId": "68001fe6-075d-4dce-8e3e-0fcea886eef8"
   },
   "outputs": [],
   "source": [
    "%%sql\n"
   ]
  },
  {
   "cell_type": "markdown",
   "id": "a6625378",
   "metadata": {
    "id": "756cbc3b"
   },
   "source": [
    " *Exercize*: Compute the difference between your birthdate and today\n",
    "\n",
    "- timediff function looks great but it's supported in SQLite >= 3.43\n",
    "- To compute difference in years we can take the date function and the date in 'yyyy-mm-dd' format\n",
    "- In SQLite no need to use FROM, it's reading from a dummy table"
   ]
  },
  {
   "cell_type": "code",
   "execution_count": null,
   "id": "fd9ebaf9",
   "metadata": {
    "colab": {
     "base_uri": "https://localhost:8080/",
     "height": 96
    },
    "id": "f5ab376b",
    "outputId": "7db44f04-b1e5-49e4-d7f9-c4070c21dca1"
   },
   "outputs": [],
   "source": [
    "%%sql"
   ]
  },
  {
   "cell_type": "markdown",
   "id": "f7ec17f0",
   "metadata": {
    "id": "e2d2a9c9"
   },
   "source": [
    "### CASE\n",
    "https://www.sqlite.org/lang_expr.html#case\n",
    "\n",
    "CASE in SQL implements the statement IF-THEN-ELSE"
   ]
  },
  {
   "cell_type": "markdown",
   "id": "b6a5435d",
   "metadata": {
    "id": "3b436e84"
   },
   "source": [
    "#### Case  base expression\n",
    "\n",
    "A expression is evaluated, if the when condition matches the result the correspondent then is the result.\n",
    "\n",
    "```sql\n",
    "CASE expr\n",
    "WHEN condition THEN value\n",
    "WHEN condition THEN value\n",
    "ELSE value\n",
    "END\n",
    "```"
   ]
  },
  {
   "cell_type": "markdown",
   "id": "0b099310",
   "metadata": {
    "id": "7886e870"
   },
   "source": [
    " *Exercize*: Categorize the film based on the duration, if it's less than 75 min it's a short, otherwise is a full-lenght"
   ]
  },
  {
   "cell_type": "code",
   "execution_count": null,
   "id": "6b8c14ae",
   "metadata": {
    "colab": {
     "base_uri": "https://localhost:8080/",
     "height": 286
    },
    "id": "f92cc883",
    "outputId": "2ad54bb1-98e0-4009-f08e-d3cb94319df3"
   },
   "outputs": [],
   "source": [
    "%%sql"
   ]
  },
  {
   "cell_type": "markdown",
   "id": "a0e9a750",
   "metadata": {
    "id": "ce14477c"
   },
   "source": [
    "#### Case without a base expression\n",
    "\n",
    "In this \"case\" all conditions are valuated until the first matches\n",
    "\n",
    "```sql\n",
    "CASE\n",
    "WHEN condition THEN value\n",
    "WHEN condition THEN value\n",
    "ELSE value\n",
    "END\n",
    "```"
   ]
  },
  {
   "cell_type": "markdown",
   "id": "d4d422c4",
   "metadata": {
    "id": "50b4674c"
   },
   "source": [
    " *Exercize*: Categorize the amount  of payment based on ranges:\n",
    " - [0,1]: 'cheap'\n",
    " - [1,5]: 'medium'\n",
    " - [5,-]: 'expensive'"
   ]
  },
  {
   "cell_type": "code",
   "execution_count": null,
   "id": "6da20189",
   "metadata": {
    "colab": {
     "base_uri": "https://localhost:8080/",
     "height": 286
    },
    "id": "06f59ecc",
    "outputId": "0baae6e1-8c13-43d7-8bf6-202c4decc458"
   },
   "outputs": [],
   "source": [
    "%%sql"
   ]
  },
  {
   "cell_type": "markdown",
   "id": "82466459",
   "metadata": {
    "id": "2567b332"
   },
   "source": [
    "### CAST\n",
    "https://www.sqlite.org/lang_expr.html#cast\n",
    "\n",
    "- In computer science, casting it's a procedure to change the data type\n",
    "- In SQL it's used to change the domain of an attribute in the result relation\n",
    "- Casting it's useful in two cases\n",
    "-- When the source data type is too generic, for example a string containing a number (this can be a design issue)\n",
    "-- When we need to work with different attributes, for example to count the number of digit in a number\n",
    "\n",
    "The syntax is CAST(expr as type-name)"
   ]
  },
  {
   "cell_type": "markdown",
   "id": "24076533",
   "metadata": {
    "id": "73db1044"
   },
   "source": [
    " *Exercize*: Convert the release_year in the movie relation into number"
   ]
  },
  {
   "cell_type": "code",
   "execution_count": null,
   "id": "e472c654",
   "metadata": {
    "colab": {
     "base_uri": "https://localhost:8080/",
     "height": 286
    },
    "id": "38c38dfe",
    "outputId": "f187362f-825b-4a1d-d297-66ba123eb482"
   },
   "outputs": [],
   "source": [
    "%%sql"
   ]
  },
  {
   "cell_type": "code",
   "execution_count": null,
   "id": "4a4f1dd5",
   "metadata": {
    "colab": {
     "base_uri": "https://localhost:8080/"
    },
    "id": "hS2BqB7VdR-g",
    "outputId": "82e10439-6a61-4e29-9132-30237d1b53b4"
   },
   "outputs": [],
   "source": [
    "!echo \".schema film\" | sqlite3 datasets/sakila.db"
   ]
  },
  {
   "cell_type": "markdown",
   "id": "008f7122",
   "metadata": {
    "id": "6b10001f"
   },
   "source": [
    " *Exercize*: Compute the number of characters of the rental_duration in the film   \n",
    "\n",
    " Use the scalar function length(X) to count the number of characters in a column"
   ]
  },
  {
   "cell_type": "code",
   "execution_count": null,
   "id": "b99742d2",
   "metadata": {
    "colab": {
     "base_uri": "https://localhost:8080/",
     "height": 286
    },
    "id": "f38b7428",
    "outputId": "76e1ec6b-0a26-4d09-8ed5-e6240a28ff11"
   },
   "outputs": [],
   "source": [
    "%%sql"
   ]
  },
  {
   "cell_type": "markdown",
   "id": "59249d63",
   "metadata": {
    "id": "119ff7af"
   },
   "source": [
    "### Aggregate functions (part 1)\n",
    "https://www.sqlite.org/lang_aggfunc.html"
   ]
  },
  {
   "cell_type": "markdown",
   "id": "c24208ca",
   "metadata": {
    "id": "79d9e3f6"
   },
   "source": [
    "- At this stage, without WHERE and GROUP BY aggregate functions apply on the entire table\n",
    "- Functions apply to attributes as parameter, also the \"\\*\" is used in a special case"
   ]
  },
  {
   "cell_type": "markdown",
   "id": "46f20768",
   "metadata": {
    "id": "c423aef2"
   },
   "source": [
    "#### COUNT\n",
    "- count(\\*): counts the number of tuples in the group\n",
    "- count(X): count the number of times the X is not NULL in the group\n",
    "- count(distinct(X)): as above, but removing duplicates"
   ]
  },
  {
   "cell_type": "markdown",
   "id": "e7667d42",
   "metadata": {
    "id": "05f1a18f"
   },
   "source": [
    " *Exercize*: Count the number of rentals in the Rental table"
   ]
  },
  {
   "cell_type": "code",
   "execution_count": null,
   "id": "94e99027",
   "metadata": {
    "colab": {
     "base_uri": "https://localhost:8080/",
     "height": 96
    },
    "id": "f701e034",
    "outputId": "edc6d450-6549-46a5-d4fa-5f2713267a56"
   },
   "outputs": [],
   "source": [
    "%%sql\n"
   ]
  },
  {
   "cell_type": "markdown",
   "id": "25af33db",
   "metadata": {
    "id": "54762dfa"
   },
   "source": [
    " *Exercize*: Count the number of return_date in the rental table"
   ]
  },
  {
   "cell_type": "code",
   "execution_count": null,
   "id": "e090d91c",
   "metadata": {
    "colab": {
     "base_uri": "https://localhost:8080/",
     "height": 96
    },
    "id": "51b644fa",
    "outputId": "49373af6-6e12-4eb6-a730-8ce67fa8bd5e"
   },
   "outputs": [],
   "source": [
    "%%sql\n"
   ]
  },
  {
   "cell_type": "markdown",
   "id": "79e86217",
   "metadata": {
    "id": "f85d92d2"
   },
   "source": [
    " *Exercize*: Count the number of distinct return_date in the rental table"
   ]
  },
  {
   "cell_type": "code",
   "execution_count": null,
   "id": "40c39692",
   "metadata": {
    "colab": {
     "base_uri": "https://localhost:8080/",
     "height": 96
    },
    "id": "b974e573",
    "outputId": "4baa16fa-435a-4b1f-8fc4-83c718e63bb7"
   },
   "outputs": [],
   "source": [
    "%%sql\n"
   ]
  },
  {
   "cell_type": "markdown",
   "id": "4da0af1a",
   "metadata": {
    "id": "ee93851e"
   },
   "source": [
    "#### MIN-MAX-AVG-SUM\n",
    "- min(X): minimum non-NULL value of all values in the group\n",
    "- max(X): maximum non-NULL value of all values in the group\n",
    "- avg(X): avg non-NULL value of all values in the group\n",
    "- sum(X): sum of non-NULL value of all values in the group\n",
    "\n",
    "Yes, they should be used for numbers"
   ]
  },
  {
   "cell_type": "markdown",
   "id": "b838a808",
   "metadata": {
    "id": "688c5e9c"
   },
   "source": [
    " *Exercize*: Get the min,max,avg,sum of the amount in the payment table"
   ]
  },
  {
   "cell_type": "code",
   "execution_count": null,
   "id": "7bd23e79",
   "metadata": {
    "colab": {
     "base_uri": "https://localhost:8080/",
     "height": 96
    },
    "id": "eab1950b",
    "outputId": "18850180-5760-4463-fda5-9713f989574d"
   },
   "outputs": [],
   "source": [
    "%%sql\n"
   ]
  },
  {
   "cell_type": "markdown",
   "id": "fc7e61c0",
   "metadata": {
    "id": "59d5ffe1"
   },
   "source": [
    "## Select from multiple tables"
   ]
  },
  {
   "cell_type": "markdown",
   "id": "01887d39",
   "metadata": {
    "id": "251c937d"
   },
   "source": [
    "### Product Cartesian (CROSS JOIN)"
   ]
  },
  {
   "cell_type": "markdown",
   "id": "6041aa09",
   "metadata": {
    "id": "2bdcb60b"
   },
   "source": [
    "- In Relational Algebra it's a binary operator X(A,B) or A X B\n",
    "\n",
    "Creates a new table where\n",
    "- the number of attributes it's the sum of the arity of the source relations\n",
    "- the number of tuples it's the product of the cardinality of the source relations\n",
    "\n",
    "In SQL it's possible to do in two equivalent ways:\n",
    "- FROM A,B\n",
    "- FROM A CROSS JOIN B"
   ]
  },
  {
   "cell_type": "markdown",
   "id": "195a7bd1",
   "metadata": {
    "id": "ec928a34"
   },
   "source": [
    " *Exercize*: Get the potential number of rental by combining the film and the customer tables"
   ]
  },
  {
   "cell_type": "code",
   "execution_count": null,
   "id": "3d86052d",
   "metadata": {
    "colab": {
     "base_uri": "https://localhost:8080/",
     "height": 96
    },
    "id": "3a04783d",
    "outputId": "0fc3c0c1-8e8d-4ef0-ac0c-bc988c5a8774"
   },
   "outputs": [],
   "source": [
    "%%sql\n"
   ]
  },
  {
   "cell_type": "markdown",
   "id": "504acc57",
   "metadata": {
    "id": "969aad01"
   },
   "source": [
    "### JOINS\n",
    "Join clauses are made by three parts\n",
    "- join operator: indicates which kind of join we are to use (natural, inner, outer, cross)\n",
    "- table (or sub query): the relation to be joined\n",
    "- join constraint: expression to define the condition of the join using \"on\" (\"using\" it's also an option but not always supported)\n",
    "\n",
    "The generic syntax is\n",
    "```sql\n",
    "FROM A kindofjoin JOIN B on A.col=B.col\n",
    "```"
   ]
  },
  {
   "cell_type": "markdown",
   "id": "6e49ceca",
   "metadata": {
    "id": "a896f399"
   },
   "source": [
    "#### Natural JOIN\n",
    "- Natural joins don't need \"on\""
   ]
  },
  {
   "cell_type": "markdown",
   "id": "bf275b55",
   "metadata": {
    "id": "cae4692c"
   },
   "source": [
    " *Exercize*: Get the list of cities and correspondent country"
   ]
  },
  {
   "cell_type": "code",
   "execution_count": null,
   "id": "8cf00d6d",
   "metadata": {
    "colab": {
     "base_uri": "https://localhost:8080/",
     "height": 96
    },
    "id": "9b454843",
    "outputId": "5610f895-c87d-4a53-bb9e-6d7980223d7d"
   },
   "outputs": [],
   "source": [
    "%%sql\n"
   ]
  },
  {
   "cell_type": "markdown",
   "id": "afacd74a",
   "metadata": {
    "id": "69c048bf"
   },
   "source": [
    "#### Inner JOIN\n",
    "- it's default join, che INNER can be omitted"
   ]
  },
  {
   "cell_type": "markdown",
   "id": "c30005f2",
   "metadata": {
    "id": "884dc63a"
   },
   "source": [
    " *Exercize*: Get the list of cities and correspondent country"
   ]
  },
  {
   "cell_type": "code",
   "execution_count": null,
   "id": "f177616f",
   "metadata": {
    "colab": {
     "base_uri": "https://localhost:8080/",
     "height": 286
    },
    "id": "942c97eb",
    "outputId": "a2d4c35b-0f53-4120-b91d-109eca719733"
   },
   "outputs": [],
   "source": [
    "%%sql\n"
   ]
  },
  {
   "cell_type": "markdown",
   "id": "695c659b",
   "metadata": {
    "id": "MmgbSzKCn9vn"
   },
   "source": [
    "Lista dei titoli dei film con i nomi delle categorie associate"
   ]
  },
  {
   "cell_type": "code",
   "execution_count": null,
   "id": "28b8dff5",
   "metadata": {
    "colab": {
     "base_uri": "https://localhost:8080/",
     "height": 286
    },
    "id": "xm-PhLm-n0X6",
    "outputId": "88ced8af-a11e-4f75-9668-1589349773d8"
   },
   "outputs": [],
   "source": [
    "%%sql\n",
    "\n"
   ]
  },
  {
   "cell_type": "markdown",
   "id": "dc349c57",
   "metadata": {
    "id": "JoVx6-QgqiQn"
   },
   "source": [
    "Lista dei titoli dei film con i nomi e cognomi degli attori"
   ]
  },
  {
   "cell_type": "code",
   "execution_count": null,
   "id": "262d4bb4",
   "metadata": {
    "colab": {
     "base_uri": "https://localhost:8080/",
     "height": 498
    },
    "id": "mKOyhQHFqwR1",
    "outputId": "8c15d802-6add-41e3-b483-3e9c0426b18e"
   },
   "outputs": [],
   "source": [
    "%%sql\n"
   ]
  },
  {
   "cell_type": "markdown",
   "id": "af74bb71",
   "metadata": {
    "id": "bELqBd9RsbjX"
   },
   "source": [
    "La lista dei titoli dei film noleggiati e dei relativi clienti con nome e cognome. Aggiungere l'importo pagato per il noleggio e il nome della persona dello staff che lo ha servito"
   ]
  },
  {
   "cell_type": "code",
   "execution_count": null,
   "id": "91fa0989",
   "metadata": {
    "colab": {
     "base_uri": "https://localhost:8080/",
     "height": 286
    },
    "id": "EK1D17Ixr67s",
    "outputId": "2eecf236-cd28-46d0-fed7-1dfa918fbc53"
   },
   "outputs": [],
   "source": [
    "%%sql\n"
   ]
  },
  {
   "cell_type": "markdown",
   "id": "cc39e974",
   "metadata": {
    "id": "b5478adc"
   },
   "source": [
    "#### Left/Right Outer JOIN\n",
    "- Join that include the left, right and both rows that don't match"
   ]
  },
  {
   "cell_type": "markdown",
   "id": "afa9a5b4",
   "metadata": {
    "id": "1f48df71"
   },
   "source": [
    " *Exercize*: Get the distinct language name and release year\n",
    "\n",
    " Hint: start from language l and use left join"
   ]
  },
  {
   "cell_type": "code",
   "execution_count": null,
   "id": "690f1749",
   "metadata": {
    "id": "1343125a"
   },
   "outputs": [],
   "source": [
    "%%sql"
   ]
  },
  {
   "cell_type": "markdown",
   "id": "783d6240",
   "metadata": {
    "id": "e1bce6e7"
   },
   "source": [
    "### WHERE\n",
    "- WHERE expressions are evalauted for each row in the input data (FROM)\n",
    "- if the row satisfies the where condition is added into the result set\n",
    "- in a inner-cross join constraints can be expressed both in \"on\" and in \"where\" (ihmo in join it's more readable)\n",
    "- in left-right join the \"on\" adds rows in the result while in the where they can be filtered\n",
    "The generic syntax is\n",
    "```sql\n",
    "WHERE\n",
    "(x = y or z < w) and ...\n",
    "```"
   ]
  },
  {
   "cell_type": "markdown",
   "id": "80c7a7a5",
   "metadata": {
    "id": "222d4c95"
   },
   "source": [
    " *Exercize*: Select the title, description, rating, movie length columns from the films table that last 3 hours or longer."
   ]
  },
  {
   "cell_type": "code",
   "execution_count": null,
   "id": "b97b102d",
   "metadata": {
    "id": "afadcc8b"
   },
   "outputs": [],
   "source": [
    "%%sql"
   ]
  },
  {
   "cell_type": "markdown",
   "id": "87940475",
   "metadata": {
    "id": "a40572d6"
   },
   "source": [
    " ### LIKE\n",
    " https://www.sqlite.org/lang_expr.html#the_like_glob_regexp_match_and_extract_operators\n",
    "\n",
    "```sql\n",
    "WHERE\n",
    "x LIKE pattern\n",
    "```\n",
    " - it's pattern matching comparison between a value and a pattern\n",
    " - pattern can contain string and % to indicate anysequence or _ to indicate a single char"
   ]
  },
  {
   "cell_type": "markdown",
   "id": "b752e0dd",
   "metadata": {
    "id": "89e25226"
   },
   "source": [
    " *Exercize*: Select the actors with first name starting with A"
   ]
  },
  {
   "cell_type": "code",
   "execution_count": null,
   "id": "9a2c020f",
   "metadata": {
    "id": "8899140b"
   },
   "outputs": [],
   "source": [
    "%%sql"
   ]
  },
  {
   "cell_type": "markdown",
   "id": "e0920fb4",
   "metadata": {
    "id": "da9d4194"
   },
   "source": [
    " *Exercize*: Select the actors with last name of 3 characters"
   ]
  },
  {
   "cell_type": "code",
   "execution_count": null,
   "id": "b8a7d40c",
   "metadata": {
    "id": "2366db78"
   },
   "outputs": [],
   "source": [
    "%%sql"
   ]
  },
  {
   "cell_type": "markdown",
   "id": "d5acfdaa",
   "metadata": {
    "id": "3e5df418"
   },
   "source": [
    " ### BETWEEN\n",
    "The BETWEEN operator is logically equivalent to a pair of comparisons. \"x BETWEEN y AND z\" is equivalent to \"x>=y AND x<=z\" except that with BETWEEN, the x expression is only evaluated once.\n"
   ]
  },
  {
   "cell_type": "markdown",
   "id": "4a41c3a3",
   "metadata": {
    "id": "c4a6a62c"
   },
   "source": [
    " *Exercize*: Select the rental returned in September 2005"
   ]
  },
  {
   "cell_type": "code",
   "execution_count": null,
   "id": "ddd48d2b",
   "metadata": {
    "id": "e859f581"
   },
   "outputs": [],
   "source": [
    "%%sql"
   ]
  },
  {
   "cell_type": "markdown",
   "id": "0bb3d614",
   "metadata": {
    "id": "a4a76c4d"
   },
   "source": [
    " ### IN (NOT) IN\n",
    "\n",
    " - The IN and NOT IN operators take an expression on the left and a list of values or a subquery on the right\n",
    " - The right operand can be a sub query, i.e. a query returning the same columns as the left operand\n",
    "\n",
    " ```sql\n",
    "WHERE\n",
    "x in (a,b,c)\n",
    "...\n",
    "x in (select x from table)\n",
    "```"
   ]
  },
  {
   "cell_type": "markdown",
   "id": "c2a16df9",
   "metadata": {
    "id": "d997c2d1"
   },
   "source": [
    " *Exercize*: Select the movies with category Action and Animation\n",
    "\n",
    " Hint: Use join to navigate the many to many relationship between FILM and CATEGORY"
   ]
  },
  {
   "cell_type": "code",
   "execution_count": null,
   "id": "10424ed1",
   "metadata": {
    "id": "bc71e610"
   },
   "outputs": [],
   "source": [
    "%%sql"
   ]
  },
  {
   "cell_type": "markdown",
   "id": "42e136c2",
   "metadata": {
    "id": "c47fec1d"
   },
   "source": [
    " *Exercize*: Get the customer with same name of an actor"
   ]
  },
  {
   "cell_type": "code",
   "execution_count": null,
   "id": "18ef9faa",
   "metadata": {
    "id": "aeb51c2f"
   },
   "outputs": [],
   "source": [
    "%%sql"
   ]
  },
  {
   "cell_type": "markdown",
   "id": "c40c755d",
   "metadata": {
    "id": "d9974067"
   },
   "source": [
    " *Exercize*: Get the customer with same name and first name of an actor"
   ]
  },
  {
   "cell_type": "code",
   "execution_count": null,
   "id": "0b5af89c",
   "metadata": {
    "id": "78fd0877"
   },
   "outputs": [],
   "source": [
    "%%sql"
   ]
  },
  {
   "cell_type": "markdown",
   "id": "9724bd7c",
   "metadata": {
    "id": "e87b7e10"
   },
   "source": [
    "### GROUP BY\n",
    "- Partition result set into groups, based on values on attributes\n",
    "- Typically grouping is coupled with aggregate functions\n",
    "- and attributes in group by are present in the select\n",
    "\n",
    "The generic syntax is\n",
    "```sql\n",
    "select x,y, f()\n",
    "GROUP BY x,y\n",
    "```"
   ]
  },
  {
   "cell_type": "markdown",
   "id": "f8c75f86",
   "metadata": {
    "id": "f1a1154f"
   },
   "source": [
    " *Exercize*: Sum the amount of payments for rental made by customers"
   ]
  },
  {
   "cell_type": "code",
   "execution_count": null,
   "id": "5c771200",
   "metadata": {
    "id": "fff52b5c"
   },
   "outputs": [],
   "source": [
    "%%sql"
   ]
  },
  {
   "cell_type": "markdown",
   "id": "5b49eb92",
   "metadata": {
    "id": "6f7a5d7b"
   },
   "source": [
    " *Exercize*:"
   ]
  },
  {
   "cell_type": "markdown",
   "id": "7c85cc52",
   "metadata": {
    "id": "33d65ee1"
   },
   "source": [
    "### HAVING\n",
    "- Having filters the rows result sets based on aggregate groups\n",
    "- It's similar to WHERE but it's executed in another stage of process, after groups are created\n",
    "```sql\n",
    "GROUP BY\n",
    "x, y\n",
    "HAVING f(x)>z\n",
    "```"
   ]
  },
  {
   "cell_type": "markdown",
   "id": "3f0df1e4",
   "metadata": {
    "id": "19cbcda9"
   },
   "source": [
    " *Exercize*: Sum the amount of payments for rental made by customers that have done at lease 30 rentals"
   ]
  },
  {
   "cell_type": "code",
   "execution_count": null,
   "id": "0671a8c7",
   "metadata": {
    "id": "a377b7fc"
   },
   "outputs": [],
   "source": [
    "%%sql"
   ]
  },
  {
   "cell_type": "markdown",
   "id": "162fa11e",
   "metadata": {
    "id": "76045f2a"
   },
   "source": [
    "### ORDER BY\n",
    "- Sort result set according to criteria\n",
    "- Multiple criteria can be combined using ,\n",
    "- Include calculated attributes like aggregrations\n",
    "\n",
    "The generic syntax is\n",
    "```sql\n",
    "ORDER BY\n",
    "x (asc/desc)\n",
    "```"
   ]
  },
  {
   "cell_type": "markdown",
   "id": "7ec88221",
   "metadata": {
    "id": "88cd5e8b"
   },
   "source": [
    " *Exercize*: Get the longest movies"
   ]
  },
  {
   "cell_type": "code",
   "execution_count": null,
   "id": "0576b4b2",
   "metadata": {
    "id": "1037072a"
   },
   "outputs": [],
   "source": [
    "%%sql"
   ]
  },
  {
   "cell_type": "markdown",
   "id": "a8707529",
   "metadata": {
    "id": "56fed04d"
   },
   "source": [
    "### UNION\n",
    "The generic syntax is\n",
    "```sql\n",
    "select a from x\n",
    "union\n",
    "select b from y\n",
    "```"
   ]
  },
  {
   "cell_type": "markdown",
   "id": "a035d319",
   "metadata": {
    "id": "a79d6bd7"
   },
   "source": [
    " *Exercize*: Get all the first_name, last_name of actors and customers"
   ]
  },
  {
   "cell_type": "code",
   "execution_count": null,
   "id": "6ac7572e",
   "metadata": {
    "id": "0106abe4"
   },
   "outputs": [],
   "source": [
    "%%sql"
   ]
  },
  {
   "cell_type": "markdown",
   "id": "203390d6",
   "metadata": {
    "id": "1b2091c0"
   },
   "source": [
    "### EXCEPT\n",
    "The generic syntax is\n",
    "```sql\n",
    "select a from x\n",
    "EXCEPT\n",
    "select b from y\n",
    "```"
   ]
  },
  {
   "cell_type": "markdown",
   "id": "172c88fa",
   "metadata": {
    "id": "3be3117d"
   },
   "source": [
    " *Exercize*: Get all the first_name, last_name of actors not equal to customers"
   ]
  },
  {
   "cell_type": "code",
   "execution_count": null,
   "id": "8a8ebd9e",
   "metadata": {
    "id": "7ae82281"
   },
   "outputs": [],
   "source": [
    "%%sql"
   ]
  },
  {
   "cell_type": "markdown",
   "id": "cb065e67",
   "metadata": {
    "id": "f74211b1"
   },
   "source": [
    "### INTERSECT\n",
    "The generic syntax is\n",
    "```sql\n",
    "select a from x\n",
    "INTERSECT\n",
    "select b from y\n",
    "```"
   ]
  },
  {
   "cell_type": "markdown",
   "id": "802a77cb",
   "metadata": {
    "id": "0a6de98d"
   },
   "source": [
    " *Exercize*: Get the longest movies"
   ]
  },
  {
   "cell_type": "code",
   "execution_count": null,
   "id": "43bab30c",
   "metadata": {
    "id": "7d42666c"
   },
   "outputs": [],
   "source": [
    "%%sql"
   ]
  }
 ],
 "metadata": {
  "celltoolbar": "Slideshow",
  "colab": {
   "provenance": []
  },
  "kernelspec": {
   "display_name": "Python 3 (ipykernel)",
   "language": "python",
   "name": "python3"
  },
  "language_info": {
   "codemirror_mode": {
    "name": "ipython",
    "version": 3
   },
   "file_extension": ".py",
   "mimetype": "text/x-python",
   "name": "python",
   "nbconvert_exporter": "python",
   "pygments_lexer": "ipython3",
   "version": "3.10.12"
  },
  "rise": {
   "autolaunch": true,
   "enable_chalkboard": "true",
   "footer": "<div class=\"sds-footer\"> *** Social Data Science (SDS) - Notions of Database Management Systems ***</div>",
   "header": "<div class=\"sds-header\"><div class=\"sds-header-image\"></div></div>",
   "scroll": true,
   "theme": "white"
  }
 },
 "nbformat": 4,
 "nbformat_minor": 5
}
