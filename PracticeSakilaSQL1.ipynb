{
  "cells": [
    {
      "cell_type": "markdown",
      "id": "87a85ab9",
      "metadata": {
        "id": "87a85ab9"
      },
      "source": [
        "# Sakila Database"
      ]
    },
    {
      "cell_type": "markdown",
      "id": "389dbb73",
      "metadata": {
        "id": "389dbb73"
      },
      "source": [
        "## Origin"
      ]
    },
    {
      "cell_type": "markdown",
      "id": "57c2fe13",
      "metadata": {
        "id": "57c2fe13"
      },
      "source": [
        "The Sakila sample database was initially developed by Mike Hillyer, a former member of the MySQL AB documentation team, and is intended to provide a standard schema that can be used for examples in books, tutorials, articles, samples, and so forth.\n",
        "\n",
        "https://dev.mysql.com/doc/sakila/en/"
      ]
    },
    {
      "cell_type": "markdown",
      "id": "c2eb2976",
      "metadata": {
        "id": "c2eb2976"
      },
      "source": [
        "## Schema"
      ]
    },
    {
      "cell_type": "markdown",
      "id": "29a636dd",
      "metadata": {
        "id": "29a636dd"
      },
      "source": [
        "![Image](https://raw.githubusercontent.com/nicshub/sakila-sqlite3/main/sakila.png)"
      ]
    },
    {
      "cell_type": "markdown",
      "id": "2478587a",
      "metadata": {
        "id": "2478587a"
      },
      "source": [
        "## SQLite"
      ]
    },
    {
      "cell_type": "markdown",
      "id": "206a8c5d",
      "metadata": {
        "id": "206a8c5d"
      },
      "source": [
        "SQLite is part of the operating system, library need to be installed according to the specific os."
      ]
    },
    {
      "cell_type": "markdown",
      "id": "6ef09117",
      "metadata": {
        "id": "6ef09117"
      },
      "source": [
        "## Google Colab"
      ]
    },
    {
      "cell_type": "markdown",
      "id": "277b3fb8",
      "metadata": {
        "id": "277b3fb8"
      },
      "source": [
        "In Google Colab, based on linux container need to be installed"
      ]
    },
    {
      "cell_type": "code",
      "execution_count": 1,
      "id": "aSUr5vnErn77",
      "metadata": {
        "colab": {
          "base_uri": "https://localhost:8080/"
        },
        "id": "aSUr5vnErn77",
        "outputId": "590493d0-226c-46b1-e428-8bf0703b66ae"
      },
      "outputs": [
        {
          "output_type": "stream",
          "name": "stdout",
          "text": [
            "Reading package lists... Done\n",
            "Building dependency tree... Done\n",
            "Reading state information... Done\n",
            "Suggested packages:\n",
            "  sqlite3-doc\n",
            "The following NEW packages will be installed:\n",
            "  sqlite3\n",
            "0 upgraded, 1 newly installed, 0 to remove and 33 not upgraded.\n",
            "Need to get 768 kB of archives.\n",
            "After this operation, 1,873 kB of additional disk space will be used.\n",
            "Get:1 http://archive.ubuntu.com/ubuntu jammy-updates/main amd64 sqlite3 amd64 3.37.2-2ubuntu0.3 [768 kB]\n",
            "Fetched 768 kB in 0s (2,116 kB/s)\n",
            "Selecting previously unselected package sqlite3.\n",
            "(Reading database ... 121749 files and directories currently installed.)\n",
            "Preparing to unpack .../sqlite3_3.37.2-2ubuntu0.3_amd64.deb ...\n",
            "Unpacking sqlite3 (3.37.2-2ubuntu0.3) ...\n",
            "Setting up sqlite3 (3.37.2-2ubuntu0.3) ...\n",
            "Processing triggers for man-db (2.10.2-1) ...\n"
          ]
        }
      ],
      "source": [
        "!apt-get -y install sqlite3"
      ]
    },
    {
      "cell_type": "markdown",
      "id": "L_1j75ilr30w",
      "metadata": {
        "id": "L_1j75ilr30w"
      },
      "source": [
        "Let's check if it's installed"
      ]
    },
    {
      "cell_type": "code",
      "execution_count": 2,
      "id": "576b7fd1",
      "metadata": {
        "colab": {
          "base_uri": "https://localhost:8080/"
        },
        "id": "576b7fd1",
        "outputId": "867053aa-ebce-4217-fc3e-9b70fe7cfd71"
      },
      "outputs": [
        {
          "output_type": "stream",
          "name": "stdout",
          "text": [
            "3.37.2 2022-01-06 13:25:41 872ba256cbf61d9290b571c0e6d82a20c224ca3ad82971edc46b29818d5dalt1\n"
          ]
        }
      ],
      "source": [
        "!sqlite3 -version"
      ]
    },
    {
      "cell_type": "markdown",
      "id": "e9448237",
      "metadata": {
        "id": "e9448237"
      },
      "source": [
        "## Get a database"
      ]
    },
    {
      "cell_type": "markdown",
      "id": "62d5e145",
      "metadata": {
        "id": "62d5e145"
      },
      "source": [
        "In this notebook we are going a port of Sakila for sqlite by Bradley Grant\n",
        "\n",
        "https://github.com/bradleygrant/sakila-sqlite3/"
      ]
    },
    {
      "cell_type": "code",
      "execution_count": 3,
      "id": "5ba1fd64",
      "metadata": {
        "colab": {
          "base_uri": "https://localhost:8080/"
        },
        "id": "5ba1fd64",
        "outputId": "132b038f-452b-4c95-e183-b26912ca5800"
      },
      "outputs": [
        {
          "output_type": "stream",
          "name": "stdout",
          "text": [
            "--2024-02-16 08:55:30--  https://github.com/nicshub/sakila-sqlite3/raw/main/sakila_master.db\n",
            "Resolving github.com (github.com)... 140.82.112.4\n",
            "Connecting to github.com (github.com)|140.82.112.4|:443... connected.\n",
            "HTTP request sent, awaiting response... 302 Found\n",
            "Location: https://raw.githubusercontent.com/nicshub/sakila-sqlite3/main/sakila_master.db [following]\n",
            "--2024-02-16 08:55:30--  https://raw.githubusercontent.com/nicshub/sakila-sqlite3/main/sakila_master.db\n",
            "Resolving raw.githubusercontent.com (raw.githubusercontent.com)... 185.199.109.133, 185.199.108.133, 185.199.111.133, ...\n",
            "Connecting to raw.githubusercontent.com (raw.githubusercontent.com)|185.199.109.133|:443... connected.\n",
            "HTTP request sent, awaiting response... 200 OK\n",
            "Length: 5791744 (5.5M) [application/octet-stream]\n",
            "Saving to: ‘datasets/sakila.db’\n",
            "\n",
            "datasets/sakila.db  100%[===================>]   5.52M  --.-KB/s    in 0.1s    \n",
            "\n",
            "2024-02-16 08:55:31 (56.0 MB/s) - ‘datasets/sakila.db’ saved [5791744/5791744]\n",
            "\n"
          ]
        }
      ],
      "source": [
        "# Delete\n",
        "!rm -f datasets/sakila*\n",
        "# Create Directory\n",
        "!mkdir -p datasets/\n",
        "# Get database\n",
        "!wget https://github.com/nicshub/sakila-sqlite3/raw/main/sakila_master.db -O datasets/sakila.db"
      ]
    },
    {
      "cell_type": "markdown",
      "id": "55a2ad7a",
      "metadata": {
        "id": "55a2ad7a"
      },
      "source": [
        "Let's see if it's created, we are going to use command line using two linux command\n",
        "1. file to see the file headers\n",
        "2. sqlite command line using pipe to avoid the \"prompt\""
      ]
    },
    {
      "cell_type": "code",
      "execution_count": 4,
      "id": "kwqrDhDTtgmN",
      "metadata": {
        "colab": {
          "base_uri": "https://localhost:8080/"
        },
        "id": "kwqrDhDTtgmN",
        "outputId": "d3ff8f03-679c-440a-c226-f28c424b7299"
      },
      "outputs": [
        {
          "output_type": "stream",
          "name": "stdout",
          "text": [
            "datasets/sakila.db: SQLite 3.x database, last written using SQLite version 3011000, page size 1024, file counter 46364, database pages 5656, cookie 0x4b, schema 4, UTF-8, version-valid-for 46364\n"
          ]
        }
      ],
      "source": [
        "!file datasets/sakila.db"
      ]
    },
    {
      "cell_type": "code",
      "execution_count": 5,
      "id": "75a094b7",
      "metadata": {
        "colab": {
          "base_uri": "https://localhost:8080/"
        },
        "id": "75a094b7",
        "outputId": "212dff6f-9368-4f85-c409-83a83bba37df"
      },
      "outputs": [
        {
          "output_type": "stream",
          "name": "stdout",
          "text": [
            "actor                   film                    payment               \n",
            "address                 film_actor              rental                \n",
            "category                film_category           sales_by_film_category\n",
            "city                    film_list               sales_by_store        \n",
            "country                 film_text               staff                 \n",
            "customer                inventory               staff_list            \n",
            "customer_list           language                store                 \n"
          ]
        }
      ],
      "source": [
        "!echo \".tables\" | sqlite3 datasets/sakila.db"
      ]
    },
    {
      "cell_type": "markdown",
      "id": "a01518e4",
      "metadata": {
        "id": "a01518e4"
      },
      "source": [
        "Please note the sakila.db it's created automatically by the command and it's the **database**"
      ]
    },
    {
      "cell_type": "markdown",
      "id": "b1834be2",
      "metadata": {
        "id": "b1834be2"
      },
      "source": [
        "To check the entire schema (physical model), you can use the .schema command"
      ]
    },
    {
      "cell_type": "markdown",
      "id": "946c62cd",
      "metadata": {
        "id": "946c62cd"
      },
      "source": [
        "# Query the database in a notebook"
      ]
    },
    {
      "cell_type": "markdown",
      "id": "5b6c9252",
      "metadata": {
        "id": "5b6c9252"
      },
      "source": [
        "- iPython (and so Jupyter with Python kernek) offer a nice way to run python command without use the standard syntax [ref](https://ipython.readthedocs.io/en/stable/interactive/magics.html)"
      ]
    },
    {
      "cell_type": "markdown",
      "id": "682360fb",
      "metadata": {
        "id": "682360fb"
      },
      "source": [
        "There are two kinds of magics\n",
        "\n",
        "- line-oriented %\n",
        "- cell-oriented %%"
      ]
    },
    {
      "cell_type": "code",
      "execution_count": 6,
      "id": "9753fb74",
      "metadata": {
        "colab": {
          "base_uri": "https://localhost:8080/",
          "height": 225
        },
        "id": "9753fb74",
        "outputId": "8866e944-cd41-47ae-ba7f-5dd8f68ea480"
      },
      "outputs": [
        {
          "output_type": "execute_result",
          "data": {
            "text/plain": [
              "Available line magics:\n",
              "%alias  %alias_magic  %autoawait  %autocall  %automagic  %autosave  %bookmark  %cat  %cd  %clear  %colors  %conda  %config  %connect_info  %cp  %debug  %dhist  %dirs  %doctest_mode  %ed  %edit  %env  %gui  %hist  %history  %killbgscripts  %ldir  %less  %lf  %lk  %ll  %load  %load_ext  %loadpy  %logoff  %logon  %logstart  %logstate  %logstop  %ls  %lsmagic  %lx  %macro  %magic  %man  %matplotlib  %mkdir  %more  %mv  %notebook  %page  %pastebin  %pdb  %pdef  %pdoc  %pfile  %pinfo  %pinfo2  %pip  %popd  %pprint  %precision  %prun  %psearch  %psource  %pushd  %pwd  %pycat  %pylab  %qtconsole  %quickref  %recall  %rehashx  %reload_ext  %rep  %rerun  %reset  %reset_selective  %rm  %rmdir  %run  %save  %sc  %set_env  %shell  %store  %sx  %system  %tb  %tensorflow_version  %time  %timeit  %unalias  %unload_ext  %who  %who_ls  %whos  %xdel  %xmode\n",
              "\n",
              "Available cell magics:\n",
              "%%!  %%HTML  %%SVG  %%bash  %%bigquery  %%capture  %%debug  %%file  %%html  %%javascript  %%js  %%latex  %%markdown  %%perl  %%prun  %%pypy  %%python  %%python2  %%python3  %%ruby  %%script  %%sh  %%shell  %%svg  %%sx  %%system  %%time  %%timeit  %%writefile\n",
              "\n",
              "Automagic is ON, % prefix IS NOT needed for line magics."
            ],
            "application/json": {
              "line": {
                "automagic": "AutoMagics",
                "autocall": "AutoMagics",
                "alias_magic": "BasicMagics",
                "lsmagic": "BasicMagics",
                "magic": "BasicMagics",
                "page": "BasicMagics",
                "pprint": "BasicMagics",
                "colors": "BasicMagics",
                "xmode": "BasicMagics",
                "quickref": "BasicMagics",
                "doctest_mode": "BasicMagics",
                "gui": "BasicMagics",
                "precision": "BasicMagics",
                "notebook": "BasicMagics",
                "save": "CodeMagics",
                "pastebin": "CodeMagics",
                "loadpy": "CodeMagics",
                "load": "CodeMagics",
                "edit": "KernelMagics",
                "config": "ConfigMagics",
                "prun": "ExecutionMagics",
                "pdb": "ExecutionMagics",
                "debug": "ExecutionMagics",
                "tb": "ExecutionMagics",
                "run": "ExecutionMagics",
                "timeit": "ExecutionMagics",
                "time": "ExecutionMagics",
                "macro": "ExecutionMagics",
                "load_ext": "ExtensionMagics",
                "unload_ext": "ExtensionMagics",
                "reload_ext": "ExtensionMagics",
                "history": "HistoryMagics",
                "recall": "HistoryMagics",
                "rerun": "HistoryMagics",
                "logstart": "LoggingMagics",
                "logstop": "LoggingMagics",
                "logoff": "LoggingMagics",
                "logon": "LoggingMagics",
                "logstate": "LoggingMagics",
                "pinfo": "NamespaceMagics",
                "pinfo2": "NamespaceMagics",
                "pdef": "NamespaceMagics",
                "pdoc": "NamespaceMagics",
                "psource": "NamespaceMagics",
                "pfile": "NamespaceMagics",
                "psearch": "NamespaceMagics",
                "who_ls": "NamespaceMagics",
                "who": "NamespaceMagics",
                "whos": "NamespaceMagics",
                "reset": "NamespaceMagics",
                "reset_selective": "NamespaceMagics",
                "xdel": "NamespaceMagics",
                "alias": "OSMagics",
                "unalias": "OSMagics",
                "rehashx": "OSMagics",
                "pwd": "OSMagics",
                "cd": "OSMagics",
                "env": "OSMagics",
                "set_env": "OSMagics",
                "pushd": "OSMagics",
                "popd": "OSMagics",
                "dirs": "OSMagics",
                "dhist": "OSMagics",
                "sc": "OSMagics",
                "sx": "OSMagics",
                "system": "OSMagics",
                "bookmark": "OSMagics",
                "pycat": "OSMagics",
                "pip": "Other",
                "conda": "PackagingMagics",
                "matplotlib": "PylabMagics",
                "pylab": "PylabMagics",
                "killbgscripts": "ScriptMagics",
                "autoawait": "AsyncMagics",
                "ed": "Other",
                "hist": "Other",
                "rep": "Other",
                "clear": "KernelMagics",
                "less": "KernelMagics",
                "more": "KernelMagics",
                "man": "KernelMagics",
                "connect_info": "KernelMagics",
                "qtconsole": "KernelMagics",
                "autosave": "KernelMagics",
                "mkdir": "Other",
                "rmdir": "Other",
                "mv": "Other",
                "rm": "Other",
                "cp": "Other",
                "cat": "Other",
                "ls": "Other",
                "ll": "Other",
                "lf": "Other",
                "lk": "Other",
                "ldir": "Other",
                "lx": "Other",
                "store": "StoreMagics",
                "shell": "Other",
                "tensorflow_version": "Other"
              },
              "cell": {
                "js": "DisplayMagics",
                "javascript": "DisplayMagics",
                "latex": "DisplayMagics",
                "svg": "DisplayMagics",
                "html": "DisplayMagics",
                "markdown": "DisplayMagics",
                "prun": "ExecutionMagics",
                "debug": "ExecutionMagics",
                "timeit": "ExecutionMagics",
                "time": "ExecutionMagics",
                "capture": "ExecutionMagics",
                "sx": "OSMagics",
                "system": "OSMagics",
                "!": "OSMagics",
                "writefile": "OSMagics",
                "script": "ScriptMagics",
                "sh": "Other",
                "bash": "Other",
                "perl": "Other",
                "ruby": "Other",
                "python": "Other",
                "python2": "Other",
                "python3": "Other",
                "pypy": "Other",
                "SVG": "Other",
                "HTML": "Other",
                "file": "Other",
                "bigquery": "Other",
                "shell": "Other"
              }
            }
          },
          "metadata": {},
          "execution_count": 6
        }
      ],
      "source": [
        "# List of built in magic commands\n",
        "%lsmagic"
      ]
    },
    {
      "cell_type": "markdown",
      "id": "6cb386dd",
      "metadata": {
        "id": "6cb386dd"
      },
      "source": [
        "It's also possible to extend with new magic function and then load the module"
      ]
    },
    {
      "cell_type": "markdown",
      "id": "305e7c66",
      "metadata": {
        "id": "305e7c66"
      },
      "source": [
        "## SQL Magic"
      ]
    },
    {
      "cell_type": "markdown",
      "id": "cd351a7e",
      "metadata": {
        "id": "cd351a7e"
      },
      "source": [
        "[ipython-sql](https://pypi.org/project/ipython-sql/) introduces the %sql magic function that can be used both for\n",
        "- single line queries (line magic %sql)\n",
        "- multiple lines (cell magic %%sql)"
      ]
    },
    {
      "cell_type": "markdown",
      "id": "ecfd5ad9",
      "metadata": {
        "id": "ecfd5ad9"
      },
      "source": [
        "We will install using package installer for Python pip, directly in Jupyther using built-in function"
      ]
    },
    {
      "cell_type": "code",
      "execution_count": 7,
      "id": "9de69f82",
      "metadata": {
        "colab": {
          "base_uri": "https://localhost:8080/"
        },
        "id": "9de69f82",
        "outputId": "128102d9-4bd2-41fd-df19-49a7c5cc0e59"
      },
      "outputs": [
        {
          "output_type": "stream",
          "name": "stdout",
          "text": [
            "Requirement already satisfied: ipython-sql in /usr/local/lib/python3.10/dist-packages (0.5.0)\n",
            "Requirement already satisfied: prettytable in /usr/local/lib/python3.10/dist-packages (from ipython-sql) (3.9.0)\n",
            "Requirement already satisfied: ipython in /usr/local/lib/python3.10/dist-packages (from ipython-sql) (7.34.0)\n",
            "Requirement already satisfied: sqlalchemy>=2.0 in /usr/local/lib/python3.10/dist-packages (from ipython-sql) (2.0.27)\n",
            "Requirement already satisfied: sqlparse in /usr/local/lib/python3.10/dist-packages (from ipython-sql) (0.4.4)\n",
            "Requirement already satisfied: six in /usr/local/lib/python3.10/dist-packages (from ipython-sql) (1.16.0)\n",
            "Requirement already satisfied: ipython-genutils in /usr/local/lib/python3.10/dist-packages (from ipython-sql) (0.2.0)\n",
            "Requirement already satisfied: typing-extensions>=4.6.0 in /usr/local/lib/python3.10/dist-packages (from sqlalchemy>=2.0->ipython-sql) (4.9.0)\n",
            "Requirement already satisfied: greenlet!=0.4.17 in /usr/local/lib/python3.10/dist-packages (from sqlalchemy>=2.0->ipython-sql) (3.0.3)\n",
            "Requirement already satisfied: setuptools>=18.5 in /usr/local/lib/python3.10/dist-packages (from ipython->ipython-sql) (67.7.2)\n",
            "Collecting jedi>=0.16 (from ipython->ipython-sql)\n",
            "  Downloading jedi-0.19.1-py2.py3-none-any.whl (1.6 MB)\n",
            "\u001b[2K     \u001b[90m━━━━━━━━━━━━━━━━━━━━━━━━━━━━━━━━━━━━━━━━\u001b[0m \u001b[32m1.6/1.6 MB\u001b[0m \u001b[31m15.7 MB/s\u001b[0m eta \u001b[36m0:00:00\u001b[0m\n",
            "\u001b[?25hRequirement already satisfied: decorator in /usr/local/lib/python3.10/dist-packages (from ipython->ipython-sql) (4.4.2)\n",
            "Requirement already satisfied: pickleshare in /usr/local/lib/python3.10/dist-packages (from ipython->ipython-sql) (0.7.5)\n",
            "Requirement already satisfied: traitlets>=4.2 in /usr/local/lib/python3.10/dist-packages (from ipython->ipython-sql) (5.7.1)\n",
            "Requirement already satisfied: prompt-toolkit!=3.0.0,!=3.0.1,<3.1.0,>=2.0.0 in /usr/local/lib/python3.10/dist-packages (from ipython->ipython-sql) (3.0.43)\n",
            "Requirement already satisfied: pygments in /usr/local/lib/python3.10/dist-packages (from ipython->ipython-sql) (2.16.1)\n",
            "Requirement already satisfied: backcall in /usr/local/lib/python3.10/dist-packages (from ipython->ipython-sql) (0.2.0)\n",
            "Requirement already satisfied: matplotlib-inline in /usr/local/lib/python3.10/dist-packages (from ipython->ipython-sql) (0.1.6)\n",
            "Requirement already satisfied: pexpect>4.3 in /usr/local/lib/python3.10/dist-packages (from ipython->ipython-sql) (4.9.0)\n",
            "Requirement already satisfied: wcwidth in /usr/local/lib/python3.10/dist-packages (from prettytable->ipython-sql) (0.2.13)\n",
            "Requirement already satisfied: parso<0.9.0,>=0.8.3 in /usr/local/lib/python3.10/dist-packages (from jedi>=0.16->ipython->ipython-sql) (0.8.3)\n",
            "Requirement already satisfied: ptyprocess>=0.5 in /usr/local/lib/python3.10/dist-packages (from pexpect>4.3->ipython->ipython-sql) (0.7.0)\n",
            "Installing collected packages: jedi\n",
            "Successfully installed jedi-0.19.1\n"
          ]
        }
      ],
      "source": [
        "%pip install ipython-sql"
      ]
    },
    {
      "cell_type": "markdown",
      "id": "1fa7be3d",
      "metadata": {
        "id": "1fa7be3d"
      },
      "source": [
        "## Loading the SQL Magic extension"
      ]
    },
    {
      "cell_type": "code",
      "execution_count": 8,
      "id": "3822b0b1",
      "metadata": {
        "id": "3822b0b1"
      },
      "outputs": [],
      "source": [
        "%load_ext sql"
      ]
    },
    {
      "cell_type": "markdown",
      "id": "81764564",
      "metadata": {
        "id": "81764564"
      },
      "source": [
        "## Connecting to the database"
      ]
    },
    {
      "cell_type": "code",
      "execution_count": 9,
      "id": "ab692554",
      "metadata": {
        "id": "ab692554"
      },
      "outputs": [],
      "source": [
        "%sql sqlite:///datasets/sakila.db"
      ]
    },
    {
      "cell_type": "markdown",
      "id": "y8AvqyYSwoCe",
      "metadata": {
        "id": "y8AvqyYSwoCe"
      },
      "source": [
        "Let's check if we are connected, just using the %sql magic commands"
      ]
    },
    {
      "cell_type": "code",
      "execution_count": 10,
      "id": "F5-_771ZwuB6",
      "metadata": {
        "colab": {
          "base_uri": "https://localhost:8080/"
        },
        "id": "F5-_771ZwuB6",
        "outputId": "42371b2e-76bc-47f5-a350-bbac5241b0cb"
      },
      "outputs": [
        {
          "output_type": "stream",
          "name": "stdout",
          "text": [
            " * sqlite:///datasets/sakila.db\n"
          ]
        }
      ],
      "source": [
        "%sql"
      ]
    },
    {
      "cell_type": "markdown",
      "id": "S0a1z9xNw74T",
      "metadata": {
        "id": "S0a1z9xNw74T"
      },
      "source": [
        "# Let's start learning by doing\n",
        "\n",
        "for sake of visibility we will conclude queries with LIMIT 10 to limit the result set"
      ]
    },
    {
      "cell_type": "markdown",
      "id": "m84tWJyKxXN3",
      "metadata": {
        "id": "m84tWJyKxXN3"
      },
      "source": [
        "## Select from a single table"
      ]
    },
    {
      "cell_type": "markdown",
      "id": "xvHz-g6-x0qX",
      "metadata": {
        "id": "xvHz-g6-x0qX"
      },
      "source": [
        "*Exercize*: Get the name of the film category"
      ]
    },
    {
      "cell_type": "code",
      "execution_count": 12,
      "id": "cDlP_Oqhyj4i",
      "metadata": {
        "colab": {
          "base_uri": "https://localhost:8080/",
          "height": 181
        },
        "id": "cDlP_Oqhyj4i",
        "outputId": "3acff8d2-3d27-4eaf-86ae-91954918ea49"
      },
      "outputs": [
        {
          "output_type": "stream",
          "name": "stdout",
          "text": [
            " * sqlite:///datasets/sakila.db\n",
            "Done.\n"
          ]
        },
        {
          "output_type": "execute_result",
          "data": {
            "text/plain": [
              "[('Action',), ('Animation',), ('Children',), ('Classics',), ('Comedy',)]"
            ],
            "text/html": [
              "<table>\n",
              "    <thead>\n",
              "        <tr>\n",
              "            <th>name</th>\n",
              "        </tr>\n",
              "    </thead>\n",
              "    <tbody>\n",
              "        <tr>\n",
              "            <td>Action</td>\n",
              "        </tr>\n",
              "        <tr>\n",
              "            <td>Animation</td>\n",
              "        </tr>\n",
              "        <tr>\n",
              "            <td>Children</td>\n",
              "        </tr>\n",
              "        <tr>\n",
              "            <td>Classics</td>\n",
              "        </tr>\n",
              "        <tr>\n",
              "            <td>Comedy</td>\n",
              "        </tr>\n",
              "    </tbody>\n",
              "</table>"
            ]
          },
          "metadata": {},
          "execution_count": 12
        }
      ],
      "source": [
        "%%sql\n",
        "SELECT\n",
        "name\n",
        "FROM\n",
        "category\n",
        "limit 5\n"
      ]
    },
    {
      "cell_type": "markdown",
      "id": "4eC_P47Ry6CU",
      "metadata": {
        "id": "4eC_P47Ry6CU"
      },
      "source": [
        "*Exercize* Get first name and last name of actors"
      ]
    },
    {
      "cell_type": "code",
      "execution_count": 14,
      "id": "OcQtWW8xynp1",
      "metadata": {
        "colab": {
          "base_uri": "https://localhost:8080/",
          "height": 286
        },
        "id": "OcQtWW8xynp1",
        "outputId": "2915e76f-90f3-4bd9-c2b5-4abd8b5b929b"
      },
      "outputs": [
        {
          "output_type": "stream",
          "name": "stdout",
          "text": [
            " * sqlite:///datasets/sakila.db\n",
            "Done.\n"
          ]
        },
        {
          "output_type": "execute_result",
          "data": {
            "text/plain": [
              "[('PENELOPE', 'GUINESS'),\n",
              " ('NICK', 'WAHLBERG'),\n",
              " ('ED', 'CHASE'),\n",
              " ('JENNIFER', 'DAVIS'),\n",
              " ('JOHNNY', 'LOLLOBRIGIDA'),\n",
              " ('BETTE', 'NICHOLSON'),\n",
              " ('GRACE', 'MOSTEL'),\n",
              " ('MATTHEW', 'JOHANSSON'),\n",
              " ('JOE', 'SWANK'),\n",
              " ('CHRISTIAN', 'GABLE')]"
            ],
            "text/html": [
              "<table>\n",
              "    <thead>\n",
              "        <tr>\n",
              "            <th>first_name</th>\n",
              "            <th>last_name</th>\n",
              "        </tr>\n",
              "    </thead>\n",
              "    <tbody>\n",
              "        <tr>\n",
              "            <td>PENELOPE</td>\n",
              "            <td>GUINESS</td>\n",
              "        </tr>\n",
              "        <tr>\n",
              "            <td>NICK</td>\n",
              "            <td>WAHLBERG</td>\n",
              "        </tr>\n",
              "        <tr>\n",
              "            <td>ED</td>\n",
              "            <td>CHASE</td>\n",
              "        </tr>\n",
              "        <tr>\n",
              "            <td>JENNIFER</td>\n",
              "            <td>DAVIS</td>\n",
              "        </tr>\n",
              "        <tr>\n",
              "            <td>JOHNNY</td>\n",
              "            <td>LOLLOBRIGIDA</td>\n",
              "        </tr>\n",
              "        <tr>\n",
              "            <td>BETTE</td>\n",
              "            <td>NICHOLSON</td>\n",
              "        </tr>\n",
              "        <tr>\n",
              "            <td>GRACE</td>\n",
              "            <td>MOSTEL</td>\n",
              "        </tr>\n",
              "        <tr>\n",
              "            <td>MATTHEW</td>\n",
              "            <td>JOHANSSON</td>\n",
              "        </tr>\n",
              "        <tr>\n",
              "            <td>JOE</td>\n",
              "            <td>SWANK</td>\n",
              "        </tr>\n",
              "        <tr>\n",
              "            <td>CHRISTIAN</td>\n",
              "            <td>GABLE</td>\n",
              "        </tr>\n",
              "    </tbody>\n",
              "</table>"
            ]
          },
          "metadata": {},
          "execution_count": 14
        }
      ],
      "source": [
        "%%sql\n",
        "SELECT ALL\n",
        "first_name, last_name\n",
        "FROM\n",
        "actor\n",
        "limit 10"
      ]
    },
    {
      "cell_type": "markdown",
      "id": "6563a248",
      "metadata": {
        "id": "6563a248"
      },
      "source": [
        "### Distinct values"
      ]
    },
    {
      "cell_type": "markdown",
      "id": "0f18eeb5",
      "metadata": {
        "id": "0f18eeb5"
      },
      "source": [
        "*Exercize* : Get the distinct rating of the films"
      ]
    },
    {
      "cell_type": "code",
      "execution_count": 15,
      "id": "a452e8f9",
      "metadata": {
        "colab": {
          "base_uri": "https://localhost:8080/",
          "height": 181
        },
        "id": "a452e8f9",
        "outputId": "4beebe52-3d91-462b-e347-c4d500381674"
      },
      "outputs": [
        {
          "output_type": "stream",
          "name": "stdout",
          "text": [
            " * sqlite:///datasets/sakila.db\n",
            "Done.\n"
          ]
        },
        {
          "output_type": "execute_result",
          "data": {
            "text/plain": [
              "[('PG',), ('G',), ('NC-17',), ('PG-13',), ('R',)]"
            ],
            "text/html": [
              "<table>\n",
              "    <thead>\n",
              "        <tr>\n",
              "            <th>rating</th>\n",
              "        </tr>\n",
              "    </thead>\n",
              "    <tbody>\n",
              "        <tr>\n",
              "            <td>PG</td>\n",
              "        </tr>\n",
              "        <tr>\n",
              "            <td>G</td>\n",
              "        </tr>\n",
              "        <tr>\n",
              "            <td>NC-17</td>\n",
              "        </tr>\n",
              "        <tr>\n",
              "            <td>PG-13</td>\n",
              "        </tr>\n",
              "        <tr>\n",
              "            <td>R</td>\n",
              "        </tr>\n",
              "    </tbody>\n",
              "</table>"
            ]
          },
          "metadata": {},
          "execution_count": 15
        }
      ],
      "source": [
        "%%sql\n",
        "SELECT\n",
        "DISTINCT rating\n",
        "FROM\n",
        "film"
      ]
    },
    {
      "cell_type": "markdown",
      "id": "7b67117b",
      "metadata": {
        "id": "7b67117b"
      },
      "source": [
        "### All attributes (*)"
      ]
    },
    {
      "cell_type": "markdown",
      "id": "U8Xevr2YzWE0",
      "metadata": {
        "id": "U8Xevr2YzWE0"
      },
      "source": [
        "*Exercize* Get all the attributes in the relation language"
      ]
    },
    {
      "cell_type": "code",
      "execution_count": 16,
      "id": "MI-kOdJHzUje",
      "metadata": {
        "colab": {
          "base_uri": "https://localhost:8080/",
          "height": 202
        },
        "id": "MI-kOdJHzUje",
        "outputId": "54438dff-9faf-4048-b038-5e355b05d06b"
      },
      "outputs": [
        {
          "output_type": "stream",
          "name": "stdout",
          "text": [
            " * sqlite:///datasets/sakila.db\n",
            "Done.\n"
          ]
        },
        {
          "output_type": "execute_result",
          "data": {
            "text/plain": [
              "[(1, 'English', '2020-12-23 07:12:12'),\n",
              " (2, 'Italian', '2020-12-23 07:12:12'),\n",
              " (3, 'Japanese', '2020-12-23 07:12:12'),\n",
              " (4, 'Mandarin', '2020-12-23 07:12:12'),\n",
              " (5, 'French', '2020-12-23 07:12:12'),\n",
              " (6, 'German', '2020-12-23 07:12:12')]"
            ],
            "text/html": [
              "<table>\n",
              "    <thead>\n",
              "        <tr>\n",
              "            <th>language_id</th>\n",
              "            <th>name</th>\n",
              "            <th>last_update</th>\n",
              "        </tr>\n",
              "    </thead>\n",
              "    <tbody>\n",
              "        <tr>\n",
              "            <td>1</td>\n",
              "            <td>English</td>\n",
              "            <td>2020-12-23 07:12:12</td>\n",
              "        </tr>\n",
              "        <tr>\n",
              "            <td>2</td>\n",
              "            <td>Italian</td>\n",
              "            <td>2020-12-23 07:12:12</td>\n",
              "        </tr>\n",
              "        <tr>\n",
              "            <td>3</td>\n",
              "            <td>Japanese</td>\n",
              "            <td>2020-12-23 07:12:12</td>\n",
              "        </tr>\n",
              "        <tr>\n",
              "            <td>4</td>\n",
              "            <td>Mandarin</td>\n",
              "            <td>2020-12-23 07:12:12</td>\n",
              "        </tr>\n",
              "        <tr>\n",
              "            <td>5</td>\n",
              "            <td>French</td>\n",
              "            <td>2020-12-23 07:12:12</td>\n",
              "        </tr>\n",
              "        <tr>\n",
              "            <td>6</td>\n",
              "            <td>German</td>\n",
              "            <td>2020-12-23 07:12:12</td>\n",
              "        </tr>\n",
              "    </tbody>\n",
              "</table>"
            ]
          },
          "metadata": {},
          "execution_count": 16
        }
      ],
      "source": [
        "%%sql\n",
        "SELECT\n",
        "*\n",
        "FROM\n",
        "language"
      ]
    },
    {
      "cell_type": "markdown",
      "id": "1afbb073",
      "metadata": {
        "id": "1afbb073"
      },
      "source": [
        "### Column aliases\n",
        "- In SQL it's possibile to define aliases for any attribute name\n",
        "- In Relational Algegra it's the ρ operation\n",
        "- The syntax it's simple just add \"as xyz\" after the attribute name, where xyz is the new name\n",
        "- Better no use spaces but only character, number, underscore. In case use quotes"
      ]
    },
    {
      "cell_type": "markdown",
      "id": "etN2_QuYzp_R",
      "metadata": {
        "id": "etN2_QuYzp_R"
      },
      "source": [
        "*Exercize* In the same relation, rename the \"name\" attribute into languagename"
      ]
    },
    {
      "cell_type": "code",
      "execution_count": 18,
      "id": "2WAvNbVQzNju",
      "metadata": {
        "colab": {
          "base_uri": "https://localhost:8080/",
          "height": 202
        },
        "id": "2WAvNbVQzNju",
        "outputId": "2cd76caa-6250-4043-eaa1-2de17d952199"
      },
      "outputs": [
        {
          "output_type": "stream",
          "name": "stdout",
          "text": [
            " * sqlite:///datasets/sakila.db\n",
            "Done.\n"
          ]
        },
        {
          "output_type": "execute_result",
          "data": {
            "text/plain": [
              "[('English',),\n",
              " ('Italian',),\n",
              " ('Japanese',),\n",
              " ('Mandarin',),\n",
              " ('French',),\n",
              " ('German',)]"
            ],
            "text/html": [
              "<table>\n",
              "    <thead>\n",
              "        <tr>\n",
              "            <th>language name</th>\n",
              "        </tr>\n",
              "    </thead>\n",
              "    <tbody>\n",
              "        <tr>\n",
              "            <td>English</td>\n",
              "        </tr>\n",
              "        <tr>\n",
              "            <td>Italian</td>\n",
              "        </tr>\n",
              "        <tr>\n",
              "            <td>Japanese</td>\n",
              "        </tr>\n",
              "        <tr>\n",
              "            <td>Mandarin</td>\n",
              "        </tr>\n",
              "        <tr>\n",
              "            <td>French</td>\n",
              "        </tr>\n",
              "        <tr>\n",
              "            <td>German</td>\n",
              "        </tr>\n",
              "    </tbody>\n",
              "</table>"
            ]
          },
          "metadata": {},
          "execution_count": 18
        }
      ],
      "source": [
        "%%sql\n",
        "SELECT\n",
        "name as \"language name\"\n",
        "FROM\n",
        "language"
      ]
    },
    {
      "cell_type": "markdown",
      "id": "57abfe06",
      "metadata": {
        "id": "57abfe06"
      },
      "source": [
        "### SQL Scalar function\n",
        "\n",
        "https://www.sqlite.org/lang_corefunc.html\n",
        "\n",
        "- SQL enables scalar function (i.e. returning a single value) based on attributes selected in the query\n",
        "- Operations need to be consistent with the data type of the attribute\n"
      ]
    },
    {
      "cell_type": "markdown",
      "id": "492eeada",
      "metadata": {
        "id": "492eeada"
      },
      "source": [
        "## Simple expressions\n",
        "\n",
        "- Math function on numbers\n",
        "- Concatenation of Strings"
      ]
    },
    {
      "cell_type": "markdown",
      "id": "A2w7JNMF4g1E",
      "metadata": {
        "id": "A2w7JNMF4g1E"
      },
      "source": [
        " *Exercize*: Get the total rent of a film computed as the product of rate * duration, include title and original value."
      ]
    },
    {
      "cell_type": "code",
      "execution_count": 20,
      "id": "3c210db1",
      "metadata": {
        "colab": {
          "base_uri": "https://localhost:8080/",
          "height": 286
        },
        "id": "3c210db1",
        "outputId": "d27c93b4-7f8e-4e60-9b1d-a4c4e8a39dcc"
      },
      "outputs": [
        {
          "output_type": "stream",
          "name": "stdout",
          "text": [
            " * sqlite:///datasets/sakila.db\n",
            "Done.\n"
          ]
        },
        {
          "output_type": "execute_result",
          "data": {
            "text/plain": [
              "[('ACADEMY DINOSAUR', 5.9399999999999995, 6, 0.99),\n",
              " ('ACE GOLDFINGER', 14.97, 3, 4.99),\n",
              " ('ADAPTATION HOLES', 20.93, 7, 2.99),\n",
              " ('AFFAIR PREJUDICE', 14.950000000000001, 5, 2.99),\n",
              " ('AFRICAN EGG', 17.94, 6, 2.99),\n",
              " ('AGENT TRUMAN', 8.97, 3, 2.99),\n",
              " ('AIRPLANE SIERRA', 29.94, 6, 4.99),\n",
              " ('AIRPORT POLLOCK', 29.94, 6, 4.99),\n",
              " ('ALABAMA DEVIL', 8.97, 3, 2.99),\n",
              " ('ALADDIN CALENDAR', 29.94, 6, 4.99)]"
            ],
            "text/html": [
              "<table>\n",
              "    <thead>\n",
              "        <tr>\n",
              "            <th>title</th>\n",
              "            <th>rental_duration*rental_rate</th>\n",
              "            <th>rental_duration</th>\n",
              "            <th>rental_rate</th>\n",
              "        </tr>\n",
              "    </thead>\n",
              "    <tbody>\n",
              "        <tr>\n",
              "            <td>ACADEMY DINOSAUR</td>\n",
              "            <td>5.9399999999999995</td>\n",
              "            <td>6</td>\n",
              "            <td>0.99</td>\n",
              "        </tr>\n",
              "        <tr>\n",
              "            <td>ACE GOLDFINGER</td>\n",
              "            <td>14.97</td>\n",
              "            <td>3</td>\n",
              "            <td>4.99</td>\n",
              "        </tr>\n",
              "        <tr>\n",
              "            <td>ADAPTATION HOLES</td>\n",
              "            <td>20.93</td>\n",
              "            <td>7</td>\n",
              "            <td>2.99</td>\n",
              "        </tr>\n",
              "        <tr>\n",
              "            <td>AFFAIR PREJUDICE</td>\n",
              "            <td>14.950000000000001</td>\n",
              "            <td>5</td>\n",
              "            <td>2.99</td>\n",
              "        </tr>\n",
              "        <tr>\n",
              "            <td>AFRICAN EGG</td>\n",
              "            <td>17.94</td>\n",
              "            <td>6</td>\n",
              "            <td>2.99</td>\n",
              "        </tr>\n",
              "        <tr>\n",
              "            <td>AGENT TRUMAN</td>\n",
              "            <td>8.97</td>\n",
              "            <td>3</td>\n",
              "            <td>2.99</td>\n",
              "        </tr>\n",
              "        <tr>\n",
              "            <td>AIRPLANE SIERRA</td>\n",
              "            <td>29.94</td>\n",
              "            <td>6</td>\n",
              "            <td>4.99</td>\n",
              "        </tr>\n",
              "        <tr>\n",
              "            <td>AIRPORT POLLOCK</td>\n",
              "            <td>29.94</td>\n",
              "            <td>6</td>\n",
              "            <td>4.99</td>\n",
              "        </tr>\n",
              "        <tr>\n",
              "            <td>ALABAMA DEVIL</td>\n",
              "            <td>8.97</td>\n",
              "            <td>3</td>\n",
              "            <td>2.99</td>\n",
              "        </tr>\n",
              "        <tr>\n",
              "            <td>ALADDIN CALENDAR</td>\n",
              "            <td>29.94</td>\n",
              "            <td>6</td>\n",
              "            <td>4.99</td>\n",
              "        </tr>\n",
              "    </tbody>\n",
              "</table>"
            ]
          },
          "metadata": {},
          "execution_count": 20
        }
      ],
      "source": [
        "%%sql\n",
        "SELECT\n",
        "title,\n",
        "rental_duration*rental_rate,\n",
        "rental_duration,\n",
        "rental_rate\n",
        "FROM\n",
        "film\n",
        "limit 10"
      ]
    },
    {
      "cell_type": "markdown",
      "id": "62de4ff2",
      "metadata": {
        "id": "62de4ff2"
      },
      "source": [
        " *Exercize*: Get in a single attribute named full_name containing firstname, lastname of staff\n",
        "\n",
        " (Use operator || to concat two field)"
      ]
    },
    {
      "cell_type": "code",
      "execution_count": 24,
      "id": "2b5fb2ff",
      "metadata": {
        "colab": {
          "base_uri": "https://localhost:8080/"
        },
        "id": "2b5fb2ff",
        "outputId": "1746e579-903b-4c52-d7d2-b391e1fab6a1"
      },
      "outputs": [
        {
          "output_type": "stream",
          "name": "stdout",
          "text": [
            " * sqlite:///datasets/sakila.db\n",
            "(sqlite3.OperationalError) no such function: concat\n",
            "[SQL: select \n",
            "first_name, \n",
            "last_name,\n",
            "first_name || ' ' || last_name as fullname,\n",
            "concat(first_name,last_name) as fullnameconc\n",
            "from staff]\n",
            "(Background on this error at: https://sqlalche.me/e/20/e3q8)\n"
          ]
        }
      ],
      "source": [
        "%%sql\n",
        "select\n",
        "first_name,\n",
        "last_name,\n",
        "first_name || ' ' || last_name as fullname,\n",
        "concat(first_name,last_name) as fullnameconc\n",
        "from staff"
      ]
    },
    {
      "cell_type": "markdown",
      "id": "45d06caa",
      "metadata": {
        "id": "45d06caa"
      },
      "source": [
        "### Date time functions\n",
        "\n",
        "https://www.sqlite.org/lang_datefunc.html"
      ]
    },
    {
      "cell_type": "markdown",
      "id": "1213851e",
      "metadata": {
        "id": "1213851e"
      },
      "source": [
        " *Exercize*: Get the creation date of the customer in the yyyy-mm-dd format\n",
        "\n",
        "- Use strftime(format, attribute) to format the datetime field in the desidered format\n",
        ""
      ]
    },
    {
      "cell_type": "code",
      "execution_count": 28,
      "id": "791db9b9",
      "metadata": {
        "id": "791db9b9",
        "outputId": "68001fe6-075d-4dce-8e3e-0fcea886eef8",
        "colab": {
          "base_uri": "https://localhost:8080/",
          "height": 286
        }
      },
      "outputs": [
        {
          "output_type": "stream",
          "name": "stdout",
          "text": [
            " * sqlite:///datasets/sakila.db\n",
            "Done.\n"
          ]
        },
        {
          "output_type": "execute_result",
          "data": {
            "text/plain": [
              "[('2006-02-14 22:04:36.000', '2006-02-14'),\n",
              " ('2006-02-14 22:04:36.000', '2006-02-14'),\n",
              " ('2006-02-14 22:04:36.000', '2006-02-14'),\n",
              " ('2006-02-14 22:04:36.000', '2006-02-14'),\n",
              " ('2006-02-14 22:04:36.000', '2006-02-14'),\n",
              " ('2006-02-14 22:04:36.000', '2006-02-14'),\n",
              " ('2006-02-14 22:04:36.000', '2006-02-14'),\n",
              " ('2006-02-14 22:04:36.000', '2006-02-14'),\n",
              " ('2006-02-14 22:04:36.000', '2006-02-14'),\n",
              " ('2006-02-14 22:04:36.000', '2006-02-14')]"
            ],
            "text/html": [
              "<table>\n",
              "    <thead>\n",
              "        <tr>\n",
              "            <th>create_date</th>\n",
              "            <th>data</th>\n",
              "        </tr>\n",
              "    </thead>\n",
              "    <tbody>\n",
              "        <tr>\n",
              "            <td>2006-02-14 22:04:36.000</td>\n",
              "            <td>2006-02-14</td>\n",
              "        </tr>\n",
              "        <tr>\n",
              "            <td>2006-02-14 22:04:36.000</td>\n",
              "            <td>2006-02-14</td>\n",
              "        </tr>\n",
              "        <tr>\n",
              "            <td>2006-02-14 22:04:36.000</td>\n",
              "            <td>2006-02-14</td>\n",
              "        </tr>\n",
              "        <tr>\n",
              "            <td>2006-02-14 22:04:36.000</td>\n",
              "            <td>2006-02-14</td>\n",
              "        </tr>\n",
              "        <tr>\n",
              "            <td>2006-02-14 22:04:36.000</td>\n",
              "            <td>2006-02-14</td>\n",
              "        </tr>\n",
              "        <tr>\n",
              "            <td>2006-02-14 22:04:36.000</td>\n",
              "            <td>2006-02-14</td>\n",
              "        </tr>\n",
              "        <tr>\n",
              "            <td>2006-02-14 22:04:36.000</td>\n",
              "            <td>2006-02-14</td>\n",
              "        </tr>\n",
              "        <tr>\n",
              "            <td>2006-02-14 22:04:36.000</td>\n",
              "            <td>2006-02-14</td>\n",
              "        </tr>\n",
              "        <tr>\n",
              "            <td>2006-02-14 22:04:36.000</td>\n",
              "            <td>2006-02-14</td>\n",
              "        </tr>\n",
              "        <tr>\n",
              "            <td>2006-02-14 22:04:36.000</td>\n",
              "            <td>2006-02-14</td>\n",
              "        </tr>\n",
              "    </tbody>\n",
              "</table>"
            ]
          },
          "metadata": {},
          "execution_count": 28
        }
      ],
      "source": [
        "%%sql\n",
        "select\n",
        "create_date,\n",
        "strftime(\"%Y-%m-%d\", create_date) as data\n",
        "from customer limit 10\n"
      ]
    },
    {
      "cell_type": "markdown",
      "id": "756cbc3b",
      "metadata": {
        "id": "756cbc3b"
      },
      "source": [
        " *Exercize*: Compute the difference between your birthdate and today\n",
        "\n",
        "- timediff function looks great but it's supported in SQLite >= 3.43\n",
        "- To compute difference in years we can take the date function and the date in 'yyyy-mm-dd' format\n",
        "- In SQLite no need to use FROM, it's reading from a dummy table"
      ]
    },
    {
      "cell_type": "code",
      "execution_count": 30,
      "id": "f5ab376b",
      "metadata": {
        "id": "f5ab376b",
        "outputId": "7db44f04-b1e5-49e4-d7f9-c4070c21dca1",
        "colab": {
          "base_uri": "https://localhost:8080/",
          "height": 96
        }
      },
      "outputs": [
        {
          "output_type": "stream",
          "name": "stdout",
          "text": [
            " * sqlite:///datasets/sakila.db\n",
            "Done.\n"
          ]
        },
        {
          "output_type": "execute_result",
          "data": {
            "text/plain": [
              "[(49,)]"
            ],
            "text/html": [
              "<table>\n",
              "    <thead>\n",
              "        <tr>\n",
              "            <th>date()-date(&quot;1975-04-09&quot;)</th>\n",
              "        </tr>\n",
              "    </thead>\n",
              "    <tbody>\n",
              "        <tr>\n",
              "            <td>49</td>\n",
              "        </tr>\n",
              "    </tbody>\n",
              "</table>"
            ]
          },
          "metadata": {},
          "execution_count": 30
        }
      ],
      "source": [
        "%%sql\n",
        "SELECT date()-date(\"1975-04-09\")"
      ]
    },
    {
      "cell_type": "markdown",
      "id": "e2d2a9c9",
      "metadata": {
        "id": "e2d2a9c9"
      },
      "source": [
        "### CASE\n",
        "https://www.sqlite.org/lang_expr.html#case\n",
        "\n",
        "CASE in SQL implements the statement IF-THEN-ELSE"
      ]
    },
    {
      "cell_type": "markdown",
      "id": "3b436e84",
      "metadata": {
        "id": "3b436e84"
      },
      "source": [
        "#### Case  base expression\n",
        "\n",
        "A expression is evaluated, if the when condition matches the result the correspondent then is the result.\n",
        "\n",
        "```sql\n",
        "CASE expr\n",
        "WHEN condition THEN value\n",
        "WHEN condition THEN value\n",
        "ELSE value\n",
        "END\n",
        "```"
      ]
    },
    {
      "cell_type": "markdown",
      "id": "7886e870",
      "metadata": {
        "id": "7886e870"
      },
      "source": [
        " *Exercize*: Categorize the film based on the duration, if it's less than 75 min it's a short, otherwise is a full-lenght"
      ]
    },
    {
      "cell_type": "code",
      "execution_count": 33,
      "id": "f92cc883",
      "metadata": {
        "id": "f92cc883",
        "outputId": "2ad54bb1-98e0-4009-f08e-d3cb94319df3",
        "colab": {
          "base_uri": "https://localhost:8080/",
          "height": 286
        }
      },
      "outputs": [
        {
          "output_type": "stream",
          "name": "stdout",
          "text": [
            " * sqlite:///datasets/sakila.db\n",
            "Done.\n"
          ]
        },
        {
          "output_type": "execute_result",
          "data": {
            "text/plain": [
              "[('ACADEMY DINOSAUR', 86, 'Full'),\n",
              " ('ACE GOLDFINGER', 48, 'Short'),\n",
              " ('ADAPTATION HOLES', 50, 'Short'),\n",
              " ('AFFAIR PREJUDICE', 117, 'Full'),\n",
              " ('AFRICAN EGG', 130, 'Full'),\n",
              " ('AGENT TRUMAN', 169, 'Full'),\n",
              " ('AIRPLANE SIERRA', 62, 'Short'),\n",
              " ('AIRPORT POLLOCK', 54, 'Short'),\n",
              " ('ALABAMA DEVIL', 114, 'Full'),\n",
              " ('ALADDIN CALENDAR', 63, 'Short')]"
            ],
            "text/html": [
              "<table>\n",
              "    <thead>\n",
              "        <tr>\n",
              "            <th>title</th>\n",
              "            <th>length</th>\n",
              "            <th>Duration Classification</th>\n",
              "        </tr>\n",
              "    </thead>\n",
              "    <tbody>\n",
              "        <tr>\n",
              "            <td>ACADEMY DINOSAUR</td>\n",
              "            <td>86</td>\n",
              "            <td>Full</td>\n",
              "        </tr>\n",
              "        <tr>\n",
              "            <td>ACE GOLDFINGER</td>\n",
              "            <td>48</td>\n",
              "            <td>Short</td>\n",
              "        </tr>\n",
              "        <tr>\n",
              "            <td>ADAPTATION HOLES</td>\n",
              "            <td>50</td>\n",
              "            <td>Short</td>\n",
              "        </tr>\n",
              "        <tr>\n",
              "            <td>AFFAIR PREJUDICE</td>\n",
              "            <td>117</td>\n",
              "            <td>Full</td>\n",
              "        </tr>\n",
              "        <tr>\n",
              "            <td>AFRICAN EGG</td>\n",
              "            <td>130</td>\n",
              "            <td>Full</td>\n",
              "        </tr>\n",
              "        <tr>\n",
              "            <td>AGENT TRUMAN</td>\n",
              "            <td>169</td>\n",
              "            <td>Full</td>\n",
              "        </tr>\n",
              "        <tr>\n",
              "            <td>AIRPLANE SIERRA</td>\n",
              "            <td>62</td>\n",
              "            <td>Short</td>\n",
              "        </tr>\n",
              "        <tr>\n",
              "            <td>AIRPORT POLLOCK</td>\n",
              "            <td>54</td>\n",
              "            <td>Short</td>\n",
              "        </tr>\n",
              "        <tr>\n",
              "            <td>ALABAMA DEVIL</td>\n",
              "            <td>114</td>\n",
              "            <td>Full</td>\n",
              "        </tr>\n",
              "        <tr>\n",
              "            <td>ALADDIN CALENDAR</td>\n",
              "            <td>63</td>\n",
              "            <td>Short</td>\n",
              "        </tr>\n",
              "    </tbody>\n",
              "</table>"
            ]
          },
          "metadata": {},
          "execution_count": 33
        }
      ],
      "source": [
        "%%sql\n",
        "SELECT\n",
        "title,\n",
        "length,\n",
        "CASE length < 75\n",
        "WHEN true then 'Short'\n",
        "ELSE 'Full'\n",
        "END as \"Duration Classification\"\n",
        "FROM\n",
        "film\n",
        "LIMIT 10\n"
      ]
    },
    {
      "cell_type": "markdown",
      "id": "ce14477c",
      "metadata": {
        "id": "ce14477c"
      },
      "source": [
        "#### Case without a base expression\n",
        "\n",
        "In this \"case\" all conditions are valuated until the first matches\n",
        "\n",
        "```sql\n",
        "CASE\n",
        "WHEN condition THEN value\n",
        "WHEN condition THEN value\n",
        "ELSE value\n",
        "END\n",
        "```"
      ]
    },
    {
      "cell_type": "markdown",
      "id": "50b4674c",
      "metadata": {
        "id": "50b4674c"
      },
      "source": [
        " *Exercize*: Categorize the amount  of payment based on ranges:\n",
        " - [0,1]: 'cheap'\n",
        " - [1,5]: 'medium'\n",
        " - [5,-]: 'expensive'"
      ]
    },
    {
      "cell_type": "code",
      "execution_count": 35,
      "id": "06f59ecc",
      "metadata": {
        "id": "06f59ecc",
        "outputId": "0baae6e1-8c13-43d7-8bf6-202c4decc458",
        "colab": {
          "base_uri": "https://localhost:8080/",
          "height": 286
        }
      },
      "outputs": [
        {
          "output_type": "stream",
          "name": "stdout",
          "text": [
            " * sqlite:///datasets/sakila.db\n",
            "Done.\n"
          ]
        },
        {
          "output_type": "execute_result",
          "data": {
            "text/plain": [
              "[(2.99, 'Medium'),\n",
              " (0.99, 'Cheap'),\n",
              " (5.99, 'Expensive'),\n",
              " (0.99, 'Cheap'),\n",
              " (9.99, 'Expensive'),\n",
              " (4.99, 'Medium'),\n",
              " (4.99, 'Medium'),\n",
              " (0.99, 'Cheap'),\n",
              " (3.99, 'Medium'),\n",
              " (5.99, 'Expensive')]"
            ],
            "text/html": [
              "<table>\n",
              "    <thead>\n",
              "        <tr>\n",
              "            <th>amount</th>\n",
              "            <th>Cost evaluation</th>\n",
              "        </tr>\n",
              "    </thead>\n",
              "    <tbody>\n",
              "        <tr>\n",
              "            <td>2.99</td>\n",
              "            <td>Medium</td>\n",
              "        </tr>\n",
              "        <tr>\n",
              "            <td>0.99</td>\n",
              "            <td>Cheap</td>\n",
              "        </tr>\n",
              "        <tr>\n",
              "            <td>5.99</td>\n",
              "            <td>Expensive</td>\n",
              "        </tr>\n",
              "        <tr>\n",
              "            <td>0.99</td>\n",
              "            <td>Cheap</td>\n",
              "        </tr>\n",
              "        <tr>\n",
              "            <td>9.99</td>\n",
              "            <td>Expensive</td>\n",
              "        </tr>\n",
              "        <tr>\n",
              "            <td>4.99</td>\n",
              "            <td>Medium</td>\n",
              "        </tr>\n",
              "        <tr>\n",
              "            <td>4.99</td>\n",
              "            <td>Medium</td>\n",
              "        </tr>\n",
              "        <tr>\n",
              "            <td>0.99</td>\n",
              "            <td>Cheap</td>\n",
              "        </tr>\n",
              "        <tr>\n",
              "            <td>3.99</td>\n",
              "            <td>Medium</td>\n",
              "        </tr>\n",
              "        <tr>\n",
              "            <td>5.99</td>\n",
              "            <td>Expensive</td>\n",
              "        </tr>\n",
              "    </tbody>\n",
              "</table>"
            ]
          },
          "metadata": {},
          "execution_count": 35
        }
      ],
      "source": [
        "%%sql\n",
        "SELECT\n",
        "amount,\n",
        "CASE\n",
        "WHEN amount <=1 then 'Cheap'\n",
        "WHEN amount <=5 then 'Medium'\n",
        "ELSE 'Expensive'\n",
        "END as \"Cost evaluation\"\n",
        "FROM\n",
        "payment\n",
        "LIMIT 10"
      ]
    },
    {
      "cell_type": "markdown",
      "id": "2567b332",
      "metadata": {
        "id": "2567b332"
      },
      "source": [
        "### CAST\n",
        "https://www.sqlite.org/lang_expr.html#cast\n",
        "\n",
        "- In computer science, casting it's a procedure to change the data type\n",
        "- In SQL it's used to change the domain of an attribute in the result relation\n",
        "- Casting it's useful in two cases\n",
        "-- When the source data type is too generic, for example a string containing a number (this can be a design issue)\n",
        "-- When we need to work with different attributes, for example to count the number of digit in a number\n",
        "\n",
        "The syntax is CAST(expr as type-name)"
      ]
    },
    {
      "cell_type": "markdown",
      "id": "73db1044",
      "metadata": {
        "id": "73db1044"
      },
      "source": [
        " *Exercize*: Convert the release_year in the movie relation into number"
      ]
    },
    {
      "cell_type": "code",
      "execution_count": 40,
      "id": "38c38dfe",
      "metadata": {
        "id": "38c38dfe",
        "outputId": "f187362f-825b-4a1d-d297-66ba123eb482",
        "colab": {
          "base_uri": "https://localhost:8080/",
          "height": 286
        }
      },
      "outputs": [
        {
          "output_type": "stream",
          "name": "stdout",
          "text": [
            " * sqlite:///datasets/sakila.db\n",
            "Done.\n"
          ]
        },
        {
          "output_type": "execute_result",
          "data": {
            "text/plain": [
              "[(4012, 4012),\n",
              " (4012, 4012),\n",
              " (4012, 4012),\n",
              " (4012, 4012),\n",
              " (4012, 4012),\n",
              " (4012, 4012),\n",
              " (4012, 4012),\n",
              " (4012, 4012),\n",
              " (4012, 4012),\n",
              " (4012, 4012)]"
            ],
            "text/html": [
              "<table>\n",
              "    <thead>\n",
              "        <tr>\n",
              "            <th>cast(release_year as number) * 2</th>\n",
              "            <th>release_year*2</th>\n",
              "        </tr>\n",
              "    </thead>\n",
              "    <tbody>\n",
              "        <tr>\n",
              "            <td>4012</td>\n",
              "            <td>4012</td>\n",
              "        </tr>\n",
              "        <tr>\n",
              "            <td>4012</td>\n",
              "            <td>4012</td>\n",
              "        </tr>\n",
              "        <tr>\n",
              "            <td>4012</td>\n",
              "            <td>4012</td>\n",
              "        </tr>\n",
              "        <tr>\n",
              "            <td>4012</td>\n",
              "            <td>4012</td>\n",
              "        </tr>\n",
              "        <tr>\n",
              "            <td>4012</td>\n",
              "            <td>4012</td>\n",
              "        </tr>\n",
              "        <tr>\n",
              "            <td>4012</td>\n",
              "            <td>4012</td>\n",
              "        </tr>\n",
              "        <tr>\n",
              "            <td>4012</td>\n",
              "            <td>4012</td>\n",
              "        </tr>\n",
              "        <tr>\n",
              "            <td>4012</td>\n",
              "            <td>4012</td>\n",
              "        </tr>\n",
              "        <tr>\n",
              "            <td>4012</td>\n",
              "            <td>4012</td>\n",
              "        </tr>\n",
              "        <tr>\n",
              "            <td>4012</td>\n",
              "            <td>4012</td>\n",
              "        </tr>\n",
              "    </tbody>\n",
              "</table>"
            ]
          },
          "metadata": {},
          "execution_count": 40
        }
      ],
      "source": [
        "%%sql\n",
        "SELECT\n",
        "cast(release_year as number) * 2,\n",
        "release_year*2\n",
        "FROM\n",
        "film\n",
        "limit 10"
      ]
    },
    {
      "cell_type": "code",
      "source": [
        "!echo \".schema film\" | sqlite3 datasets/sakila.db"
      ],
      "metadata": {
        "id": "hS2BqB7VdR-g",
        "outputId": "82e10439-6a61-4e29-9132-30237d1b53b4",
        "colab": {
          "base_uri": "https://localhost:8080/"
        }
      },
      "id": "hS2BqB7VdR-g",
      "execution_count": 43,
      "outputs": [
        {
          "output_type": "stream",
          "name": "stdout",
          "text": [
            "CREATE TABLE film (\n",
            "  film_id int NOT NULL,\n",
            "  title VARCHAR(255) NOT NULL,\n",
            "  description BLOB SUB_TYPE TEXT DEFAULT NULL,\n",
            "  release_year VARCHAR(4) DEFAULT NULL,\n",
            "  language_id SMALLINT NOT NULL,\n",
            "  original_language_id SMALLINT DEFAULT NULL,\n",
            "  rental_duration SMALLINT  DEFAULT 3 NOT NULL,\n",
            "  rental_rate DECIMAL(4,2) DEFAULT 4.99 NOT NULL,\n",
            "  length SMALLINT DEFAULT NULL,\n",
            "  replacement_cost DECIMAL(5,2) DEFAULT 19.99 NOT NULL,\n",
            "  rating VARCHAR(10) DEFAULT 'G',\n",
            "  special_features VARCHAR(100) DEFAULT NULL,\n",
            "  last_update TIMESTAMP NOT NULL,\n",
            "  PRIMARY KEY  (film_id),\n",
            "  CONSTRAINT CHECK_special_features CHECK(special_features is null or\n",
            "                                                           special_features like '%Trailers%' or\n",
            "                                                           special_features like '%Commentaries%' or\n",
            "                                                           special_features like '%Deleted Scenes%' or\n",
            "                                                           special_features like '%Behind the Scenes%'),\n",
            "  CONSTRAINT CHECK_special_rating CHECK(rating in ('G','PG','PG-13','R','NC-17')),\n",
            "  CONSTRAINT fk_film_language FOREIGN KEY (language_id) REFERENCES language (language_id) ,\n",
            "  CONSTRAINT fk_film_language_original FOREIGN KEY (original_language_id) REFERENCES language (language_id)\n",
            ");\n",
            "CREATE INDEX idx_fk_language_id ON film(language_id)\n",
            ";\n",
            "CREATE INDEX idx_fk_original_language_id ON film(original_language_id)\n",
            ";\n",
            "CREATE TRIGGER film_trigger_ai AFTER INSERT ON film\n",
            " BEGIN\n",
            "  UPDATE film SET last_update = DATETIME('NOW')  WHERE rowid = new.rowid;\n",
            " END;\n",
            "CREATE TRIGGER film_trigger_au AFTER UPDATE ON film\n",
            " BEGIN\n",
            "  UPDATE film SET last_update = DATETIME('NOW')  WHERE rowid = new.rowid;\n",
            " END;\n"
          ]
        }
      ]
    },
    {
      "cell_type": "markdown",
      "id": "6b10001f",
      "metadata": {
        "id": "6b10001f"
      },
      "source": [
        " *Exercize*: Compute the number of characters of the rental_duration in the film   \n",
        "\n",
        " Use the scalar function length(X) to count the number of characters in a column"
      ]
    },
    {
      "cell_type": "code",
      "execution_count": 47,
      "id": "f38b7428",
      "metadata": {
        "id": "f38b7428",
        "outputId": "76e1ec6b-0a26-4d09-8ed5-e6240a28ff11",
        "colab": {
          "base_uri": "https://localhost:8080/",
          "height": 286
        }
      },
      "outputs": [
        {
          "output_type": "stream",
          "name": "stdout",
          "text": [
            " * sqlite:///datasets/sakila.db\n",
            "Done.\n"
          ]
        },
        {
          "output_type": "execute_result",
          "data": {
            "text/plain": [
              "[('ACADEMY DINOSAUR', 86, 2, 2),\n",
              " ('ACE GOLDFINGER', 48, 2, 2),\n",
              " ('ADAPTATION HOLES', 50, 2, 2),\n",
              " ('AFFAIR PREJUDICE', 117, 3, 3),\n",
              " ('AFRICAN EGG', 130, 3, 3),\n",
              " ('AGENT TRUMAN', 169, 3, 3),\n",
              " ('AIRPLANE SIERRA', 62, 2, 2),\n",
              " ('AIRPORT POLLOCK', 54, 2, 2),\n",
              " ('ALABAMA DEVIL', 114, 3, 3),\n",
              " ('ALADDIN CALENDAR', 63, 2, 2)]"
            ],
            "text/html": [
              "<table>\n",
              "    <thead>\n",
              "        <tr>\n",
              "            <th>title</th>\n",
              "            <th>length</th>\n",
              "            <th>numchars</th>\n",
              "            <th>numchars_1</th>\n",
              "        </tr>\n",
              "    </thead>\n",
              "    <tbody>\n",
              "        <tr>\n",
              "            <td>ACADEMY DINOSAUR</td>\n",
              "            <td>86</td>\n",
              "            <td>2</td>\n",
              "            <td>2</td>\n",
              "        </tr>\n",
              "        <tr>\n",
              "            <td>ACE GOLDFINGER</td>\n",
              "            <td>48</td>\n",
              "            <td>2</td>\n",
              "            <td>2</td>\n",
              "        </tr>\n",
              "        <tr>\n",
              "            <td>ADAPTATION HOLES</td>\n",
              "            <td>50</td>\n",
              "            <td>2</td>\n",
              "            <td>2</td>\n",
              "        </tr>\n",
              "        <tr>\n",
              "            <td>AFFAIR PREJUDICE</td>\n",
              "            <td>117</td>\n",
              "            <td>3</td>\n",
              "            <td>3</td>\n",
              "        </tr>\n",
              "        <tr>\n",
              "            <td>AFRICAN EGG</td>\n",
              "            <td>130</td>\n",
              "            <td>3</td>\n",
              "            <td>3</td>\n",
              "        </tr>\n",
              "        <tr>\n",
              "            <td>AGENT TRUMAN</td>\n",
              "            <td>169</td>\n",
              "            <td>3</td>\n",
              "            <td>3</td>\n",
              "        </tr>\n",
              "        <tr>\n",
              "            <td>AIRPLANE SIERRA</td>\n",
              "            <td>62</td>\n",
              "            <td>2</td>\n",
              "            <td>2</td>\n",
              "        </tr>\n",
              "        <tr>\n",
              "            <td>AIRPORT POLLOCK</td>\n",
              "            <td>54</td>\n",
              "            <td>2</td>\n",
              "            <td>2</td>\n",
              "        </tr>\n",
              "        <tr>\n",
              "            <td>ALABAMA DEVIL</td>\n",
              "            <td>114</td>\n",
              "            <td>3</td>\n",
              "            <td>3</td>\n",
              "        </tr>\n",
              "        <tr>\n",
              "            <td>ALADDIN CALENDAR</td>\n",
              "            <td>63</td>\n",
              "            <td>2</td>\n",
              "            <td>2</td>\n",
              "        </tr>\n",
              "    </tbody>\n",
              "</table>"
            ]
          },
          "metadata": {},
          "execution_count": 47
        }
      ],
      "source": [
        "%%sql\n",
        "select\n",
        "title,\n",
        "length,\n",
        "length(cast(length as string)) as numchars,\n",
        "length(length) as numchars\n",
        "from film limit 10"
      ]
    },
    {
      "cell_type": "markdown",
      "id": "119ff7af",
      "metadata": {
        "id": "119ff7af"
      },
      "source": [
        "### Aggregate functions (part 1)\n",
        "https://www.sqlite.org/lang_aggfunc.html"
      ]
    },
    {
      "cell_type": "markdown",
      "id": "79d9e3f6",
      "metadata": {
        "id": "79d9e3f6"
      },
      "source": [
        "- At this stage, without WHERE and GROUP BY aggregate functions apply on the entire table\n",
        "- Functions apply to attributes as parameter, also the \"\\*\" is used in a special case"
      ]
    },
    {
      "cell_type": "markdown",
      "id": "c423aef2",
      "metadata": {
        "id": "c423aef2"
      },
      "source": [
        "#### COUNT\n",
        "- count(\\*): counts the number of tuples in the group\n",
        "- count(X): count the number of times the X is not NULL in the group\n",
        "- count(distinct(X)): as above, but removing duplicates"
      ]
    },
    {
      "cell_type": "markdown",
      "id": "05f1a18f",
      "metadata": {
        "id": "05f1a18f"
      },
      "source": [
        " *Exercize*: Count the number of rentals in the Rental table"
      ]
    },
    {
      "cell_type": "code",
      "execution_count": 53,
      "id": "f701e034",
      "metadata": {
        "id": "f701e034",
        "outputId": "edc6d450-6549-46a5-d4fa-5f2713267a56",
        "colab": {
          "base_uri": "https://localhost:8080/",
          "height": 96
        }
      },
      "outputs": [
        {
          "output_type": "stream",
          "name": "stdout",
          "text": [
            " * sqlite:///datasets/sakila.db\n",
            "Done.\n"
          ]
        },
        {
          "output_type": "execute_result",
          "data": {
            "text/plain": [
              "[(16044,)]"
            ],
            "text/html": [
              "<table>\n",
              "    <thead>\n",
              "        <tr>\n",
              "            <th>count(*)</th>\n",
              "        </tr>\n",
              "    </thead>\n",
              "    <tbody>\n",
              "        <tr>\n",
              "            <td>16044</td>\n",
              "        </tr>\n",
              "    </tbody>\n",
              "</table>"
            ]
          },
          "metadata": {},
          "execution_count": 53
        }
      ],
      "source": [
        "%%sql\n",
        "SELECT\n",
        "count(*)\n",
        "FROM\n",
        "rental"
      ]
    },
    {
      "cell_type": "markdown",
      "id": "54762dfa",
      "metadata": {
        "id": "54762dfa"
      },
      "source": [
        " *Exercize*: Count the number of return_date in the rental table"
      ]
    },
    {
      "cell_type": "code",
      "execution_count": 49,
      "id": "51b644fa",
      "metadata": {
        "id": "51b644fa",
        "outputId": "49373af6-6e12-4eb6-a730-8ce67fa8bd5e",
        "colab": {
          "base_uri": "https://localhost:8080/",
          "height": 96
        }
      },
      "outputs": [
        {
          "output_type": "stream",
          "name": "stdout",
          "text": [
            " * sqlite:///datasets/sakila.db\n",
            "Done.\n"
          ]
        },
        {
          "output_type": "execute_result",
          "data": {
            "text/plain": [
              "[(15861,)]"
            ],
            "text/html": [
              "<table>\n",
              "    <thead>\n",
              "        <tr>\n",
              "            <th>count(return_date)</th>\n",
              "        </tr>\n",
              "    </thead>\n",
              "    <tbody>\n",
              "        <tr>\n",
              "            <td>15861</td>\n",
              "        </tr>\n",
              "    </tbody>\n",
              "</table>"
            ]
          },
          "metadata": {},
          "execution_count": 49
        }
      ],
      "source": [
        "%%sql\n",
        "SELECT\n",
        "count(return_date)\n",
        "FROM\n",
        "rental"
      ]
    },
    {
      "cell_type": "markdown",
      "id": "f85d92d2",
      "metadata": {
        "id": "f85d92d2"
      },
      "source": [
        " *Exercize*: Count the number of distinct return_date in the rental table"
      ]
    },
    {
      "cell_type": "code",
      "execution_count": 51,
      "id": "b974e573",
      "metadata": {
        "id": "b974e573",
        "outputId": "4baa16fa-435a-4b1f-8fc4-83c718e63bb7",
        "colab": {
          "base_uri": "https://localhost:8080/",
          "height": 96
        }
      },
      "outputs": [
        {
          "output_type": "stream",
          "name": "stdout",
          "text": [
            " * sqlite:///datasets/sakila.db\n",
            "Done.\n"
          ]
        },
        {
          "output_type": "execute_result",
          "data": {
            "text/plain": [
              "[(15836,)]"
            ],
            "text/html": [
              "<table>\n",
              "    <thead>\n",
              "        <tr>\n",
              "            <th>count(distinct(return_date))</th>\n",
              "        </tr>\n",
              "    </thead>\n",
              "    <tbody>\n",
              "        <tr>\n",
              "            <td>15836</td>\n",
              "        </tr>\n",
              "    </tbody>\n",
              "</table>"
            ]
          },
          "metadata": {},
          "execution_count": 51
        }
      ],
      "source": [
        "%%sql\n",
        "SELECT\n",
        "count(distinct(return_date))\n",
        "FROM\n",
        "rental"
      ]
    },
    {
      "cell_type": "markdown",
      "id": "ee93851e",
      "metadata": {
        "id": "ee93851e"
      },
      "source": [
        "#### MIN-MAX-AVG-SUM\n",
        "- min(X): minimum non-NULL value of all values in the group\n",
        "- max(X): maximum non-NULL value of all values in the group\n",
        "- avg(X): avg non-NULL value of all values in the group\n",
        "- sum(X): sum of non-NULL value of all values in the group\n",
        "\n",
        "Yes, they should be used for numbers"
      ]
    },
    {
      "cell_type": "markdown",
      "id": "688c5e9c",
      "metadata": {
        "id": "688c5e9c"
      },
      "source": [
        " *Exercize*: Get the min,max,avg,sum of the amount in the payment table"
      ]
    },
    {
      "cell_type": "code",
      "execution_count": 54,
      "id": "eab1950b",
      "metadata": {
        "id": "eab1950b",
        "outputId": "18850180-5760-4463-fda5-9713f989574d",
        "colab": {
          "base_uri": "https://localhost:8080/",
          "height": 96
        }
      },
      "outputs": [
        {
          "output_type": "stream",
          "name": "stdout",
          "text": [
            " * sqlite:///datasets/sakila.db\n",
            "Done.\n"
          ]
        },
        {
          "output_type": "execute_result",
          "data": {
            "text/plain": [
              "[(0, 11.99, 4.2006673312974065, 67416.50999999208)]"
            ],
            "text/html": [
              "<table>\n",
              "    <thead>\n",
              "        <tr>\n",
              "            <th>min(amount)</th>\n",
              "            <th>max(amount)</th>\n",
              "            <th>avg(amount)</th>\n",
              "            <th>sum(amount)</th>\n",
              "        </tr>\n",
              "    </thead>\n",
              "    <tbody>\n",
              "        <tr>\n",
              "            <td>0</td>\n",
              "            <td>11.99</td>\n",
              "            <td>4.2006673312974065</td>\n",
              "            <td>67416.50999999208</td>\n",
              "        </tr>\n",
              "    </tbody>\n",
              "</table>"
            ]
          },
          "metadata": {},
          "execution_count": 54
        }
      ],
      "source": [
        "%%sql\n",
        "SELECT\n",
        "min(amount),max(amount),avg(amount),sum(amount)\n",
        "FROM\n",
        "payment"
      ]
    },
    {
      "cell_type": "markdown",
      "id": "59d5ffe1",
      "metadata": {
        "id": "59d5ffe1"
      },
      "source": [
        "## Select from multiple tables"
      ]
    },
    {
      "cell_type": "markdown",
      "id": "251c937d",
      "metadata": {
        "id": "251c937d"
      },
      "source": [
        "### Product Cartesian (CROSS JOIN)"
      ]
    },
    {
      "cell_type": "markdown",
      "id": "2bdcb60b",
      "metadata": {
        "id": "2bdcb60b"
      },
      "source": [
        "- In Relational Algebra it's a binary operator X(A,B) or A X B\n",
        "\n",
        "Creates a new table where\n",
        "- the number of attributes it's the sum of the arity of the source relations\n",
        "- the number of tuples it's the product of the cardinality of the source relations\n",
        "\n",
        "In SQL it's possible to do in two equivalent ways:\n",
        "- FROM A,B\n",
        "- FROM A CROSS JOIN B"
      ]
    },
    {
      "cell_type": "markdown",
      "id": "ec928a34",
      "metadata": {
        "id": "ec928a34"
      },
      "source": [
        " *Exercize*: Get the potential number of rental by combining the film and the customer tables"
      ]
    },
    {
      "cell_type": "code",
      "execution_count": 57,
      "id": "3a04783d",
      "metadata": {
        "id": "3a04783d",
        "outputId": "0fc3c0c1-8e8d-4ef0-ac0c-bc988c5a8774",
        "colab": {
          "base_uri": "https://localhost:8080/",
          "height": 96
        }
      },
      "outputs": [
        {
          "output_type": "stream",
          "name": "stdout",
          "text": [
            " * sqlite:///datasets/sakila.db\n",
            "Done.\n"
          ]
        },
        {
          "output_type": "execute_result",
          "data": {
            "text/plain": [
              "[(599000,)]"
            ],
            "text/html": [
              "<table>\n",
              "    <thead>\n",
              "        <tr>\n",
              "            <th>count(*)</th>\n",
              "        </tr>\n",
              "    </thead>\n",
              "    <tbody>\n",
              "        <tr>\n",
              "            <td>599000</td>\n",
              "        </tr>\n",
              "    </tbody>\n",
              "</table>"
            ]
          },
          "metadata": {},
          "execution_count": 57
        }
      ],
      "source": [
        "%%sql\n",
        "select count(*) from customer, film limit 10"
      ]
    },
    {
      "cell_type": "code",
      "execution_count": 58,
      "id": "d400c005",
      "metadata": {
        "id": "d400c005",
        "outputId": "8d8363d4-f904-4678-bc94-1a5c008d01fb",
        "colab": {
          "base_uri": "https://localhost:8080/",
          "height": 96
        }
      },
      "outputs": [
        {
          "output_type": "stream",
          "name": "stdout",
          "text": [
            " * sqlite:///datasets/sakila.db\n",
            "Done.\n"
          ]
        },
        {
          "output_type": "execute_result",
          "data": {
            "text/plain": [
              "[(599000,)]"
            ],
            "text/html": [
              "<table>\n",
              "    <thead>\n",
              "        <tr>\n",
              "            <th>count(*)</th>\n",
              "        </tr>\n",
              "    </thead>\n",
              "    <tbody>\n",
              "        <tr>\n",
              "            <td>599000</td>\n",
              "        </tr>\n",
              "    </tbody>\n",
              "</table>"
            ]
          },
          "metadata": {},
          "execution_count": 58
        }
      ],
      "source": [
        "%%sql\n",
        "select count(*)\n",
        "from\n",
        "customer\n",
        "cross join film\n",
        "limit 10"
      ]
    },
    {
      "cell_type": "code",
      "execution_count": 59,
      "id": "da844794",
      "metadata": {
        "id": "da844794",
        "outputId": "f38ae6ce-587f-4ec6-8924-e3a4b8c2910a",
        "colab": {
          "base_uri": "https://localhost:8080/",
          "height": 96
        }
      },
      "outputs": [
        {
          "output_type": "stream",
          "name": "stdout",
          "text": [
            " * sqlite:///datasets/sakila.db\n",
            "Done.\n"
          ]
        },
        {
          "output_type": "execute_result",
          "data": {
            "text/plain": [
              "[(1000,)]"
            ],
            "text/html": [
              "<table>\n",
              "    <thead>\n",
              "        <tr>\n",
              "            <th>count(*)</th>\n",
              "        </tr>\n",
              "    </thead>\n",
              "    <tbody>\n",
              "        <tr>\n",
              "            <td>1000</td>\n",
              "        </tr>\n",
              "    </tbody>\n",
              "</table>"
            ]
          },
          "metadata": {},
          "execution_count": 59
        }
      ],
      "source": [
        "%%sql\n",
        "select count(*) from film;"
      ]
    },
    {
      "cell_type": "code",
      "execution_count": 60,
      "id": "20d7bd2f",
      "metadata": {
        "id": "20d7bd2f",
        "outputId": "e1671a56-3e26-464f-caba-b6d8bbc0faf2",
        "colab": {
          "base_uri": "https://localhost:8080/",
          "height": 96
        }
      },
      "outputs": [
        {
          "output_type": "stream",
          "name": "stdout",
          "text": [
            " * sqlite:///datasets/sakila.db\n",
            "Done.\n"
          ]
        },
        {
          "output_type": "execute_result",
          "data": {
            "text/plain": [
              "[(599,)]"
            ],
            "text/html": [
              "<table>\n",
              "    <thead>\n",
              "        <tr>\n",
              "            <th>count(*)</th>\n",
              "        </tr>\n",
              "    </thead>\n",
              "    <tbody>\n",
              "        <tr>\n",
              "            <td>599</td>\n",
              "        </tr>\n",
              "    </tbody>\n",
              "</table>"
            ]
          },
          "metadata": {},
          "execution_count": 60
        }
      ],
      "source": [
        "%%sql\n",
        "select count(*) from customer;"
      ]
    },
    {
      "cell_type": "markdown",
      "id": "969aad01",
      "metadata": {
        "id": "969aad01"
      },
      "source": [
        "### JOINS\n",
        "Join clauses are made by three parts\n",
        "- join operator: indicates which kind of join we are to use (natural, inner, outer, cross)\n",
        "- table (or sub query): the relation to be joined\n",
        "- join constraint: expression to define the condition of the join using \"on\" (\"using\" it's also an option but not always supported)\n",
        "\n",
        "The generic syntax is\n",
        "```sql\n",
        "FROM A kindofjoin JOIN B on A.col=B.col\n",
        "```"
      ]
    },
    {
      "cell_type": "markdown",
      "id": "a896f399",
      "metadata": {
        "id": "a896f399"
      },
      "source": [
        "#### Natural JOIN\n",
        "- Natural joins don't need \"on\""
      ]
    },
    {
      "cell_type": "markdown",
      "id": "cae4692c",
      "metadata": {
        "id": "cae4692c"
      },
      "source": [
        " *Exercize*: Get the list of cities and correspondent country"
      ]
    },
    {
      "cell_type": "code",
      "source": [
        "%%sql\n",
        "select * from city limit 10"
      ],
      "metadata": {
        "id": "lpNxMW3ClE6u",
        "outputId": "d0da8ab8-edea-4c83-a443-29c189464f93",
        "colab": {
          "base_uri": "https://localhost:8080/",
          "height": 286
        }
      },
      "id": "lpNxMW3ClE6u",
      "execution_count": 65,
      "outputs": [
        {
          "output_type": "stream",
          "name": "stdout",
          "text": [
            " * sqlite:///datasets/sakila.db\n",
            "Done.\n"
          ]
        },
        {
          "output_type": "execute_result",
          "data": {
            "text/plain": [
              "[(1, 'A Corua (La Corua)', 87, '2020-12-23 07:12:14'),\n",
              " (2, 'Abha', 82, '2020-12-23 07:12:14'),\n",
              " (3, 'Abu Dhabi', 101, '2020-12-23 07:12:14'),\n",
              " (4, 'Acua', 60, '2020-12-23 07:12:14'),\n",
              " (5, 'Adana', 97, '2020-12-23 07:12:14'),\n",
              " (6, 'Addis Abeba', 31, '2020-12-23 07:12:14'),\n",
              " (7, 'Aden', 107, '2020-12-23 07:12:14'),\n",
              " (8, 'Adoni', 44, '2020-12-23 07:12:14'),\n",
              " (9, 'Ahmadnagar', 44, '2020-12-23 07:12:14'),\n",
              " (10, 'Akishima', 50, '2020-12-23 07:12:14')]"
            ],
            "text/html": [
              "<table>\n",
              "    <thead>\n",
              "        <tr>\n",
              "            <th>city_id</th>\n",
              "            <th>city</th>\n",
              "            <th>country_id</th>\n",
              "            <th>last_update</th>\n",
              "        </tr>\n",
              "    </thead>\n",
              "    <tbody>\n",
              "        <tr>\n",
              "            <td>1</td>\n",
              "            <td>A Corua (La Corua)</td>\n",
              "            <td>87</td>\n",
              "            <td>2020-12-23 07:12:14</td>\n",
              "        </tr>\n",
              "        <tr>\n",
              "            <td>2</td>\n",
              "            <td>Abha</td>\n",
              "            <td>82</td>\n",
              "            <td>2020-12-23 07:12:14</td>\n",
              "        </tr>\n",
              "        <tr>\n",
              "            <td>3</td>\n",
              "            <td>Abu Dhabi</td>\n",
              "            <td>101</td>\n",
              "            <td>2020-12-23 07:12:14</td>\n",
              "        </tr>\n",
              "        <tr>\n",
              "            <td>4</td>\n",
              "            <td>Acua</td>\n",
              "            <td>60</td>\n",
              "            <td>2020-12-23 07:12:14</td>\n",
              "        </tr>\n",
              "        <tr>\n",
              "            <td>5</td>\n",
              "            <td>Adana</td>\n",
              "            <td>97</td>\n",
              "            <td>2020-12-23 07:12:14</td>\n",
              "        </tr>\n",
              "        <tr>\n",
              "            <td>6</td>\n",
              "            <td>Addis Abeba</td>\n",
              "            <td>31</td>\n",
              "            <td>2020-12-23 07:12:14</td>\n",
              "        </tr>\n",
              "        <tr>\n",
              "            <td>7</td>\n",
              "            <td>Aden</td>\n",
              "            <td>107</td>\n",
              "            <td>2020-12-23 07:12:14</td>\n",
              "        </tr>\n",
              "        <tr>\n",
              "            <td>8</td>\n",
              "            <td>Adoni</td>\n",
              "            <td>44</td>\n",
              "            <td>2020-12-23 07:12:14</td>\n",
              "        </tr>\n",
              "        <tr>\n",
              "            <td>9</td>\n",
              "            <td>Ahmadnagar</td>\n",
              "            <td>44</td>\n",
              "            <td>2020-12-23 07:12:14</td>\n",
              "        </tr>\n",
              "        <tr>\n",
              "            <td>10</td>\n",
              "            <td>Akishima</td>\n",
              "            <td>50</td>\n",
              "            <td>2020-12-23 07:12:14</td>\n",
              "        </tr>\n",
              "    </tbody>\n",
              "</table>"
            ]
          },
          "metadata": {},
          "execution_count": 65
        }
      ]
    },
    {
      "cell_type": "code",
      "source": [
        "%%sql\n",
        "select * from country limit 10"
      ],
      "metadata": {
        "id": "ySbqMVC2lcKq",
        "outputId": "ead61c97-2118-4fb8-a9bd-38ef6b7c4a04",
        "colab": {
          "base_uri": "https://localhost:8080/",
          "height": 286
        }
      },
      "id": "ySbqMVC2lcKq",
      "execution_count": 66,
      "outputs": [
        {
          "output_type": "stream",
          "name": "stdout",
          "text": [
            " * sqlite:///datasets/sakila.db\n",
            "Done.\n"
          ]
        },
        {
          "output_type": "execute_result",
          "data": {
            "text/plain": [
              "[(1, 'Afghanistan', '2020-12-23 07:12:12'),\n",
              " (2, 'Algeria', '2020-12-23 07:12:12'),\n",
              " (3, 'American Samoa', '2020-12-23 07:12:12'),\n",
              " (4, 'Angola', '2020-12-23 07:12:12'),\n",
              " (5, 'Anguilla', '2020-12-23 07:12:12'),\n",
              " (6, 'Argentina', '2020-12-23 07:12:12'),\n",
              " (7, 'Armenia', '2020-12-23 07:12:12'),\n",
              " (8, 'Australia', '2020-12-23 07:12:12'),\n",
              " (9, 'Austria', '2020-12-23 07:12:12'),\n",
              " (10, 'Azerbaijan', '2020-12-23 07:12:12')]"
            ],
            "text/html": [
              "<table>\n",
              "    <thead>\n",
              "        <tr>\n",
              "            <th>country_id</th>\n",
              "            <th>country</th>\n",
              "            <th>last_update</th>\n",
              "        </tr>\n",
              "    </thead>\n",
              "    <tbody>\n",
              "        <tr>\n",
              "            <td>1</td>\n",
              "            <td>Afghanistan</td>\n",
              "            <td>2020-12-23 07:12:12</td>\n",
              "        </tr>\n",
              "        <tr>\n",
              "            <td>2</td>\n",
              "            <td>Algeria</td>\n",
              "            <td>2020-12-23 07:12:12</td>\n",
              "        </tr>\n",
              "        <tr>\n",
              "            <td>3</td>\n",
              "            <td>American Samoa</td>\n",
              "            <td>2020-12-23 07:12:12</td>\n",
              "        </tr>\n",
              "        <tr>\n",
              "            <td>4</td>\n",
              "            <td>Angola</td>\n",
              "            <td>2020-12-23 07:12:12</td>\n",
              "        </tr>\n",
              "        <tr>\n",
              "            <td>5</td>\n",
              "            <td>Anguilla</td>\n",
              "            <td>2020-12-23 07:12:12</td>\n",
              "        </tr>\n",
              "        <tr>\n",
              "            <td>6</td>\n",
              "            <td>Argentina</td>\n",
              "            <td>2020-12-23 07:12:12</td>\n",
              "        </tr>\n",
              "        <tr>\n",
              "            <td>7</td>\n",
              "            <td>Armenia</td>\n",
              "            <td>2020-12-23 07:12:12</td>\n",
              "        </tr>\n",
              "        <tr>\n",
              "            <td>8</td>\n",
              "            <td>Australia</td>\n",
              "            <td>2020-12-23 07:12:12</td>\n",
              "        </tr>\n",
              "        <tr>\n",
              "            <td>9</td>\n",
              "            <td>Austria</td>\n",
              "            <td>2020-12-23 07:12:12</td>\n",
              "        </tr>\n",
              "        <tr>\n",
              "            <td>10</td>\n",
              "            <td>Azerbaijan</td>\n",
              "            <td>2020-12-23 07:12:12</td>\n",
              "        </tr>\n",
              "    </tbody>\n",
              "</table>"
            ]
          },
          "metadata": {},
          "execution_count": 66
        }
      ]
    },
    {
      "cell_type": "code",
      "execution_count": 61,
      "id": "9b454843",
      "metadata": {
        "id": "9b454843",
        "outputId": "5610f895-c87d-4a53-bb9e-6d7980223d7d",
        "colab": {
          "base_uri": "https://localhost:8080/",
          "height": 96
        }
      },
      "outputs": [
        {
          "output_type": "stream",
          "name": "stdout",
          "text": [
            " * sqlite:///datasets/sakila.db\n",
            "Done.\n"
          ]
        },
        {
          "output_type": "execute_result",
          "data": {
            "text/plain": [
              "[(7, 'Aden', 107, '2020-12-23 07:12:14', 'Yemen')]"
            ],
            "text/html": [
              "<table>\n",
              "    <thead>\n",
              "        <tr>\n",
              "            <th>city_id</th>\n",
              "            <th>city</th>\n",
              "            <th>country_id</th>\n",
              "            <th>last_update</th>\n",
              "            <th>country</th>\n",
              "        </tr>\n",
              "    </thead>\n",
              "    <tbody>\n",
              "        <tr>\n",
              "            <td>7</td>\n",
              "            <td>Aden</td>\n",
              "            <td>107</td>\n",
              "            <td>2020-12-23 07:12:14</td>\n",
              "            <td>Yemen</td>\n",
              "        </tr>\n",
              "    </tbody>\n",
              "</table>"
            ]
          },
          "metadata": {},
          "execution_count": 61
        }
      ],
      "source": [
        "%%sql\n",
        "select\n",
        "*\n",
        "from\n",
        "city\n",
        "natural join country"
      ]
    },
    {
      "cell_type": "code",
      "source": [
        "%%sql\n",
        "select country_id from country where last_update='2020-12-23 07:12:14'"
      ],
      "metadata": {
        "id": "mhHktwV1kNs0",
        "outputId": "fb58254b-4e04-466c-def2-6e63f1f50540",
        "colab": {
          "base_uri": "https://localhost:8080/",
          "height": 159
        }
      },
      "id": "mhHktwV1kNs0",
      "execution_count": 63,
      "outputs": [
        {
          "output_type": "stream",
          "name": "stdout",
          "text": [
            " * sqlite:///datasets/sakila.db\n",
            "Done.\n"
          ]
        },
        {
          "output_type": "execute_result",
          "data": {
            "text/plain": [
              "[(106,), (107,), (108,), (109,)]"
            ],
            "text/html": [
              "<table>\n",
              "    <thead>\n",
              "        <tr>\n",
              "            <th>country_id</th>\n",
              "        </tr>\n",
              "    </thead>\n",
              "    <tbody>\n",
              "        <tr>\n",
              "            <td>106</td>\n",
              "        </tr>\n",
              "        <tr>\n",
              "            <td>107</td>\n",
              "        </tr>\n",
              "        <tr>\n",
              "            <td>108</td>\n",
              "        </tr>\n",
              "        <tr>\n",
              "            <td>109</td>\n",
              "        </tr>\n",
              "    </tbody>\n",
              "</table>"
            ]
          },
          "metadata": {},
          "execution_count": 63
        }
      ]
    },
    {
      "cell_type": "code",
      "execution_count": 64,
      "id": "2d3d3bdf",
      "metadata": {
        "id": "2d3d3bdf",
        "outputId": "ec638247-eafb-4da0-83dc-320706c0e3ca",
        "colab": {
          "base_uri": "https://localhost:8080/",
          "height": 96
        }
      },
      "outputs": [
        {
          "output_type": "stream",
          "name": "stdout",
          "text": [
            " * sqlite:///datasets/sakila.db\n",
            "Done.\n"
          ]
        },
        {
          "output_type": "execute_result",
          "data": {
            "text/plain": [
              "[(7, 'Aden', 107, '2020-12-23 07:12:14')]"
            ],
            "text/html": [
              "<table>\n",
              "    <thead>\n",
              "        <tr>\n",
              "            <th>city_id</th>\n",
              "            <th>city</th>\n",
              "            <th>country_id</th>\n",
              "            <th>last_update</th>\n",
              "        </tr>\n",
              "    </thead>\n",
              "    <tbody>\n",
              "        <tr>\n",
              "            <td>7</td>\n",
              "            <td>Aden</td>\n",
              "            <td>107</td>\n",
              "            <td>2020-12-23 07:12:14</td>\n",
              "        </tr>\n",
              "    </tbody>\n",
              "</table>"
            ]
          },
          "metadata": {},
          "execution_count": 64
        }
      ],
      "source": [
        "%%sql\n",
        "select * from city where last_update='2020-12-23 07:12:14'\n",
        "and country_id in (select country_id from country where last_update='2020-12-23 07:12:14')"
      ]
    },
    {
      "cell_type": "markdown",
      "id": "69c048bf",
      "metadata": {
        "id": "69c048bf"
      },
      "source": [
        "#### Inner JOIN\n",
        "- it's default join, che INNER can be omitted"
      ]
    },
    {
      "cell_type": "markdown",
      "id": "884dc63a",
      "metadata": {
        "id": "884dc63a"
      },
      "source": [
        " *Exercize*: Get the list of cities and correspondent country"
      ]
    },
    {
      "cell_type": "code",
      "execution_count": 68,
      "id": "942c97eb",
      "metadata": {
        "id": "942c97eb",
        "outputId": "a2d4c35b-0f53-4120-b91d-109eca719733",
        "colab": {
          "base_uri": "https://localhost:8080/",
          "height": 286
        }
      },
      "outputs": [
        {
          "output_type": "stream",
          "name": "stdout",
          "text": [
            " * sqlite:///datasets/sakila.db\n",
            "Done.\n"
          ]
        },
        {
          "output_type": "execute_result",
          "data": {
            "text/plain": [
              "[('A Corua (La Corua)', 'Spain'),\n",
              " ('Abha', 'Saudi Arabia'),\n",
              " ('Abu Dhabi', 'United Arab Emirates'),\n",
              " ('Acua', 'Mexico'),\n",
              " ('Adana', 'Turkey'),\n",
              " ('Addis Abeba', 'Ethiopia'),\n",
              " ('Aden', 'Yemen'),\n",
              " ('Adoni', 'India'),\n",
              " ('Ahmadnagar', 'India'),\n",
              " ('Akishima', 'Japan')]"
            ],
            "text/html": [
              "<table>\n",
              "    <thead>\n",
              "        <tr>\n",
              "            <th>city</th>\n",
              "            <th>country</th>\n",
              "        </tr>\n",
              "    </thead>\n",
              "    <tbody>\n",
              "        <tr>\n",
              "            <td>A Corua (La Corua)</td>\n",
              "            <td>Spain</td>\n",
              "        </tr>\n",
              "        <tr>\n",
              "            <td>Abha</td>\n",
              "            <td>Saudi Arabia</td>\n",
              "        </tr>\n",
              "        <tr>\n",
              "            <td>Abu Dhabi</td>\n",
              "            <td>United Arab Emirates</td>\n",
              "        </tr>\n",
              "        <tr>\n",
              "            <td>Acua</td>\n",
              "            <td>Mexico</td>\n",
              "        </tr>\n",
              "        <tr>\n",
              "            <td>Adana</td>\n",
              "            <td>Turkey</td>\n",
              "        </tr>\n",
              "        <tr>\n",
              "            <td>Addis Abeba</td>\n",
              "            <td>Ethiopia</td>\n",
              "        </tr>\n",
              "        <tr>\n",
              "            <td>Aden</td>\n",
              "            <td>Yemen</td>\n",
              "        </tr>\n",
              "        <tr>\n",
              "            <td>Adoni</td>\n",
              "            <td>India</td>\n",
              "        </tr>\n",
              "        <tr>\n",
              "            <td>Ahmadnagar</td>\n",
              "            <td>India</td>\n",
              "        </tr>\n",
              "        <tr>\n",
              "            <td>Akishima</td>\n",
              "            <td>Japan</td>\n",
              "        </tr>\n",
              "    </tbody>\n",
              "</table>"
            ]
          },
          "metadata": {},
          "execution_count": 68
        }
      ],
      "source": [
        "%%sql\n",
        "SELECT\n",
        "city, country\n",
        "FROM\n",
        "city\n",
        "join country on city.country_id=country.country_id\n",
        "limit 10"
      ]
    },
    {
      "cell_type": "markdown",
      "source": [
        "Lista dei titoli dei film con i nomi delle categorie associate"
      ],
      "metadata": {
        "id": "MmgbSzKCn9vn"
      },
      "id": "MmgbSzKCn9vn"
    },
    {
      "cell_type": "code",
      "source": [
        "%%sql\n",
        "select\n",
        "title, name\n",
        "from\n",
        "film\n",
        "join film_category on film.film_id=film_category.film_id\n",
        "join category on film_category.category_id = category.category_id\n",
        "limit 10\n"
      ],
      "metadata": {
        "id": "xm-PhLm-n0X6",
        "outputId": "88ced8af-a11e-4f75-9668-1589349773d8",
        "colab": {
          "base_uri": "https://localhost:8080/",
          "height": 286
        }
      },
      "id": "xm-PhLm-n0X6",
      "execution_count": 71,
      "outputs": [
        {
          "output_type": "stream",
          "name": "stdout",
          "text": [
            " * sqlite:///datasets/sakila.db\n",
            "Done.\n"
          ]
        },
        {
          "output_type": "execute_result",
          "data": {
            "text/plain": [
              "[('ACADEMY DINOSAUR', 'Documentary'),\n",
              " ('ACE GOLDFINGER', 'Horror'),\n",
              " ('ADAPTATION HOLES', 'Documentary'),\n",
              " ('AFFAIR PREJUDICE', 'Horror'),\n",
              " ('AFRICAN EGG', 'Family'),\n",
              " ('AGENT TRUMAN', 'Foreign'),\n",
              " ('AIRPLANE SIERRA', 'Comedy'),\n",
              " ('AIRPORT POLLOCK', 'Horror'),\n",
              " ('ALABAMA DEVIL', 'Horror'),\n",
              " ('ALADDIN CALENDAR', 'Sports')]"
            ],
            "text/html": [
              "<table>\n",
              "    <thead>\n",
              "        <tr>\n",
              "            <th>title</th>\n",
              "            <th>name</th>\n",
              "        </tr>\n",
              "    </thead>\n",
              "    <tbody>\n",
              "        <tr>\n",
              "            <td>ACADEMY DINOSAUR</td>\n",
              "            <td>Documentary</td>\n",
              "        </tr>\n",
              "        <tr>\n",
              "            <td>ACE GOLDFINGER</td>\n",
              "            <td>Horror</td>\n",
              "        </tr>\n",
              "        <tr>\n",
              "            <td>ADAPTATION HOLES</td>\n",
              "            <td>Documentary</td>\n",
              "        </tr>\n",
              "        <tr>\n",
              "            <td>AFFAIR PREJUDICE</td>\n",
              "            <td>Horror</td>\n",
              "        </tr>\n",
              "        <tr>\n",
              "            <td>AFRICAN EGG</td>\n",
              "            <td>Family</td>\n",
              "        </tr>\n",
              "        <tr>\n",
              "            <td>AGENT TRUMAN</td>\n",
              "            <td>Foreign</td>\n",
              "        </tr>\n",
              "        <tr>\n",
              "            <td>AIRPLANE SIERRA</td>\n",
              "            <td>Comedy</td>\n",
              "        </tr>\n",
              "        <tr>\n",
              "            <td>AIRPORT POLLOCK</td>\n",
              "            <td>Horror</td>\n",
              "        </tr>\n",
              "        <tr>\n",
              "            <td>ALABAMA DEVIL</td>\n",
              "            <td>Horror</td>\n",
              "        </tr>\n",
              "        <tr>\n",
              "            <td>ALADDIN CALENDAR</td>\n",
              "            <td>Sports</td>\n",
              "        </tr>\n",
              "    </tbody>\n",
              "</table>"
            ]
          },
          "metadata": {},
          "execution_count": 71
        }
      ]
    },
    {
      "cell_type": "markdown",
      "source": [
        "Lista dei titoli dei film con i nomi e cognomi degli attori"
      ],
      "metadata": {
        "id": "JoVx6-QgqiQn"
      },
      "id": "JoVx6-QgqiQn"
    },
    {
      "cell_type": "code",
      "source": [
        "%%sql\n",
        "select\n",
        "f.title, a.first_name,a.last_name\n",
        "from\n",
        "film f\n",
        "join film_actor fa on f.film_id=fa.film_id\n",
        "join actor a on a.actor_id=fa.actor_id\n",
        "limit 20"
      ],
      "metadata": {
        "id": "mKOyhQHFqwR1",
        "outputId": "8c15d802-6add-41e3-b483-3e9c0426b18e",
        "colab": {
          "base_uri": "https://localhost:8080/",
          "height": 498
        }
      },
      "id": "mKOyhQHFqwR1",
      "execution_count": 74,
      "outputs": [
        {
          "output_type": "stream",
          "name": "stdout",
          "text": [
            " * sqlite:///datasets/sakila.db\n",
            "Done.\n"
          ]
        },
        {
          "output_type": "execute_result",
          "data": {
            "text/plain": [
              "[('ACADEMY DINOSAUR', 'PENELOPE', 'GUINESS'),\n",
              " ('ANACONDA CONFESSIONS', 'PENELOPE', 'GUINESS'),\n",
              " ('ANGELS LIFE', 'PENELOPE', 'GUINESS'),\n",
              " ('BULWORTH COMMANDMENTS', 'PENELOPE', 'GUINESS'),\n",
              " ('CHEAPER CLYDE', 'PENELOPE', 'GUINESS'),\n",
              " ('COLOR PHILADELPHIA', 'PENELOPE', 'GUINESS'),\n",
              " ('ELEPHANT TROJAN', 'PENELOPE', 'GUINESS'),\n",
              " ('GLEAMING JAWBREAKER', 'PENELOPE', 'GUINESS'),\n",
              " ('HUMAN GRAFFITI', 'PENELOPE', 'GUINESS'),\n",
              " ('KING EVOLUTION', 'PENELOPE', 'GUINESS'),\n",
              " ('LADY STAGE', 'PENELOPE', 'GUINESS'),\n",
              " ('LANGUAGE COWBOY', 'PENELOPE', 'GUINESS'),\n",
              " ('MULHOLLAND BEAST', 'PENELOPE', 'GUINESS'),\n",
              " ('OKLAHOMA JUMANJI', 'PENELOPE', 'GUINESS'),\n",
              " ('RULES HUMAN', 'PENELOPE', 'GUINESS'),\n",
              " ('SPLASH GUMP', 'PENELOPE', 'GUINESS'),\n",
              " ('VERTIGO NORTHWEST', 'PENELOPE', 'GUINESS'),\n",
              " ('WESTWARD SEABISCUIT', 'PENELOPE', 'GUINESS'),\n",
              " ('WIZARD COLDBLOODED', 'PENELOPE', 'GUINESS'),\n",
              " ('ADAPTATION HOLES', 'NICK', 'WAHLBERG')]"
            ],
            "text/html": [
              "<table>\n",
              "    <thead>\n",
              "        <tr>\n",
              "            <th>title</th>\n",
              "            <th>first_name</th>\n",
              "            <th>last_name</th>\n",
              "        </tr>\n",
              "    </thead>\n",
              "    <tbody>\n",
              "        <tr>\n",
              "            <td>ACADEMY DINOSAUR</td>\n",
              "            <td>PENELOPE</td>\n",
              "            <td>GUINESS</td>\n",
              "        </tr>\n",
              "        <tr>\n",
              "            <td>ANACONDA CONFESSIONS</td>\n",
              "            <td>PENELOPE</td>\n",
              "            <td>GUINESS</td>\n",
              "        </tr>\n",
              "        <tr>\n",
              "            <td>ANGELS LIFE</td>\n",
              "            <td>PENELOPE</td>\n",
              "            <td>GUINESS</td>\n",
              "        </tr>\n",
              "        <tr>\n",
              "            <td>BULWORTH COMMANDMENTS</td>\n",
              "            <td>PENELOPE</td>\n",
              "            <td>GUINESS</td>\n",
              "        </tr>\n",
              "        <tr>\n",
              "            <td>CHEAPER CLYDE</td>\n",
              "            <td>PENELOPE</td>\n",
              "            <td>GUINESS</td>\n",
              "        </tr>\n",
              "        <tr>\n",
              "            <td>COLOR PHILADELPHIA</td>\n",
              "            <td>PENELOPE</td>\n",
              "            <td>GUINESS</td>\n",
              "        </tr>\n",
              "        <tr>\n",
              "            <td>ELEPHANT TROJAN</td>\n",
              "            <td>PENELOPE</td>\n",
              "            <td>GUINESS</td>\n",
              "        </tr>\n",
              "        <tr>\n",
              "            <td>GLEAMING JAWBREAKER</td>\n",
              "            <td>PENELOPE</td>\n",
              "            <td>GUINESS</td>\n",
              "        </tr>\n",
              "        <tr>\n",
              "            <td>HUMAN GRAFFITI</td>\n",
              "            <td>PENELOPE</td>\n",
              "            <td>GUINESS</td>\n",
              "        </tr>\n",
              "        <tr>\n",
              "            <td>KING EVOLUTION</td>\n",
              "            <td>PENELOPE</td>\n",
              "            <td>GUINESS</td>\n",
              "        </tr>\n",
              "        <tr>\n",
              "            <td>LADY STAGE</td>\n",
              "            <td>PENELOPE</td>\n",
              "            <td>GUINESS</td>\n",
              "        </tr>\n",
              "        <tr>\n",
              "            <td>LANGUAGE COWBOY</td>\n",
              "            <td>PENELOPE</td>\n",
              "            <td>GUINESS</td>\n",
              "        </tr>\n",
              "        <tr>\n",
              "            <td>MULHOLLAND BEAST</td>\n",
              "            <td>PENELOPE</td>\n",
              "            <td>GUINESS</td>\n",
              "        </tr>\n",
              "        <tr>\n",
              "            <td>OKLAHOMA JUMANJI</td>\n",
              "            <td>PENELOPE</td>\n",
              "            <td>GUINESS</td>\n",
              "        </tr>\n",
              "        <tr>\n",
              "            <td>RULES HUMAN</td>\n",
              "            <td>PENELOPE</td>\n",
              "            <td>GUINESS</td>\n",
              "        </tr>\n",
              "        <tr>\n",
              "            <td>SPLASH GUMP</td>\n",
              "            <td>PENELOPE</td>\n",
              "            <td>GUINESS</td>\n",
              "        </tr>\n",
              "        <tr>\n",
              "            <td>VERTIGO NORTHWEST</td>\n",
              "            <td>PENELOPE</td>\n",
              "            <td>GUINESS</td>\n",
              "        </tr>\n",
              "        <tr>\n",
              "            <td>WESTWARD SEABISCUIT</td>\n",
              "            <td>PENELOPE</td>\n",
              "            <td>GUINESS</td>\n",
              "        </tr>\n",
              "        <tr>\n",
              "            <td>WIZARD COLDBLOODED</td>\n",
              "            <td>PENELOPE</td>\n",
              "            <td>GUINESS</td>\n",
              "        </tr>\n",
              "        <tr>\n",
              "            <td>ADAPTATION HOLES</td>\n",
              "            <td>NICK</td>\n",
              "            <td>WAHLBERG</td>\n",
              "        </tr>\n",
              "    </tbody>\n",
              "</table>"
            ]
          },
          "metadata": {},
          "execution_count": 74
        }
      ]
    },
    {
      "cell_type": "markdown",
      "source": [
        "La lista dei titoli dei film noleggiati e dei relativi clienti con nome e cognome. Aggiungere l'importo pagato per il noleggio e il nome della persona dello staff che lo ha servito"
      ],
      "metadata": {
        "id": "bELqBd9RsbjX"
      },
      "id": "bELqBd9RsbjX"
    },
    {
      "cell_type": "code",
      "source": [
        "%%sql\n",
        "SELECT c.first_name, c.last_name, f.title,r.rental_date,r.return_date, p.amount,s.first_name as \"Staff First Name\",s.last_name as \"Staff Last Name\"\n",
        "FROM\n",
        "film f\n",
        "join inventory i on f.film_id=i.film_id\n",
        "join rental r on r.inventory_id=i.inventory_id\n",
        "join customer c on c.customer_id=r.customer_id\n",
        "join payment p on p.rental_id=r.rental_id\n",
        "join staff s on s.staff_id=p.staff_id\n",
        "limit 10"
      ],
      "metadata": {
        "id": "EK1D17Ixr67s",
        "outputId": "2eecf236-cd28-46d0-fed7-1dfa918fbc53",
        "colab": {
          "base_uri": "https://localhost:8080/",
          "height": 286
        }
      },
      "id": "EK1D17Ixr67s",
      "execution_count": 85,
      "outputs": [
        {
          "output_type": "stream",
          "name": "stdout",
          "text": [
            " * sqlite:///datasets/sakila.db\n",
            "Done.\n"
          ]
        },
        {
          "output_type": "execute_result",
          "data": {
            "text/plain": [
              "[('MARY', 'SMITH', 'PATIENT SISTER', '2005-05-25 11:30:37.000', '2005-06-03 12:00:37.000', 2.99, 'Mike', 'Hillyer'),\n",
              " ('MARY', 'SMITH', 'TALENTED HOMICIDE', '2005-05-28 10:35:23.000', '2005-06-03 06:32:23.000', 0.99, 'Mike', 'Hillyer'),\n",
              " ('MARY', 'SMITH', 'MUSKETEERS WAIT', '2005-06-15 00:54:12.000', '2005-06-23 02:42:12.000', 5.99, 'Mike', 'Hillyer'),\n",
              " ('MARY', 'SMITH', 'DETECTIVE VISION', '2005-06-15 18:02:53.000', '2005-06-19 15:54:53.000', 0.99, 'Jon', 'Stephens'),\n",
              " ('MARY', 'SMITH', 'FERRIS MOTHER', '2005-06-15 21:08:46.000', '2005-06-25 02:26:46.000', 9.99, 'Jon', 'Stephens'),\n",
              " ('MARY', 'SMITH', 'CLOSER BANG', '2005-06-16 15:18:57.000', '2005-06-17 21:05:57.000', 4.99, 'Mike', 'Hillyer'),\n",
              " ('MARY', 'SMITH', 'ATTACKS HATE', '2005-06-18 08:41:48.000', '2005-06-22 03:36:48.000', 4.99, 'Mike', 'Hillyer'),\n",
              " ('MARY', 'SMITH', 'SAVANNAH TOWN', '2005-06-18 13:33:59.000', '2005-06-19 17:40:59.000', 0.99, 'Jon', 'Stephens'),\n",
              " ('MARY', 'SMITH', 'YOUTH KICK', '2005-06-21 06:24:45.000', '2005-06-28 03:28:45.000', 3.99, 'Mike', 'Hillyer'),\n",
              " ('MARY', 'SMITH', 'FIRE WOLVES', '2005-07-08 03:17:05.000', '2005-07-14 01:19:05.000', 5.99, 'Jon', 'Stephens')]"
            ],
            "text/html": [
              "<table>\n",
              "    <thead>\n",
              "        <tr>\n",
              "            <th>first_name</th>\n",
              "            <th>last_name</th>\n",
              "            <th>title</th>\n",
              "            <th>rental_date</th>\n",
              "            <th>return_date</th>\n",
              "            <th>amount</th>\n",
              "            <th>Staff First Name</th>\n",
              "            <th>Staff Last Name</th>\n",
              "        </tr>\n",
              "    </thead>\n",
              "    <tbody>\n",
              "        <tr>\n",
              "            <td>MARY</td>\n",
              "            <td>SMITH</td>\n",
              "            <td>PATIENT SISTER</td>\n",
              "            <td>2005-05-25 11:30:37.000</td>\n",
              "            <td>2005-06-03 12:00:37.000</td>\n",
              "            <td>2.99</td>\n",
              "            <td>Mike</td>\n",
              "            <td>Hillyer</td>\n",
              "        </tr>\n",
              "        <tr>\n",
              "            <td>MARY</td>\n",
              "            <td>SMITH</td>\n",
              "            <td>TALENTED HOMICIDE</td>\n",
              "            <td>2005-05-28 10:35:23.000</td>\n",
              "            <td>2005-06-03 06:32:23.000</td>\n",
              "            <td>0.99</td>\n",
              "            <td>Mike</td>\n",
              "            <td>Hillyer</td>\n",
              "        </tr>\n",
              "        <tr>\n",
              "            <td>MARY</td>\n",
              "            <td>SMITH</td>\n",
              "            <td>MUSKETEERS WAIT</td>\n",
              "            <td>2005-06-15 00:54:12.000</td>\n",
              "            <td>2005-06-23 02:42:12.000</td>\n",
              "            <td>5.99</td>\n",
              "            <td>Mike</td>\n",
              "            <td>Hillyer</td>\n",
              "        </tr>\n",
              "        <tr>\n",
              "            <td>MARY</td>\n",
              "            <td>SMITH</td>\n",
              "            <td>DETECTIVE VISION</td>\n",
              "            <td>2005-06-15 18:02:53.000</td>\n",
              "            <td>2005-06-19 15:54:53.000</td>\n",
              "            <td>0.99</td>\n",
              "            <td>Jon</td>\n",
              "            <td>Stephens</td>\n",
              "        </tr>\n",
              "        <tr>\n",
              "            <td>MARY</td>\n",
              "            <td>SMITH</td>\n",
              "            <td>FERRIS MOTHER</td>\n",
              "            <td>2005-06-15 21:08:46.000</td>\n",
              "            <td>2005-06-25 02:26:46.000</td>\n",
              "            <td>9.99</td>\n",
              "            <td>Jon</td>\n",
              "            <td>Stephens</td>\n",
              "        </tr>\n",
              "        <tr>\n",
              "            <td>MARY</td>\n",
              "            <td>SMITH</td>\n",
              "            <td>CLOSER BANG</td>\n",
              "            <td>2005-06-16 15:18:57.000</td>\n",
              "            <td>2005-06-17 21:05:57.000</td>\n",
              "            <td>4.99</td>\n",
              "            <td>Mike</td>\n",
              "            <td>Hillyer</td>\n",
              "        </tr>\n",
              "        <tr>\n",
              "            <td>MARY</td>\n",
              "            <td>SMITH</td>\n",
              "            <td>ATTACKS HATE</td>\n",
              "            <td>2005-06-18 08:41:48.000</td>\n",
              "            <td>2005-06-22 03:36:48.000</td>\n",
              "            <td>4.99</td>\n",
              "            <td>Mike</td>\n",
              "            <td>Hillyer</td>\n",
              "        </tr>\n",
              "        <tr>\n",
              "            <td>MARY</td>\n",
              "            <td>SMITH</td>\n",
              "            <td>SAVANNAH TOWN</td>\n",
              "            <td>2005-06-18 13:33:59.000</td>\n",
              "            <td>2005-06-19 17:40:59.000</td>\n",
              "            <td>0.99</td>\n",
              "            <td>Jon</td>\n",
              "            <td>Stephens</td>\n",
              "        </tr>\n",
              "        <tr>\n",
              "            <td>MARY</td>\n",
              "            <td>SMITH</td>\n",
              "            <td>YOUTH KICK</td>\n",
              "            <td>2005-06-21 06:24:45.000</td>\n",
              "            <td>2005-06-28 03:28:45.000</td>\n",
              "            <td>3.99</td>\n",
              "            <td>Mike</td>\n",
              "            <td>Hillyer</td>\n",
              "        </tr>\n",
              "        <tr>\n",
              "            <td>MARY</td>\n",
              "            <td>SMITH</td>\n",
              "            <td>FIRE WOLVES</td>\n",
              "            <td>2005-07-08 03:17:05.000</td>\n",
              "            <td>2005-07-14 01:19:05.000</td>\n",
              "            <td>5.99</td>\n",
              "            <td>Jon</td>\n",
              "            <td>Stephens</td>\n",
              "        </tr>\n",
              "    </tbody>\n",
              "</table>"
            ]
          },
          "metadata": {},
          "execution_count": 85
        }
      ]
    },
    {
      "cell_type": "markdown",
      "id": "b5478adc",
      "metadata": {
        "id": "b5478adc"
      },
      "source": [
        "#### Left/Right Outer JOIN\n",
        "- Join that include the left, right and both rows that don't match"
      ]
    },
    {
      "cell_type": "markdown",
      "id": "1f48df71",
      "metadata": {
        "id": "1f48df71"
      },
      "source": [
        " *Exercize*: Get the distinct language name and release year\n",
        "\n",
        " Hint: start from language l and use left join"
      ]
    },
    {
      "cell_type": "code",
      "execution_count": null,
      "id": "1343125a",
      "metadata": {
        "id": "1343125a"
      },
      "outputs": [],
      "source": [
        "%%sql"
      ]
    },
    {
      "cell_type": "markdown",
      "id": "e1bce6e7",
      "metadata": {
        "id": "e1bce6e7"
      },
      "source": [
        "### WHERE\n",
        "- WHERE expressions are evalauted for each row in the input data (FROM)\n",
        "- if the row satisfies the where condition is added into the result set\n",
        "- in a inner-cross join constraints can be expressed both in \"on\" and in \"where\" (ihmo in join it's more readable)\n",
        "- in left-right join the \"on\" adds rows in the result while in the where they can be filtered\n",
        "The generic syntax is\n",
        "```sql\n",
        "WHERE\n",
        "(x = y or z < w) and ...\n",
        "```"
      ]
    },
    {
      "cell_type": "markdown",
      "id": "222d4c95",
      "metadata": {
        "id": "222d4c95"
      },
      "source": [
        " *Exercize*: Select the title, description, rating, movie length columns from the films table that last 3 hours or longer."
      ]
    },
    {
      "cell_type": "code",
      "execution_count": null,
      "id": "afadcc8b",
      "metadata": {
        "id": "afadcc8b"
      },
      "outputs": [],
      "source": [
        "%%sql"
      ]
    },
    {
      "cell_type": "markdown",
      "id": "a40572d6",
      "metadata": {
        "id": "a40572d6"
      },
      "source": [
        " ### LIKE\n",
        " https://www.sqlite.org/lang_expr.html#the_like_glob_regexp_match_and_extract_operators\n",
        "\n",
        "```sql\n",
        "WHERE\n",
        "x LIKE pattern\n",
        "```\n",
        " - it's pattern matching comparison between a value and a pattern\n",
        " - pattern can contain string and % to indicate anysequence or _ to indicate a single char"
      ]
    },
    {
      "cell_type": "markdown",
      "id": "89e25226",
      "metadata": {
        "id": "89e25226"
      },
      "source": [
        " *Exercize*: Select the actors with first name starting with A"
      ]
    },
    {
      "cell_type": "code",
      "execution_count": null,
      "id": "8899140b",
      "metadata": {
        "id": "8899140b"
      },
      "outputs": [],
      "source": [
        "%%sql"
      ]
    },
    {
      "cell_type": "markdown",
      "id": "da9d4194",
      "metadata": {
        "id": "da9d4194"
      },
      "source": [
        " *Exercize*: Select the actors with last name of 3 characters"
      ]
    },
    {
      "cell_type": "code",
      "execution_count": null,
      "id": "2366db78",
      "metadata": {
        "id": "2366db78"
      },
      "outputs": [],
      "source": [
        "%%sql"
      ]
    },
    {
      "cell_type": "markdown",
      "id": "3e5df418",
      "metadata": {
        "id": "3e5df418"
      },
      "source": [
        " ### BETWEEN\n",
        "The BETWEEN operator is logically equivalent to a pair of comparisons. \"x BETWEEN y AND z\" is equivalent to \"x>=y AND x<=z\" except that with BETWEEN, the x expression is only evaluated once.\n"
      ]
    },
    {
      "cell_type": "markdown",
      "id": "c4a6a62c",
      "metadata": {
        "id": "c4a6a62c"
      },
      "source": [
        " *Exercize*: Select the rental returned in September 2005"
      ]
    },
    {
      "cell_type": "code",
      "execution_count": null,
      "id": "e859f581",
      "metadata": {
        "id": "e859f581"
      },
      "outputs": [],
      "source": [
        "%%sql"
      ]
    },
    {
      "cell_type": "markdown",
      "id": "a4a76c4d",
      "metadata": {
        "id": "a4a76c4d"
      },
      "source": [
        " ### IN (NOT) IN\n",
        "\n",
        " - The IN and NOT IN operators take an expression on the left and a list of values or a subquery on the right\n",
        " - The right operand can be a sub query, i.e. a query returning the same columns as the left operand\n",
        "\n",
        " ```sql\n",
        "WHERE\n",
        "x in (a,b,c)\n",
        "...\n",
        "x in (select x from table)\n",
        "```"
      ]
    },
    {
      "cell_type": "markdown",
      "id": "d997c2d1",
      "metadata": {
        "id": "d997c2d1"
      },
      "source": [
        " *Exercize*: Select the movies with category Action and Animation\n",
        "\n",
        " Hint: Use join to navigate the many to many relationship between FILM and CATEGORY"
      ]
    },
    {
      "cell_type": "code",
      "execution_count": null,
      "id": "bc71e610",
      "metadata": {
        "id": "bc71e610"
      },
      "outputs": [],
      "source": [
        "%%sql"
      ]
    },
    {
      "cell_type": "markdown",
      "id": "c47fec1d",
      "metadata": {
        "id": "c47fec1d"
      },
      "source": [
        " *Exercize*: Get the customer with same name of an actor"
      ]
    },
    {
      "cell_type": "code",
      "execution_count": null,
      "id": "aeb51c2f",
      "metadata": {
        "id": "aeb51c2f"
      },
      "outputs": [],
      "source": [
        "%%sql"
      ]
    },
    {
      "cell_type": "markdown",
      "id": "d9974067",
      "metadata": {
        "id": "d9974067"
      },
      "source": [
        " *Exercize*: Get the customer with same name and first name of an actor"
      ]
    },
    {
      "cell_type": "code",
      "execution_count": null,
      "id": "78fd0877",
      "metadata": {
        "id": "78fd0877"
      },
      "outputs": [],
      "source": [
        "%%sql"
      ]
    },
    {
      "cell_type": "markdown",
      "id": "e87b7e10",
      "metadata": {
        "id": "e87b7e10"
      },
      "source": [
        "### GROUP BY\n",
        "- Partition result set into groups, based on values on attributes\n",
        "- Typically grouping is coupled with aggregate functions\n",
        "- and attributes in group by are present in the select\n",
        "\n",
        "The generic syntax is\n",
        "```sql\n",
        "select x,y, f()\n",
        "GROUP BY x,y\n",
        "```"
      ]
    },
    {
      "cell_type": "markdown",
      "id": "f1a1154f",
      "metadata": {
        "id": "f1a1154f"
      },
      "source": [
        " *Exercize*: Sum the amount of payments for rental made by customers"
      ]
    },
    {
      "cell_type": "code",
      "execution_count": null,
      "id": "fff52b5c",
      "metadata": {
        "id": "fff52b5c"
      },
      "outputs": [],
      "source": [
        "%%sql"
      ]
    },
    {
      "cell_type": "markdown",
      "id": "6f7a5d7b",
      "metadata": {
        "id": "6f7a5d7b"
      },
      "source": [
        " *Exercize*:"
      ]
    },
    {
      "cell_type": "markdown",
      "id": "33d65ee1",
      "metadata": {
        "id": "33d65ee1"
      },
      "source": [
        "### HAVING\n",
        "- Having filters the rows result sets based on aggregate groups\n",
        "- It's similar to WHERE but it's executed in another stage of process, after groups are created\n",
        "```sql\n",
        "GROUP BY\n",
        "x, y\n",
        "HAVING f(x)>z\n",
        "```"
      ]
    },
    {
      "cell_type": "markdown",
      "id": "19cbcda9",
      "metadata": {
        "id": "19cbcda9"
      },
      "source": [
        " *Exercize*: Sum the amount of payments for rental made by customers that have done at lease 30 rentals"
      ]
    },
    {
      "cell_type": "code",
      "execution_count": null,
      "id": "a377b7fc",
      "metadata": {
        "id": "a377b7fc"
      },
      "outputs": [],
      "source": [
        "%%sql"
      ]
    },
    {
      "cell_type": "markdown",
      "id": "76045f2a",
      "metadata": {
        "id": "76045f2a"
      },
      "source": [
        "### ORDER BY\n",
        "- Sort result set according to criteria\n",
        "- Multiple criteria can be combined using ,\n",
        "- Include calculated attributes like aggregrations\n",
        "\n",
        "The generic syntax is\n",
        "```sql\n",
        "ORDER BY\n",
        "x (asc/desc)\n",
        "```"
      ]
    },
    {
      "cell_type": "markdown",
      "id": "88cd5e8b",
      "metadata": {
        "id": "88cd5e8b"
      },
      "source": [
        " *Exercize*: Get the longest movies"
      ]
    },
    {
      "cell_type": "code",
      "execution_count": null,
      "id": "1037072a",
      "metadata": {
        "id": "1037072a"
      },
      "outputs": [],
      "source": [
        "%%sql"
      ]
    },
    {
      "cell_type": "markdown",
      "id": "56fed04d",
      "metadata": {
        "id": "56fed04d"
      },
      "source": [
        "### UNION\n",
        "The generic syntax is\n",
        "```sql\n",
        "select a from x\n",
        "union\n",
        "select b from y\n",
        "```"
      ]
    },
    {
      "cell_type": "markdown",
      "id": "a79d6bd7",
      "metadata": {
        "id": "a79d6bd7"
      },
      "source": [
        " *Exercize*: Get all the first_name, last_name of actors and customers"
      ]
    },
    {
      "cell_type": "code",
      "execution_count": null,
      "id": "0106abe4",
      "metadata": {
        "id": "0106abe4"
      },
      "outputs": [],
      "source": [
        "%%sql"
      ]
    },
    {
      "cell_type": "markdown",
      "id": "1b2091c0",
      "metadata": {
        "id": "1b2091c0"
      },
      "source": [
        "### EXCEPT\n",
        "The generic syntax is\n",
        "```sql\n",
        "select a from x\n",
        "EXCEPT\n",
        "select b from y\n",
        "```"
      ]
    },
    {
      "cell_type": "markdown",
      "id": "3be3117d",
      "metadata": {
        "id": "3be3117d"
      },
      "source": [
        " *Exercize*: Get all the first_name, last_name of actors not equal to customers"
      ]
    },
    {
      "cell_type": "code",
      "execution_count": null,
      "id": "7ae82281",
      "metadata": {
        "id": "7ae82281"
      },
      "outputs": [],
      "source": [
        "%%sql"
      ]
    },
    {
      "cell_type": "markdown",
      "id": "f74211b1",
      "metadata": {
        "id": "f74211b1"
      },
      "source": [
        "### INTERSECT\n",
        "The generic syntax is\n",
        "```sql\n",
        "select a from x\n",
        "INTERSECT\n",
        "select b from y\n",
        "```"
      ]
    },
    {
      "cell_type": "markdown",
      "id": "0a6de98d",
      "metadata": {
        "id": "0a6de98d"
      },
      "source": [
        " *Exercize*: Get the longest movies"
      ]
    },
    {
      "cell_type": "code",
      "execution_count": null,
      "id": "7d42666c",
      "metadata": {
        "id": "7d42666c"
      },
      "outputs": [],
      "source": [
        "%%sql"
      ]
    }
  ],
  "metadata": {
    "celltoolbar": "Slideshow",
    "colab": {
      "provenance": []
    },
    "kernelspec": {
      "display_name": "Python 3 (ipykernel)",
      "language": "python",
      "name": "python3"
    },
    "language_info": {
      "codemirror_mode": {
        "name": "ipython",
        "version": 3
      },
      "file_extension": ".py",
      "mimetype": "text/x-python",
      "name": "python",
      "nbconvert_exporter": "python",
      "pygments_lexer": "ipython3",
      "version": "3.9.15"
    },
    "rise": {
      "autolaunch": true,
      "enable_chalkboard": "true",
      "footer": "<div class=\"sds-footer\"> *** Social Data Science (SDS) - Notions of Database Management Systems ***</div>",
      "header": "<div class=\"sds-header\"><div class=\"sds-header-image\"></div></div>",
      "scroll": true,
      "theme": "white"
    }
  },
  "nbformat": 4,
  "nbformat_minor": 5
}