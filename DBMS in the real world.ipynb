{
 "cells": [
  {
   "cell_type": "markdown",
   "id": "87a85ab9",
   "metadata": {
    "slideshow": {
     "slide_type": "slide"
    }
   },
   "source": [
    "# DBMS in the Real World"
   ]
  },
  {
   "cell_type": "markdown",
   "id": "18ed1328",
   "metadata": {
    "slideshow": {
     "slide_type": "subslide"
    }
   },
   "source": [
    "## DB Ranking\n",
    "\n",
    "https://db-engines.com/en/ranking"
   ]
  },
  {
   "cell_type": "markdown",
   "id": "e97cd06f",
   "metadata": {},
   "source": [
    "# Commercial"
   ]
  },
  {
   "cell_type": "markdown",
   "id": "8988c5e9",
   "metadata": {},
   "source": [
    "## Oracle\n",
    "https://www.oracle.com/it/database/"
   ]
  },
  {
   "cell_type": "markdown",
   "id": "56278ed0",
   "metadata": {},
   "source": [
    "### Demo\n",
    "https://docs.oracle.com/en/cloud/paas/autonomous-database/serverless/adbsb/autonomous-sample-data.html#GUID-4BB2B49B-0C20-4E38-BCC7-A61D3F45390B"
   ]
  },
  {
   "cell_type": "markdown",
   "id": "4fb1322d",
   "metadata": {},
   "source": [
    "# Open Source"
   ]
  },
  {
   "cell_type": "markdown",
   "id": "79a7f25a",
   "metadata": {},
   "source": [
    "## Mysql"
   ]
  },
  {
   "cell_type": "markdown",
   "id": "acfce414",
   "metadata": {},
   "source": [
    "- https://aws.amazon.com/compare/the-difference-between-mariadb-vs-mysql/#:~:text=MySQL%20has%20a%20high%20level,PL%2FSQL%20since%20version%2010.3.&text=MySQL%20is%20slightly%20slower%20than,MySQL%20in%20replication%20and%20querying."
   ]
  },
  {
   "cell_type": "markdown",
   "id": "b8074029",
   "metadata": {},
   "source": [
    "# Cloud"
   ]
  },
  {
   "cell_type": "markdown",
   "id": "54b77a74",
   "metadata": {},
   "source": [
    "## Big Query"
   ]
  },
  {
   "cell_type": "markdown",
   "id": "fb5a673e",
   "metadata": {},
   "source": [
    "## Sandbox\n",
    "https://cloud.google.com/bigquery/docs/sandbox"
   ]
  },
  {
   "cell_type": "markdown",
   "id": "0f8c708e",
   "metadata": {},
   "source": [
    "- Query on Sandbox\n",
    "- Explora using Colab"
   ]
  },
  {
   "cell_type": "markdown",
   "id": "0983051d",
   "metadata": {},
   "source": [
    "# Non Relational"
   ]
  },
  {
   "cell_type": "markdown",
   "id": "3ed63ba3",
   "metadata": {},
   "source": [
    "## Databricks"
   ]
  },
  {
   "cell_type": "markdown",
   "id": "ce724c72",
   "metadata": {},
   "source": [
    "### Sample Dataset\n",
    "https://docs.databricks.com/en/discover/databricks-datasets.html"
   ]
  },
  {
   "cell_type": "markdown",
   "id": "e7f40f33",
   "metadata": {},
   "source": [
    "## Snowflake"
   ]
  },
  {
   "cell_type": "code",
   "execution_count": null,
   "id": "9c1452f9",
   "metadata": {},
   "outputs": [],
   "source": []
  }
 ],
 "metadata": {
  "celltoolbar": "Slideshow",
  "kernelspec": {
   "display_name": "Python 3 (ipykernel)",
   "language": "python",
   "name": "python3"
  },
  "language_info": {
   "codemirror_mode": {
    "name": "ipython",
    "version": 3
   },
   "file_extension": ".py",
   "mimetype": "text/x-python",
   "name": "python",
   "nbconvert_exporter": "python",
   "pygments_lexer": "ipython3",
   "version": "3.9.15"
  },
  "rise": {
   "autolaunch": true,
   "enable_chalkboard": "true",
   "footer": "<div class=\"sds-footer\"> *** Social Data Science (SDS) - Notions of Database Management Systems ***</div>",
   "header": "<div class=\"sds-header\"><div class=\"sds-header-image\"></div></div>",
   "scroll": true,
   "theme": "white"
  }
 },
 "nbformat": 4,
 "nbformat_minor": 5
}
