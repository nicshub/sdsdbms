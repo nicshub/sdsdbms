{
 "cells": [
  {
   "cell_type": "markdown",
   "id": "87a85ab9",
   "metadata": {
    "slideshow": {
     "slide_type": "slide"
    }
   },
   "source": [
    "# Practice: A personal library in Libre Office Base"
   ]
  },
  {
   "cell_type": "markdown",
   "id": "097a6ece",
   "metadata": {
    "slideshow": {
     "slide_type": "subslide"
    }
   },
   "source": [
    "## Prerequisites\n",
    "\n",
    "https://www.libreoffice.org/get-help/system-requirements/\n",
    "\n",
    "Base require Java \n",
    "https://www.java.com/en/download/manual.jsp"
   ]
  },
  {
   "cell_type": "markdown",
   "id": "6072dbd8",
   "metadata": {
    "slideshow": {
     "slide_type": "subslide"
    }
   },
   "source": [
    "## Install\n",
    "Download and install Libre Office\n",
    "https://www.libreoffice.org/download/download-libreoffice/"
   ]
  },
  {
   "cell_type": "markdown",
   "id": "86ff458c",
   "metadata": {
    "slideshow": {
     "slide_type": "subslide"
    }
   },
   "source": [
    "# Explore examples\n",
    "https://wiki.documentfoundation.org/Documentation/Publications"
   ]
  },
  {
   "cell_type": "markdown",
   "id": "0ce7b99f",
   "metadata": {
    "slideshow": {
     "slide_type": "slide"
    }
   },
   "source": [
    "# Exercise\n",
    "We want to manage our personal book library, we want to manage\n",
    "- Books\n",
    "- Authors\n",
    "- Genre\n"
   ]
  }
 ],
 "metadata": {
  "celltoolbar": "Slideshow",
  "kernelspec": {
   "display_name": "Python 3 (ipykernel)",
   "language": "python",
   "name": "python3"
  },
  "language_info": {
   "codemirror_mode": {
    "name": "ipython",
    "version": 3
   },
   "file_extension": ".py",
   "mimetype": "text/x-python",
   "name": "python",
   "nbconvert_exporter": "python",
   "pygments_lexer": "ipython3",
   "version": "3.9.15"
  },
  "rise": {
   "autolaunch": true,
   "enable_chalkboard": "true",
   "footer": "<div class=\"sds-footer\"> *** Social Data Science (SDS) - Notions of Database Management Systems ***</div>",
   "header": "<div class=\"sds-header\"><div class=\"sds-header-image\"></div></div>",
   "scroll": true,
   "theme": "white"
  }
 },
 "nbformat": 4,
 "nbformat_minor": 5
}
