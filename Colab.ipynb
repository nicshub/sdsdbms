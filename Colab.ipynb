{
 "cells": [
  {
   "cell_type": "markdown",
   "id": "87a85ab9",
   "metadata": {
    "slideshow": {
     "slide_type": "slide"
    }
   },
   "source": [
    "# Google Colab\n",
    "https://colab.research.google.com/?hl=en"
   ]
  },
  {
   "cell_type": "markdown",
   "id": "62bfec25",
   "metadata": {
    "slideshow": {
     "slide_type": "subslide"
    }
   },
   "source": [
    "## What is Colab?\n",
    "From the Welcome notebook"
   ]
  },
  {
   "cell_type": "markdown",
   "id": "04f5a92a",
   "metadata": {
    "slideshow": {
     "slide_type": "fragment"
    }
   },
   "source": [
    "Colab, or \"Colaboratory\", allows you to write and execute Python in your browser, with"
   ]
  },
  {
   "cell_type": "markdown",
   "id": "5a323342",
   "metadata": {
    "slideshow": {
     "slide_type": "fragment"
    }
   },
   "source": [
    "- Zero configuration required (nothing to install in local computer, just a Google Account)"
   ]
  },
  {
   "cell_type": "markdown",
   "id": "6ed20e4b",
   "metadata": {
    "slideshow": {
     "slide_type": "fragment"
    }
   },
   "source": [
    "- Access to GPUs free of charge (limited resources, [paid plan](https://colab.research.google.com/signup) available)"
   ]
  },
  {
   "cell_type": "markdown",
   "id": "36c4b439",
   "metadata": {
    "slideshow": {
     "slide_type": "fragment"
    }
   },
   "source": [
    "- Easy sharing (just as share a document of Google Drive)"
   ]
  },
  {
   "cell_type": "markdown",
   "id": "cda53e20",
   "metadata": {
    "slideshow": {
     "slide_type": "fragment"
    }
   },
   "source": [
    "Whether you're a student, a data scientist or an AI researcher, Colab can make your work easier. Watch Introduction to Colab to learn more, or just get started below!"
   ]
  },
  {
   "cell_type": "markdown",
   "id": "975efdb5",
   "metadata": {
    "slideshow": {
     "slide_type": "subslide"
    }
   },
   "source": [
    "## Compared to Jupyter"
   ]
  },
  {
   "cell_type": "markdown",
   "id": "62f2e0e9",
   "metadata": {
    "slideshow": {
     "slide_type": "fragment"
    }
   },
   "source": [
    "- Both use a web interface, the Colab one is more \"Google style\""
   ]
  },
  {
   "cell_type": "markdown",
   "id": "5d5c02fd",
   "metadata": {
    "slideshow": {
     "slide_type": "fragment"
    }
   },
   "source": [
    "- Colab is stateless, every session needs to reconfigure. (solution: add instructions in the notebook it self)"
   ]
  },
  {
   "cell_type": "markdown",
   "id": "db8f954b",
   "metadata": {
    "slideshow": {
     "slide_type": "fragment"
    }
   },
   "source": [
    "- Colab resources are limited (typically 12GB Ram, 100Gb Disk), can run for a limited time (max 12 hours)"
   ]
  },
  {
   "cell_type": "markdown",
   "id": "75d7cec7",
   "metadata": {
    "slideshow": {
     "slide_type": "fragment"
    }
   },
   "source": [
    "- Colab has some GPU available for free (not so common in laptop)"
   ]
  },
  {
   "cell_type": "markdown",
   "id": "8bdb348d",
   "metadata": {
    "slideshow": {
     "slide_type": "fragment"
    }
   },
   "source": [
    "- Colab runs on docker with root privileges (we can install software inside)"
   ]
  },
  {
   "cell_type": "markdown",
   "id": "5508f4de",
   "metadata": {
    "slideshow": {
     "slide_type": "subslide"
    }
   },
   "source": [
    "### Some external comparison\n",
    "- https://datasciencenotebook.org/compare/jupyter/colab\n",
    "- https://betterdatascience.com/macbook-m1-pro-vs-google-colab/?utm_content=cmp-true"
   ]
  }
 ],
 "metadata": {
  "celltoolbar": "Slideshow",
  "kernelspec": {
   "display_name": "Python 3 (ipykernel)",
   "language": "python",
   "name": "python3"
  },
  "language_info": {
   "codemirror_mode": {
    "name": "ipython",
    "version": 3
   },
   "file_extension": ".py",
   "mimetype": "text/x-python",
   "name": "python",
   "nbconvert_exporter": "python",
   "pygments_lexer": "ipython3",
   "version": "3.9.15"
  },
  "rise": {
   "autolaunch": true,
   "enable_chalkboard": "true",
   "footer": "<div class=\"sds-footer\"> *** Social Data Science (SDS) - Notions of Database Management Systems ***</div>",
   "header": "<div class=\"sds-header\"><div class=\"sds-header-image\"></div></div>",
   "scroll": true,
   "theme": "white"
  }
 },
 "nbformat": 4,
 "nbformat_minor": 5
}
