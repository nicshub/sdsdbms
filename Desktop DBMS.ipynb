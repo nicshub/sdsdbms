{
 "cells": [
  {
   "cell_type": "markdown",
   "id": "87a85ab9",
   "metadata": {
    "slideshow": {
     "slide_type": "slide"
    }
   },
   "source": [
    "# Desktop Database Management Systems (DDBMS)"
   ]
  },
  {
   "cell_type": "code",
   "execution_count": null,
   "id": "91dab74d",
   "metadata": {},
   "outputs": [],
   "source": []
  },
  {
   "cell_type": "markdown",
   "id": "54b99ccf",
   "metadata": {
    "cell_style": "center",
    "slideshow": {
     "slide_type": "fragment"
    }
   },
   "source": [
    "> A desktop database is a type of database management system designed for single users or small groups, primarily for storing and managing data on personal computers. These databases provide a user-friendly and intuitive interface for creating, updating, and searching through data records.\n",
    "\n",
    "https://www.devx.com/terms/desktop-database/\n"
   ]
  },
  {
   "cell_type": "markdown",
   "id": "0718817a",
   "metadata": {
    "slideshow": {
     "slide_type": "subslide"
    }
   },
   "source": [
    "# Smurf DB\n",
    "![](images/smurfdb.jpeg)\n",
    "https://www.bing.com/images/create/a-smurf-having-a-small-database-as-a-hat-put-in-a/1-65b52f6af7594f6f876e05412921e5d3?id=jQ0gmBki7E2qV2gI%2F55mew%3D%3D&view=detailv2&idpp=genimg&idpclose=1&form=SYDBIC"
   ]
  },
  {
   "cell_type": "markdown",
   "id": "1da3d6e1",
   "metadata": {
    "slideshow": {
     "slide_type": "slide"
    }
   },
   "source": [
    "# Origin"
   ]
  },
  {
   "cell_type": "markdown",
   "id": "8a452219",
   "metadata": {
    "slideshow": {
     "slide_type": "subslide"
    }
   },
   "source": [
    "## Personal Computer"
   ]
  },
  {
   "cell_type": "markdown",
   "id": "bf8702b5",
   "metadata": {
    "slideshow": {
     "slide_type": "fragment"
    }
   },
   "source": [
    "Personal computers become popular in the 80s and, following the [Moore's law](https://en.wikipedia.org/wiki/Moore%27s_law) , more and more powerful."
   ]
  },
  {
   "cell_type": "markdown",
   "id": "b6387f3a",
   "metadata": {
    "slideshow": {
     "slide_type": "fragment"
    }
   },
   "source": [
    "In parallel to the Relational DBMS development (based on SQL), a generation of new DBMS, for desktop computer started to be developed. "
   ]
  },
  {
   "cell_type": "markdown",
   "id": "9c35339c",
   "metadata": {
    "slideshow": {
     "slide_type": "fragment"
    }
   },
   "source": [
    "These systems include the ability to create table and relations, and also generate report and forms using visual tools, they become very popular in 90s."
   ]
  },
  {
   "cell_type": "markdown",
   "id": "1d366aab",
   "metadata": {
    "slideshow": {
     "slide_type": "fragment"
    }
   },
   "source": [
    "In modern words they can be considered as low-code systems"
   ]
  },
  {
   "cell_type": "markdown",
   "id": "aadd0cc5",
   "metadata": {
    "slideshow": {
     "slide_type": "slide"
    }
   },
   "source": [
    "## First DDBMS"
   ]
  },
  {
   "cell_type": "markdown",
   "id": "50ac0f7f",
   "metadata": {
    "slideshow": {
     "slide_type": "subslide"
    }
   },
   "source": [
    "### dBase\n",
    "![](https://upload.wikimedia.org/wikipedia/commons/thumb/0/00/DBaseLogo_BlackWithRed_glass_300.png/182px-DBaseLogo_BlackWithRed_glass_300.png)\n",
    "\n",
    "https://www.dbase.com/"
   ]
  },
  {
   "cell_type": "markdown",
   "id": "9b03fc5e",
   "metadata": {
    "cell_style": "split",
    "slideshow": {
     "slide_type": "fragment"
    }
   },
   "source": [
    "Launched in 1979 by Ashton-Tate (then sold to Borland), it's still in the market (latest release in 2020).\n",
    "Include:\n",
    "- DB Engine\n",
    "- Forms\n",
    "- Programming Language\n",
    "\n",
    "Has influenced the xBase products like Clipper (acquired by Computer Associates), FoxPro (acquired by Microsoft)"
   ]
  },
  {
   "cell_type": "markdown",
   "id": "9a594b50",
   "metadata": {
    "cell_style": "split",
    "slideshow": {
     "slide_type": "fragment"
    }
   },
   "source": [
    "![](https://upload.wikimedia.org/wikipedia/commons/thumb/b/bf/Screenshot_of_Dbase_III_Plus.png/330px-Screenshot_of_Dbase_III_Plus.png)\n",
    "\n",
    "Screenshot of Dbase III"
   ]
  },
  {
   "cell_type": "markdown",
   "id": "6bf27121",
   "metadata": {
    "slideshow": {
     "slide_type": "subslide"
    }
   },
   "source": [
    "## A nice story\n",
    "https://www.dbase.com/Knowledgebase/dbulletin/bu03hist.htm"
   ]
  },
  {
   "cell_type": "markdown",
   "id": "2371497f",
   "metadata": {
    "slideshow": {
     "slide_type": "subslide"
    }
   },
   "source": [
    "In 1987 Rank Product Relative Sales"
   ]
  },
  {
   "cell_type": "markdown",
   "id": "d23a9113",
   "metadata": {
    "cell_style": "split",
    "slideshow": {
     "slide_type": "fragment"
    }
   },
   "source": [
    "**IBM-PC Software Titles**\n",
    "\n",
    "1. Lotus 123 \n",
    "2. WordPerfect \n",
    "3. PFS: First Choice \n",
    "4. dBASE-III "
   ]
  },
  {
   "cell_type": "markdown",
   "id": "d1453eea",
   "metadata": {
    "cell_style": "split",
    "slideshow": {
     "slide_type": "fragment"
    }
   },
   "source": [
    "**Macintosh Software Titles**\n",
    "\n",
    "1. Word \n",
    "2. Excel\n",
    "3. MacDraw \n",
    "4. dBASE-III \n",
    "\n"
   ]
  },
  {
   "cell_type": "markdown",
   "id": "ef5c6e3d",
   "metadata": {
    "slideshow": {
     "slide_type": "fragment"
    }
   },
   "source": [
    "In 1988, the five-year sales growth was 76.2% for A-T, 63.8% for Microsoft, 54.6% for Lotus.\n",
    "\n",
    "And yes, Word and Excel where first released to Macintosh (consider that Windows was released in 1989)"
   ]
  },
  {
   "cell_type": "markdown",
   "id": "8611b25d",
   "metadata": {
    "slideshow": {
     "slide_type": "slide"
    }
   },
   "source": [
    "## Second generation (graphical)"
   ]
  },
  {
   "cell_type": "markdown",
   "id": "74c45f7e",
   "metadata": {
    "slideshow": {
     "slide_type": "subslide"
    }
   },
   "source": [
    "## Paradox "
   ]
  },
  {
   "cell_type": "markdown",
   "id": "0816f9cd",
   "metadata": {
    "cell_style": "split",
    "slideshow": {
     "slide_type": "fragment"
    }
   },
   "source": [
    "In 1985 the New York Times described it as \"among the first of an emerging generation of software making extensive use of artificial intelligence techniques,\" and noted that Paradox could read the competing Ashton Tate's dBase file\n",
    "\n",
    "https://www.nytimes.com/1985/09/23/business/new-ansa-program-stirs-high-hopes.html"
   ]
  },
  {
   "cell_type": "markdown",
   "id": "5c1981c3",
   "metadata": {
    "cell_style": "split",
    "slideshow": {
     "slide_type": "fragment"
    }
   },
   "source": [
    "**Features**\n",
    "- visual Query by Example, AI engine \n",
    "- effective use of memory\n",
    "- readibility award manual\n",
    "- innovative programming language (PAL)\n",
    "- Menu and windows User Interface"
   ]
  },
  {
   "cell_type": "markdown",
   "id": "320b7594",
   "metadata": {
    "cell_style": "center",
    "slideshow": {
     "slide_type": "subslide"
    }
   },
   "source": [
    "- Despite the big potential, Borland that acquired first Paradox in 1987, then dBase in 1992. \n",
    "\n",
    "- Windows version of Paradox, created by another team, was shifted to Jam 1993, but Microsoft Access was relased in November 1992.\n",
    "\n",
    "- Also dBase loose the compatibility with xBase products (in particular FoxPro, again Microsoft)\n",
    "\n",
    "- In 1995 Microsoft launched Office 95 and started the long and succesful story"
   ]
  },
  {
   "cell_type": "markdown",
   "id": "8ffb8b10",
   "metadata": {
    "slideshow": {
     "slide_type": "subslide"
    }
   },
   "source": [
    "![](images/ddms-wackyraces.png)"
   ]
  },
  {
   "cell_type": "markdown",
   "id": "354f7cf2",
   "metadata": {
    "slideshow": {
     "slide_type": "subslide"
    }
   },
   "source": [
    "## Microsoft Access "
   ]
  },
  {
   "cell_type": "markdown",
   "id": "87e6fccb",
   "metadata": {
    "cell_style": "split",
    "slideshow": {
     "slide_type": "fragment"
    }
   },
   "source": [
    "**Main Features**\n",
    "- Strong connection with Office suite\n",
    "- Template ready to use to create and publish data\n",
    "- Visual Query (QBE) \n",
    "- Reports builder"
   ]
  },
  {
   "cell_type": "markdown",
   "id": "da23dc54",
   "metadata": {
    "cell_style": "split",
    "slideshow": {
     "slide_type": "fragment"
    }
   },
   "source": [
    "![](https://upload.wikimedia.org/wikipedia/commons/thumb/f/f1/Microsoft_Office_Access_%282019-present%29.svg/246px-Microsoft_Office_Access_%282019-present%29.svg.png)"
   ]
  },
  {
   "cell_type": "markdown",
   "id": "45491001",
   "metadata": {
    "slideshow": {
     "slide_type": "slide"
    }
   },
   "source": [
    "# StarOffice and it's successor  "
   ]
  },
  {
   "cell_type": "markdown",
   "id": "24e4781d",
   "metadata": {
    "slideshow": {
     "slide_type": "fragment"
    }
   },
   "source": [
    "- In the same period of personal computer rise, in Europe a suite of software named StarOffice become popular"
   ]
  },
  {
   "cell_type": "markdown",
   "id": "53ed98e5",
   "metadata": {
    "slideshow": {
     "slide_type": "fragment"
    }
   },
   "source": [
    "- The company was acquired by Sun Microsystem in 1999 that created an open source version called OpenOffice.org"
   ]
  },
  {
   "cell_type": "markdown",
   "id": "6610b2f5",
   "metadata": {
    "slideshow": {
     "slide_type": "fragment"
    }
   },
   "source": [
    "- OpenOffice was avaiable for all platforms, including Linux"
   ]
  },
  {
   "cell_type": "markdown",
   "id": "25d857c3",
   "metadata": {
    "slideshow": {
     "slide_type": "fragment"
    }
   },
   "source": [
    "- In 2011, after Oracle acquisition of SUN, the project become only mantained by community"
   ]
  },
  {
   "cell_type": "markdown",
   "id": "4d3a4af9",
   "metadata": {
    "slideshow": {
     "slide_type": "fragment"
    }
   },
   "source": [
    "## StarOffice derivatives\n",
    "![](https://upload.wikimedia.org/wikipedia/commons/thumb/f/fb/StarOffice_major_derivatives.svg/2668px-StarOffice_major_derivatives.svg.png)"
   ]
  },
  {
   "cell_type": "markdown",
   "id": "6254c209",
   "metadata": {
    "slideshow": {
     "slide_type": "subslide"
    }
   },
   "source": [
    "## Libre Office\n",
    "https://www.libreoffice.org/\n",
    "\n",
    "\n",
    "- Among the derivatives, Libre Office is one of the most popular.\n",
    "- It's actively mantained and has a large community \n",
    "- Base is the Desktop Database of the suite https://www.libreoffice.org/discover/base/ \n"
   ]
  },
  {
   "cell_type": "markdown",
   "id": "4aca48de",
   "metadata": {
    "slideshow": {
     "slide_type": "slide"
    }
   },
   "source": [
    "# Query by Example (QBE)"
   ]
  },
  {
   "cell_type": "markdown",
   "id": "25a82da6",
   "metadata": {
    "cell_style": "split",
    "slideshow": {
     "slide_type": "fragment"
    }
   },
   "source": [
    "**Query by Example (QBE)** is a database query language for relational databases. \n",
    "\n",
    "It was devised by Moshé M. Zloof at IBM Research during the mid-1970s, in parallel to the development of SQL\n",
    "\n",
    "Zloof, M.M. (1977). \"Query-by-Example: A data base language\". IBM Systems Journal. 16 (4): 324–343. CiteSeerX 10.1.1.86.3485. doi:10.1147/sj.164.0324"
   ]
  },
  {
   "cell_type": "markdown",
   "id": "81f0c692",
   "metadata": {
    "cell_style": "split",
    "slideshow": {
     "slide_type": "fragment"
    }
   },
   "source": [
    "![](https://upload.wikimedia.org/wikipedia/commons/thumb/8/8a/Requ%C3%AAte_QBE_dans_Paradox.jpg/506px-Requ%C3%AAte_QBE_dans_Paradox.jpg)\n",
    "\n",
    "[Example of QBE query with joins, designed in Borland's Paradox database](https://en.wikipedia.org/wiki/Query_by_Example#/media/File:Requ%C3%AAte_QBE_dans_Paradox.jpg)"
   ]
  },
  {
   "cell_type": "markdown",
   "id": "12146225",
   "metadata": {
    "slideshow": {
     "slide_type": "subslide"
    }
   },
   "source": [
    "# How QBE works ?"
   ]
  },
  {
   "cell_type": "markdown",
   "id": "42b8a9fd",
   "metadata": {
    "slideshow": {
     "slide_type": "fragment"
    }
   },
   "source": [
    "- Instead of writing queries using a language, the idea is to interactively design the output desired and apply filters. "
   ]
  },
  {
   "cell_type": "markdown",
   "id": "4ff36303",
   "metadata": {
    "slideshow": {
     "slide_type": "fragment"
    }
   },
   "source": [
    "- The samples are internally transformed into database manipulation language without requiring user to learn it"
   ]
  },
  {
   "cell_type": "markdown",
   "id": "d681d505",
   "metadata": {
    "slideshow": {
     "slide_type": "fragment"
    }
   },
   "source": [
    "- Optional functions (like contains for string or min/max) can be applied as well as wildcard operators"
   ]
  },
  {
   "cell_type": "markdown",
   "id": "cb8cc900",
   "metadata": {
    "slideshow": {
     "slide_type": "slide"
    }
   },
   "source": [
    "# Pro/Contra of DDBMS"
   ]
  },
  {
   "cell_type": "markdown",
   "id": "b9f0be8c",
   "metadata": {
    "cell_style": "split",
    "slideshow": {
     "slide_type": "fragment"
    }
   },
   "source": [
    "**Pro**\n",
    "- Easy to install\n",
    "- Local access to data "
   ]
  },
  {
   "cell_type": "markdown",
   "id": "4e7b9ebf",
   "metadata": {
    "cell_style": "split",
    "slideshow": {
     "slide_type": "fragment"
    }
   },
   "source": [
    "**Contra**\n",
    "- Not scalable, not portable\n",
    "- Not standard,\n",
    "- Risk of data loss "
   ]
  }
 ],
 "metadata": {
  "celltoolbar": "Slideshow",
  "kernelspec": {
   "display_name": "Python 3 (ipykernel)",
   "language": "python",
   "name": "python3"
  },
  "language_info": {
   "codemirror_mode": {
    "name": "ipython",
    "version": 3
   },
   "file_extension": ".py",
   "mimetype": "text/x-python",
   "name": "python",
   "nbconvert_exporter": "python",
   "pygments_lexer": "ipython3",
   "version": "3.9.15"
  },
  "rise": {
   "autolaunch": true,
   "enable_chalkboard": "true",
   "footer": "<div class=\"sds-footer\"> *** Social Data Science (SDS) - Notions of Database Management Systems ***</div>",
   "header": "<div class=\"sds-header\"><div class=\"sds-header-image\"></div></div>",
   "scroll": true,
   "theme": "white"
  }
 },
 "nbformat": 4,
 "nbformat_minor": 5
}
