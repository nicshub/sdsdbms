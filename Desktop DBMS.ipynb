{
 "cells": [
  {
   "cell_type": "markdown",
   "id": "87a85ab9",
   "metadata": {
    "slideshow": {
     "slide_type": "slide"
    }
   },
   "source": [
    "# Desktop Database Management Systems (DDBMS)"
   ]
  },
  {
   "cell_type": "markdown",
   "id": "54b99ccf",
   "metadata": {
    "cell_style": "center",
    "slideshow": {
     "slide_type": "fragment"
    }
   },
   "source": [
    "> A desktop database is a type of database management system designed for single users or small groups, primarily for storing and managing data on personal computers. These databases provide a user-friendly and intuitive interface for creating, updating, and searching through data records.\n",
    "\n",
    "https://www.devx.com/terms/desktop-database/\n"
   ]
  },
  {
   "attachments": {},
   "cell_type": "markdown",
   "id": "0718817a",
   "metadata": {
    "slideshow": {
     "slide_type": "subslide"
    }
   },
   "source": [
    "# Smurf DB\n",
    "![](images/smurfdb.jpeg)\n",
    "https://www.bing.com/images/create/a-smurf-having-a-small-database-as-a-hat-put-in-a/1-65b52f6af7594f6f876e05412921e5d3?id=jQ0gmBki7E2qV2gI%2F55mew%3D%3D&view=detailv2&idpp=genimg&idpclose=1&form=SYDBIC"
   ]
  },
  {
   "cell_type": "markdown",
   "id": "1da3d6e1",
   "metadata": {
    "slideshow": {
     "slide_type": "slide"
    }
   },
   "source": [
    "# Origin"
   ]
  },
  {
   "cell_type": "markdown",
   "id": "8a452219",
   "metadata": {
    "slideshow": {
     "slide_type": "subslide"
    }
   },
   "source": [
    "## Personal Computer"
   ]
  },
  {
   "cell_type": "markdown",
   "id": "bf8702b5",
   "metadata": {
    "slideshow": {
     "slide_type": "fragment"
    }
   },
   "source": [
    "Personal computers become popular in the 80s and, following the [Moore's law](https://en.wikipedia.org/wiki/Moore%27s_law) , more and more powerful."
   ]
  },
  {
   "cell_type": "markdown",
   "id": "b6387f3a",
   "metadata": {
    "slideshow": {
     "slide_type": "fragment"
    }
   },
   "source": [
    "In parallel to the Relational DBMS development (based on SQL), a generation of new DBMS, for desktop computer started to be developed. "
   ]
  },
  {
   "cell_type": "markdown",
   "id": "9c35339c",
   "metadata": {
    "slideshow": {
     "slide_type": "fragment"
    }
   },
   "source": [
    "These systems include the ability to create table and relations, and also generate report and forms using visual tools, they become very popular in 90s."
   ]
  },
  {
   "cell_type": "markdown",
   "id": "1d366aab",
   "metadata": {
    "slideshow": {
     "slide_type": "fragment"
    }
   },
   "source": [
    "In modern words they can be considered as low-code systems"
   ]
  },
  {
   "cell_type": "markdown",
   "id": "aadd0cc5",
   "metadata": {
    "slideshow": {
     "slide_type": "slide"
    }
   },
   "source": [
    "## First DDBMS"
   ]
  },
  {
   "cell_type": "markdown",
   "id": "50ac0f7f",
   "metadata": {
    "slideshow": {
     "slide_type": "subslide"
    }
   },
   "source": [
    "### dBase\n",
    "![](https://upload.wikimedia.org/wikipedia/commons/thumb/0/00/DBaseLogo_BlackWithRed_glass_300.png/182px-DBaseLogo_BlackWithRed_glass_300.png)\n",
    "\n",
    "https://www.dbase.com/"
   ]
  },
  {
   "cell_type": "markdown",
   "id": "9b03fc5e",
   "metadata": {
    "cell_style": "split",
    "slideshow": {
     "slide_type": "fragment"
    }
   },
   "source": [
    "Launched in 1979 by Ashton-Tate (then sold yo Borland), it's still in the market (latest release in 2020).\n",
    "Include:\n",
    "- DB Engine\n",
    "- Forms\n",
    "- Programming Language\n",
    "\n",
    "Has influenced the xBase products like Clipper (acquired by Computer Associates), FoxPro (acquired by Microsoft)"
   ]
  },
  {
   "cell_type": "markdown",
   "id": "9a594b50",
   "metadata": {
    "cell_style": "split",
    "slideshow": {
     "slide_type": "fragment"
    }
   },
   "source": [
    "![](https://upload.wikimedia.org/wikipedia/commons/thumb/b/bf/Screenshot_of_Dbase_III_Plus.png/330px-Screenshot_of_Dbase_III_Plus.png)\n",
    "\n",
    "Screenshot of Dbase III"
   ]
  },
  {
   "cell_type": "markdown",
   "id": "6bf27121",
   "metadata": {
    "slideshow": {
     "slide_type": "subslide"
    }
   },
   "source": [
    "## A nice story\n",
    "https://www.dbase.com/Knowledgebase/dbulletin/bu03hist.htm"
   ]
  },
  {
   "cell_type": "markdown",
   "id": "2371497f",
   "metadata": {
    "slideshow": {
     "slide_type": "subslide"
    }
   },
   "source": [
    "In 1987 Rank Product Relative Sales"
   ]
  },
  {
   "cell_type": "markdown",
   "id": "d23a9113",
   "metadata": {
    "cell_style": "split",
    "slideshow": {
     "slide_type": "fragment"
    }
   },
   "source": [
    "**IBM-PC Software Titles**\n",
    "\n",
    "1. Lotus 123 \n",
    "2. WordPerfect \n",
    "3. PFS: First Choice \n",
    "4. dBASE-III "
   ]
  },
  {
   "cell_type": "markdown",
   "id": "d1453eea",
   "metadata": {
    "cell_style": "split",
    "slideshow": {
     "slide_type": "fragment"
    }
   },
   "source": [
    "**Macintosh Software Titles**\n",
    "\n",
    "1. Word \n",
    "2. Excel\n",
    "3. MacDraw \n",
    "4. dBASE-III \n",
    "\n"
   ]
  },
  {
   "cell_type": "markdown",
   "id": "ef5c6e3d",
   "metadata": {
    "slideshow": {
     "slide_type": "fragment"
    }
   },
   "source": [
    "In 1988, the five-year sales growth was 76.2% for A-T, 63.8% for Microsoft, 54.6% for Lotus.\n",
    "\n",
    "And yes, Word and Excel where first released to Macintosh (consider that Windows was released in 1989)"
   ]
  },
  {
   "cell_type": "markdown",
   "id": "8611b25d",
   "metadata": {
    "slideshow": {
     "slide_type": "slide"
    }
   },
   "source": [
    "## Second generation (graphical)"
   ]
  },
  {
   "cell_type": "markdown",
   "id": "74c45f7e",
   "metadata": {},
   "source": [
    "## Paradox "
   ]
  },
  {
   "cell_type": "markdown",
   "id": "354f7cf2",
   "metadata": {},
   "source": [
    "## Access "
   ]
  },
  {
   "cell_type": "markdown",
   "id": "8e3110bc",
   "metadata": {},
   "source": [
    "### FileMaker"
   ]
  },
  {
   "cell_type": "markdown",
   "id": "45491001",
   "metadata": {},
   "source": [
    "## Now \n"
   ]
  },
  {
   "cell_type": "markdown",
   "id": "cb8cc900",
   "metadata": {},
   "source": [
    "Pro/Contra of DDBMS"
   ]
  },
  {
   "cell_type": "markdown",
   "id": "4aca48de",
   "metadata": {},
   "source": [
    "## QBE"
   ]
  },
  {
   "cell_type": "code",
   "execution_count": null,
   "id": "d93dfb7e",
   "metadata": {},
   "outputs": [],
   "source": []
  }
 ],
 "metadata": {
  "celltoolbar": "Slideshow",
  "kernelspec": {
   "display_name": "Python 3 (ipykernel)",
   "language": "python",
   "name": "python3"
  },
  "language_info": {
   "codemirror_mode": {
    "name": "ipython",
    "version": 3
   },
   "file_extension": ".py",
   "mimetype": "text/x-python",
   "name": "python",
   "nbconvert_exporter": "python",
   "pygments_lexer": "ipython3",
   "version": "3.9.15"
  },
  "rise": {
   "autolaunch": true,
   "enable_chalkboard": "true",
   "footer": "<div class=\"sds-footer\"> *** Social Data Science (SDS) - Notions of Database Management Systems ***</div>",
   "header": "<div class=\"sds-header\"><div class=\"sds-header-image\"></div></div>",
   "scroll": true,
   "theme": "white"
  }
 },
 "nbformat": 4,
 "nbformat_minor": 5
}
