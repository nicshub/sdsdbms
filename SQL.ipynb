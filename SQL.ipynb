{
 "cells": [
  {
   "cell_type": "markdown",
   "id": "87a85ab9",
   "metadata": {
    "slideshow": {
     "slide_type": "slide"
    }
   },
   "source": [
    "# SQL"
   ]
  },
  {
   "cell_type": "markdown",
   "id": "b4943f25",
   "metadata": {
    "slideshow": {
     "slide_type": "slide"
    }
   },
   "source": [
    "## Origin"
   ]
  },
  {
   "cell_type": "markdown",
   "id": "f6334806",
   "metadata": {
    "cell_style": "split",
    "slideshow": {
     "slide_type": "fragment"
    }
   },
   "source": [
    "![](images/sequelpaper.png)"
   ]
  },
  {
   "cell_type": "markdown",
   "id": "0c4918c3",
   "metadata": {
    "cell_style": "split",
    "slideshow": {
     "slide_type": "fragment"
    }
   },
   "source": [
    "1974, IBM Research Laboratory\n",
    "\n",
    "- Based on Codd's Relation Model\n",
    "- SEQUEL is an evolution of SQUARE (Specifying Query as Relation Expression) by same authors, using English form\n",
    "- Designed to be used in System R"
   ]
  },
  {
   "cell_type": "markdown",
   "id": "06c489d1",
   "metadata": {
    "slideshow": {
     "slide_type": "subslide"
    }
   },
   "source": [
    "### From SEQUEL to SQL"
   ]
  },
  {
   "cell_type": "markdown",
   "id": "ed543079",
   "metadata": {
    "cell_style": "split",
    "slideshow": {
     "slide_type": "fragment"
    }
   },
   "source": [
    "- SEQUEL was already a [trademark](https://www.trademarkia.com/sequel-73346503) \n",
    "so the name was changed to SQL (removing the vowels). \n",
    "\n",
    "- It's accepted that SQL it's an acronym of\n",
    "Structured Query Language\n",
    "\n",
    "- It's pronounced both as ˌɛsˌkjuːˈɛl or siːkwəl\n",
    "\n"
   ]
  },
  {
   "cell_type": "markdown",
   "id": "6306a24b",
   "metadata": {
    "cell_style": "split",
    "slideshow": {
     "slide_type": "fragment"
    }
   },
   "source": [
    "![](https://miro.medium.com/v2/resize:fit:1400/format:webp/1*bozntk3hHXBt1bfNWf3jKA.png)\n",
    "\n",
    "https://medium.com/tableplus/how-to-pronounce-sql-properly-s-q-l-or-sequel-7203a5185676"
   ]
  },
  {
   "cell_type": "markdown",
   "id": "29b6f0e4",
   "metadata": {
    "slideshow": {
     "slide_type": "slide"
    }
   },
   "source": [
    "## SQL is a standard"
   ]
  },
  {
   "cell_type": "markdown",
   "id": "7f4bc83f",
   "metadata": {
    "cell_style": "split",
    "slideshow": {
     "slide_type": "fragment"
    }
   },
   "source": [
    "- Since 1986, ANSI and ISO, define the \"Database Language SQL\" standard\n",
    "- Continuously updated: 1989, 1992, 1996, 1999, 2003, 2006, 2008, 2011, 2016, 2023\n",
    "- Including new datatypes (JSON, Graph Query)\n",
    "- Adding reserved [keywords](https://en.wikipedia.org/wiki/List_of_SQL_reserved_words)"
   ]
  },
  {
   "cell_type": "markdown",
   "id": "3e2da594",
   "metadata": {
    "cell_style": "split",
    "slideshow": {
     "slide_type": "fragment"
    }
   },
   "source": [
    "> Its application in handling structured data has fostered in the Digital Age. In fact, the powerful database manipulation and definition capabilities of SQL and its intuitive tabular view have become available in some form on virtually every important computer platform in the world.\n",
    "\n",
    "Read more at the ANSI Blog: The SQL Standard – ISO/IEC 9075:2023 (ANSI X3.135) https://blog.ansi.org/?p=158690"
   ]
  },
  {
   "cell_type": "markdown",
   "id": "fa97177f",
   "metadata": {
    "slideshow": {
     "slide_type": "subslide"
    }
   },
   "source": [
    "## SQL is Relational"
   ]
  },
  {
   "cell_type": "markdown",
   "id": "acd0e3b2",
   "metadata": {
    "slideshow": {
     "slide_type": "fragment"
    }
   },
   "source": [
    "- The result of a Query (result set) is a table"
   ]
  },
  {
   "cell_type": "markdown",
   "id": "b72f077d",
   "metadata": {
    "slideshow": {
     "slide_type": "fragment"
    }
   },
   "source": [
    "- This means that we can create \"sub-tables\"and use to create complex queries (subqueries)"
   ]
  },
  {
   "cell_type": "markdown",
   "id": "35979e4f",
   "metadata": {
    "slideshow": {
     "slide_type": "fragment"
    }
   },
   "source": [
    "- We can also define a view, that's a table created as query"
   ]
  },
  {
   "cell_type": "markdown",
   "id": "ed4b5070",
   "metadata": {
    "slideshow": {
     "slide_type": "subslide"
    }
   },
   "source": [
    "## SQL is a language"
   ]
  },
  {
   "cell_type": "markdown",
   "id": "8c58b901",
   "metadata": {
    "slideshow": {
     "slide_type": "fragment"
    }
   },
   "source": [
    "- It's a **declarative** language: (like XML, Prolog, ...) Focus in on **what** the program has to do, not **how** as in Procedural languages\n",
    "- To extend capabilities database vendors had created extended versions (Oracle PL/SQL, Microsoft T-SQL): however this create a tight connection and a potential lock-in\n",
    "- SQL is also extensibile using **stored procedures** and/or **user defined functions**\n",
    "- SQL *statements* are made by **clauses** using keywords and parameters (we will see the syntax later)"
   ]
  },
  {
   "cell_type": "markdown",
   "id": "bc8e47b8",
   "metadata": {
    "slideshow": {
     "slide_type": "subslide"
    }
   },
   "source": [
    "### SQL is a set of multiple language"
   ]
  },
  {
   "cell_type": "markdown",
   "id": "cd623a9b",
   "metadata": {
    "slideshow": {
     "slide_type": "fragment"
    }
   },
   "source": [
    "- **DDL** (Data Definition Language): Define tables and all database objects\n",
    "- **DCL** (Data Control Language): Control privileges to users and db objects\n",
    "- **DML** (Data Manipulation Language): Performs operations on data (insert, update, delete)\n",
    "- **DQL** (Data Query Language): Gets the data (sometimes this is included into DML)"
   ]
  },
  {
   "cell_type": "markdown",
   "id": "2fa0aff4",
   "metadata": {
    "slideshow": {
     "slide_type": "fragment"
    }
   },
   "source": []
  },
  {
   "cell_type": "markdown",
   "id": "3c58c258",
   "metadata": {
    "slideshow": {
     "slide_type": "slide"
    }
   },
   "source": [
    "# SELECT statement"
   ]
  },
  {
   "cell_type": "markdown",
   "id": "649b3843",
   "metadata": {
    "slideshow": {
     "slide_type": "fragment"
    }
   },
   "source": [
    "**Personal considerations by a 20 years DBA**\n",
    "- Select is the most powerful (and complex) statement of SQL, it's the command to get data\n",
    "- Writing Queries is like an art, it's writing a journey of the data that you can see in your mind\n",
    "- Optimizing queries it's a pleasure\n",
    "- KISS, to complex queries correspond complex applications"
   ]
  },
  {
   "cell_type": "markdown",
   "id": "cf7f3c35",
   "metadata": {
    "slideshow": {
     "slide_type": "subslide"
    }
   },
   "source": [
    "### The SELECT clauses \n",
    "Using SQLLite [reference](https://www.sqlite.org/lang_select.html)"
   ]
  },
  {
   "cell_type": "markdown",
   "id": "844f01c8",
   "metadata": {
    "cell_style": "split",
    "slideshow": {
     "slide_type": "fragment"
    }
   },
   "source": [
    "**SELECT**\n",
    "- SELECT defines the list of attributes in the result table\n",
    "- ALL is default, DISTINCT remove duplicates \n",
    "- result-column: list of attributes. * means all"
   ]
  },
  {
   "cell_type": "markdown",
   "id": "cf2d5f0c",
   "metadata": {
    "cell_style": "split",
    "slideshow": {
     "slide_type": "fragment"
    }
   },
   "source": [
    "![](images/select-clause.png)"
   ]
  },
  {
   "cell_type": "markdown",
   "id": "fa4a16c4",
   "metadata": {
    "cell_style": "center",
    "slideshow": {
     "slide_type": "skip"
    }
   },
   "source": []
  },
  {
   "cell_type": "markdown",
   "id": "1fc8a10e",
   "metadata": {
    "cell_style": "split",
    "slideshow": {
     "slide_type": "subslide"
    }
   },
   "source": [
    "**FROM**\n",
    "- Table name (and alias)\n",
    "- Multiple Tables t1,t2 (cartesian)\n",
    "- Join (another clause) "
   ]
  },
  {
   "cell_type": "markdown",
   "id": "b23f35db",
   "metadata": {
    "cell_style": "split",
    "slideshow": {
     "slide_type": "fragment"
    }
   },
   "source": [
    "![](images/from-clause.png)"
   ]
  },
  {
   "cell_type": "markdown",
   "id": "0313c9e0",
   "metadata": {
    "slideshow": {
     "slide_type": "skip"
    }
   },
   "source": []
  },
  {
   "cell_type": "markdown",
   "id": "eb9a8da6",
   "metadata": {
    "slideshow": {
     "slide_type": "slide"
    }
   },
   "source": [
    "## Hands On\n",
    "\n",
    "https://colab.research.google.com/github/nicshub/sdsdbms/blob/master/Sakila-HandsOn.ipynb"
   ]
  },
  {
   "cell_type": "markdown",
   "id": "261444d9",
   "metadata": {
    "slideshow": {
     "slide_type": "subslide"
    }
   },
   "source": [
    "#### Join"
   ]
  },
  {
   "cell_type": "markdown",
   "id": "a5563557",
   "metadata": {
    "cell_style": "center",
    "slideshow": {
     "slide_type": "fragment"
    }
   },
   "source": [
    "- In Relational Algebra: JOIN combines attributes of two relations into one"
   ]
  },
  {
   "cell_type": "markdown",
   "id": "fee3ae3d",
   "metadata": {
    "slideshow": {
     "slide_type": "fragment"
    }
   },
   "source": [
    "- Tables are joinable if (and only if) the relations have attributes with same name (or alias) and same type, i.e. they are the same attribute"
   ]
  },
  {
   "cell_type": "markdown",
   "id": "4ed4bede",
   "metadata": {
    "slideshow": {
     "slide_type": "fragment"
    }
   },
   "source": [
    "- It's possibile to combine multiple joins, the query engine will optimize."
   ]
  },
  {
   "cell_type": "markdown",
   "id": "fa25cf56",
   "metadata": {
    "slideshow": {
     "slide_type": "fragment"
    }
   },
   "source": [
    "- However the logical order of the join it's important, remember think to the final result"
   ]
  },
  {
   "cell_type": "markdown",
   "id": "32437d24",
   "metadata": {
    "slideshow": {
     "slide_type": "subslide"
    }
   },
   "source": [
    "#### Types of Join "
   ]
  },
  {
   "cell_type": "markdown",
   "id": "d09b5aed",
   "metadata": {
    "cell_style": "split",
    "slideshow": {
     "slide_type": "fragment"
    }
   },
   "source": [
    "- NATURAL JOIN: A join based on same attribute name\n",
    "- INNER JOIN: Result records contains only rows that are present in both tables\n",
    "- OUTER JOIN: Result records contains only rows that are not present in both tables\n",
    "- LEFT/RIGHT: limit the outer join to keep\n",
    "- CROSS JOIN: product cartesian (,)"
   ]
  },
  {
   "cell_type": "markdown",
   "id": "bc95c49b",
   "metadata": {
    "cell_style": "split",
    "slideshow": {
     "slide_type": "fragment"
    }
   },
   "source": [
    "![](images/join-clause.png)"
   ]
  },
  {
   "cell_type": "markdown",
   "id": "30ae704f",
   "metadata": {
    "slideshow": {
     "slide_type": "skip"
    }
   },
   "source": []
  },
  {
   "cell_type": "markdown",
   "id": "c5bad014",
   "metadata": {
    "cell_style": "split",
    "slideshow": {
     "slide_type": "subslide"
    }
   },
   "source": [
    "**WHERE**\n",
    "- Filter result set according to a boolean expression\n"
   ]
  },
  {
   "cell_type": "markdown",
   "id": "692883f6",
   "metadata": {
    "cell_style": "split",
    "slideshow": {
     "slide_type": "fragment"
    }
   },
   "source": [
    "![](images/where-clause.png)"
   ]
  },
  {
   "cell_type": "markdown",
   "id": "196ddc98",
   "metadata": {
    "slideshow": {
     "slide_type": "skip"
    }
   },
   "source": []
  },
  {
   "cell_type": "markdown",
   "id": "bbb857e2",
   "metadata": {
    "cell_style": "split",
    "slideshow": {
     "slide_type": "subslide"
    }
   },
   "source": [
    "**GROUP BY**\n",
    "- Aggregate result set according to a specific \n"
   ]
  },
  {
   "cell_type": "markdown",
   "id": "1b4f520a",
   "metadata": {
    "cell_style": "split",
    "slideshow": {
     "slide_type": "fragment"
    }
   },
   "source": [
    "![](images/groupby-clause.png)"
   ]
  },
  {
   "cell_type": "markdown",
   "id": "56c9f6e9",
   "metadata": {
    "slideshow": {
     "slide_type": "skip"
    }
   },
   "source": []
  },
  {
   "cell_type": "markdown",
   "id": "60679b9b",
   "metadata": {
    "cell_style": "split",
    "slideshow": {
     "slide_type": "subslide"
    }
   },
   "source": [
    "**HAVING**\n",
    "- Aggregate result set according to a specific \n"
   ]
  },
  {
   "cell_type": "markdown",
   "id": "548899a6",
   "metadata": {
    "cell_style": "split",
    "slideshow": {
     "slide_type": "fragment"
    }
   },
   "source": [
    "![](images/having-clause.png)"
   ]
  },
  {
   "cell_type": "markdown",
   "id": "420bfa54",
   "metadata": {
    "cell_style": "center",
    "slideshow": {
     "slide_type": "skip"
    }
   },
   "source": []
  },
  {
   "cell_type": "markdown",
   "id": "7a784032",
   "metadata": {
    "cell_style": "split",
    "slideshow": {
     "slide_type": "subslide"
    }
   },
   "source": [
    "**ORDER BY**\n",
    "- Aggregate result set according to a specific \n"
   ]
  },
  {
   "cell_type": "markdown",
   "id": "4a07c46a",
   "metadata": {
    "cell_style": "split",
    "slideshow": {
     "slide_type": "fragment"
    }
   },
   "source": [
    "![](images/orderby-clause.png)"
   ]
  },
  {
   "cell_type": "markdown",
   "id": "ba7a565d",
   "metadata": {
    "slideshow": {
     "slide_type": "slide"
    }
   },
   "source": [
    "# Compound Select Statements"
   ]
  },
  {
   "cell_type": "markdown",
   "id": "273652d7",
   "metadata": {
    "slideshow": {
     "slide_type": "subslide"
    }
   },
   "source": [
    "## UNION"
   ]
  },
  {
   "cell_type": "markdown",
   "id": "f8a9a81c",
   "metadata": {
    "cell_style": "split",
    "slideshow": {
     "slide_type": "fragment"
    }
   },
   "source": [
    "- In Relational Algebra: Union is the Set Union of the Set Theory\n",
    "- The columns of the two Result Set need to be the same\n",
    "- UNION ALL doesn't remove duplicates "
   ]
  },
  {
   "cell_type": "markdown",
   "id": "1d224fa0",
   "metadata": {
    "cell_style": "split",
    "slideshow": {
     "slide_type": "fragment"
    }
   },
   "source": [
    "![](https://upload.wikimedia.org/wikipedia/commons/thumb/3/30/Venn0111.svg/400px-Venn0111.svg.png)"
   ]
  },
  {
   "cell_type": "markdown",
   "id": "54658893",
   "metadata": {
    "cell_style": "center",
    "slideshow": {
     "slide_type": "subslide"
    }
   },
   "source": [
    "## EXCEPT"
   ]
  },
  {
   "cell_type": "markdown",
   "id": "6ace3665",
   "metadata": {
    "cell_style": "split",
    "slideshow": {
     "slide_type": "fragment"
    }
   },
   "source": [
    "- In Relational Algebra: Except is the Set Difference\n",
    "- The columns of the two Result Set need to be the same"
   ]
  },
  {
   "cell_type": "markdown",
   "id": "0650ede8",
   "metadata": {
    "cell_style": "split",
    "slideshow": {
     "slide_type": "fragment"
    }
   },
   "source": [
    "![](https://upload.wikimedia.org/wikipedia/commons/thumb/2/23/Relative_compliment.svg/460px-Relative_compliment.svg.png)"
   ]
  },
  {
   "cell_type": "markdown",
   "id": "25e9c8ba",
   "metadata": {
    "cell_style": "center",
    "slideshow": {
     "slide_type": "subslide"
    }
   },
   "source": [
    "## INTERSECT"
   ]
  },
  {
   "cell_type": "markdown",
   "id": "3a792528",
   "metadata": {
    "cell_style": "split",
    "slideshow": {
     "slide_type": "fragment"
    }
   },
   "source": [
    "- In Relational Algebra: is non primitive, but obtained using union and difference\n",
    "- The columns of the two Result Set need to be the same"
   ]
  },
  {
   "cell_type": "markdown",
   "id": "ec9dd34e",
   "metadata": {
    "cell_style": "split",
    "slideshow": {
     "slide_type": "fragment"
    }
   },
   "source": [
    "![](https://upload.wikimedia.org/wikipedia/commons/thumb/9/99/Venn0001.svg/440px-Venn0001.svg.png)"
   ]
  }
 ],
 "metadata": {
  "celltoolbar": "Slideshow",
  "kernelspec": {
   "display_name": "Python 3 (ipykernel)",
   "language": "python",
   "name": "python3"
  },
  "language_info": {
   "codemirror_mode": {
    "name": "ipython",
    "version": 3
   },
   "file_extension": ".py",
   "mimetype": "text/x-python",
   "name": "python",
   "nbconvert_exporter": "python",
   "pygments_lexer": "ipython3",
   "version": "3.9.15"
  },
  "rise": {
   "autolaunch": true,
   "enable_chalkboard": "true",
   "footer": "<div class=\"sds-footer\"> *** Social Data Science (SDS) - Notions of Database Management Systems ***</div>",
   "header": "<div class=\"sds-header\"><div class=\"sds-header-image\"></div></div>",
   "scroll": true,
   "theme": "white"
  }
 },
 "nbformat": 4,
 "nbformat_minor": 5
}
