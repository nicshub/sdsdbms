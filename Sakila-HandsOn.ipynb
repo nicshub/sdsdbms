{
 "cells": [
  {
   "cell_type": "markdown",
   "id": "87a85ab9",
   "metadata": {
    "id": "87a85ab9"
   },
   "source": [
    "# Sakila Database"
   ]
  },
  {
   "cell_type": "markdown",
   "id": "389dbb73",
   "metadata": {
    "id": "389dbb73"
   },
   "source": [
    "## Origin"
   ]
  },
  {
   "cell_type": "markdown",
   "id": "57c2fe13",
   "metadata": {
    "id": "57c2fe13"
   },
   "source": [
    "The Sakila sample database was initially developed by Mike Hillyer, a former member of the MySQL AB documentation team, and is intended to provide a standard schema that can be used for examples in books, tutorials, articles, samples, and so forth.\n",
    "\n",
    "https://dev.mysql.com/doc/sakila/en/"
   ]
  },
  {
   "cell_type": "markdown",
   "id": "c2eb2976",
   "metadata": {
    "id": "c2eb2976"
   },
   "source": [
    "## Schema"
   ]
  },
  {
   "cell_type": "markdown",
   "id": "29a636dd",
   "metadata": {
    "id": "29a636dd"
   },
   "source": [
    "![Image](https://raw.githubusercontent.com/nicshub/sakila-sqlite3/main/sakila.png)"
   ]
  },
  {
   "cell_type": "markdown",
   "id": "2478587a",
   "metadata": {
    "id": "2478587a"
   },
   "source": [
    "## SQLite"
   ]
  },
  {
   "cell_type": "markdown",
   "id": "206a8c5d",
   "metadata": {
    "id": "277b3fb8"
   },
   "source": [
    "SQLite is part of the operating system, library need to be installed according to the specific os."
   ]
  },
  {
   "cell_type": "markdown",
   "id": "6ef09117",
   "metadata": {
    "id": "277b3fb8"
   },
   "source": [
    "## Google Colab "
   ]
  },
  {
   "cell_type": "markdown",
   "id": "277b3fb8",
   "metadata": {
    "id": "277b3fb8"
   },
   "source": [
    "In Google Colab, based on linux container need to be installed"
   ]
  },
  {
   "cell_type": "code",
   "execution_count": null,
   "id": "aSUr5vnErn77",
   "metadata": {
    "colab": {
     "base_uri": "https://localhost:8080/"
    },
    "id": "aSUr5vnErn77",
    "outputId": "6dfce31d-1135-4cdc-f4fc-2fa25b8fad63"
   },
   "outputs": [],
   "source": [
    "!apt-get -y install sqlite3"
   ]
  },
  {
   "cell_type": "markdown",
   "id": "L_1j75ilr30w",
   "metadata": {
    "id": "L_1j75ilr30w"
   },
   "source": [
    "Let's check if it's installed"
   ]
  },
  {
   "cell_type": "code",
   "execution_count": null,
   "id": "576b7fd1",
   "metadata": {
    "colab": {
     "base_uri": "https://localhost:8080/"
    },
    "id": "576b7fd1",
    "outputId": "57750adf-9c0c-49ab-9dac-edaa97f9b9cf"
   },
   "outputs": [],
   "source": [
    "!sqlite3 -version"
   ]
  },
  {
   "cell_type": "markdown",
   "id": "e9448237",
   "metadata": {
    "id": "e9448237"
   },
   "source": [
    "## Get a database"
   ]
  },
  {
   "cell_type": "markdown",
   "id": "62d5e145",
   "metadata": {
    "id": "62d5e145"
   },
   "source": [
    "In this notebook we are going a port of Sakila for sqlite by Bradley Grant\n",
    "\n",
    "https://github.com/bradleygrant/sakila-sqlite3/"
   ]
  },
  {
   "cell_type": "code",
   "execution_count": null,
   "id": "5ba1fd64",
   "metadata": {
    "colab": {
     "base_uri": "https://localhost:8080/"
    },
    "id": "5ba1fd64",
    "outputId": "c1574fb7-709e-4d43-8af9-6a0cef387314"
   },
   "outputs": [],
   "source": [
    "# Delete\n",
    "!rm -f datasets/sakila*\n",
    "# Create Directory\n",
    "!mkdir -p datasets/\n",
    "# Get database\n",
    "!wget https://github.com/nicshub/sakila-sqlite3/raw/main/sakila_master.db -O datasets/sakila.db"
   ]
  },
  {
   "cell_type": "markdown",
   "id": "55a2ad7a",
   "metadata": {
    "id": "55a2ad7a"
   },
   "source": [
    "Let's see if it's created, we are going to use command line using two linux command\n",
    "1. file to see the file headers\n",
    "2. sqlite command line using pipe to avoid the \"prompt\""
   ]
  },
  {
   "cell_type": "code",
   "execution_count": null,
   "id": "kwqrDhDTtgmN",
   "metadata": {
    "colab": {
     "base_uri": "https://localhost:8080/"
    },
    "id": "kwqrDhDTtgmN",
    "outputId": "63250b00-d620-4379-88ed-c129c2ba62fe"
   },
   "outputs": [],
   "source": [
    "!file datasets/sakila.db"
   ]
  },
  {
   "cell_type": "code",
   "execution_count": null,
   "id": "75a094b7",
   "metadata": {
    "colab": {
     "base_uri": "https://localhost:8080/"
    },
    "id": "75a094b7",
    "outputId": "228616e3-45ca-4075-b21e-878488a0f45c"
   },
   "outputs": [],
   "source": [
    "!echo \".tables\" | sqlite3 datasets/sakila.db"
   ]
  },
  {
   "cell_type": "markdown",
   "id": "a01518e4",
   "metadata": {
    "id": "a01518e4"
   },
   "source": [
    "Please note the sakila.db it's created automatically by the command and it's the **database**"
   ]
  },
  {
   "cell_type": "markdown",
   "id": "b1834be2",
   "metadata": {
    "id": "b1834be2"
   },
   "source": [
    "To check the entire schema (physical model), you can use the .schema command"
   ]
  },
  {
   "cell_type": "markdown",
   "id": "946c62cd",
   "metadata": {
    "id": "946c62cd"
   },
   "source": [
    "# Query the database in a notebook"
   ]
  },
  {
   "cell_type": "markdown",
   "id": "5b6c9252",
   "metadata": {
    "id": "5b6c9252"
   },
   "source": [
    "- iPython (and so Jupyter with Python kernek) offer a nice way to run python command without use the standard syntax [ref](https://ipython.readthedocs.io/en/stable/interactive/magics.html)"
   ]
  },
  {
   "cell_type": "markdown",
   "id": "682360fb",
   "metadata": {
    "id": "682360fb"
   },
   "source": [
    "There are two kinds of magics\n",
    "\n",
    "- line-oriented %\n",
    "- cell-oriented %%"
   ]
  },
  {
   "cell_type": "code",
   "execution_count": null,
   "id": "9753fb74",
   "metadata": {
    "colab": {
     "base_uri": "https://localhost:8080/",
     "height": 225
    },
    "id": "9753fb74",
    "outputId": "bc701ff8-3b4e-406c-c7d5-2910f9f728a4"
   },
   "outputs": [],
   "source": [
    "# List of built in magic commands\n",
    "%lsmagic"
   ]
  },
  {
   "cell_type": "markdown",
   "id": "6cb386dd",
   "metadata": {
    "id": "6cb386dd"
   },
   "source": [
    "It's also possible to extend with new magic function and then load the module"
   ]
  },
  {
   "cell_type": "markdown",
   "id": "305e7c66",
   "metadata": {
    "id": "305e7c66"
   },
   "source": [
    "## SQL Magic"
   ]
  },
  {
   "cell_type": "markdown",
   "id": "cd351a7e",
   "metadata": {
    "id": "cd351a7e"
   },
   "source": [
    "[ipython-sql](https://pypi.org/project/ipython-sql/) introduces the %sql magic function that can be used both for\n",
    "- single line queries (line magic %sql)\n",
    "- multiple lines (cell magic %%sql)"
   ]
  },
  {
   "cell_type": "markdown",
   "id": "ecfd5ad9",
   "metadata": {
    "id": "ecfd5ad9"
   },
   "source": [
    "We will install using package installer for Python pip, directly in Jupyther using built-in function"
   ]
  },
  {
   "cell_type": "code",
   "execution_count": null,
   "id": "9de69f82",
   "metadata": {
    "colab": {
     "base_uri": "https://localhost:8080/"
    },
    "id": "9de69f82",
    "outputId": "9d5caf8f-62de-493f-9049-9da154bf04e6"
   },
   "outputs": [],
   "source": [
    "%pip install ipython-sql"
   ]
  },
  {
   "cell_type": "markdown",
   "id": "1fa7be3d",
   "metadata": {
    "id": "1fa7be3d"
   },
   "source": [
    "## Loading the SQL Magic extension"
   ]
  },
  {
   "cell_type": "code",
   "execution_count": null,
   "id": "3822b0b1",
   "metadata": {
    "id": "3822b0b1"
   },
   "outputs": [],
   "source": [
    "%load_ext sql"
   ]
  },
  {
   "cell_type": "markdown",
   "id": "81764564",
   "metadata": {
    "id": "81764564"
   },
   "source": [
    "## Connecting to the database"
   ]
  },
  {
   "cell_type": "code",
   "execution_count": null,
   "id": "ab692554",
   "metadata": {
    "id": "295b559e"
   },
   "outputs": [],
   "source": [
    "%sql sqlite:///datasets/sakila.db"
   ]
  },
  {
   "cell_type": "markdown",
   "id": "y8AvqyYSwoCe",
   "metadata": {
    "id": "y8AvqyYSwoCe"
   },
   "source": [
    "Let's check if we are connected, just using the %sql magic commands"
   ]
  },
  {
   "cell_type": "code",
   "execution_count": null,
   "id": "F5-_771ZwuB6",
   "metadata": {
    "colab": {
     "base_uri": "https://localhost:8080/"
    },
    "id": "F5-_771ZwuB6",
    "outputId": "06c9466b-2657-4fe1-c6cb-928be3c35fcc"
   },
   "outputs": [],
   "source": [
    "%sql"
   ]
  },
  {
   "cell_type": "markdown",
   "id": "S0a1z9xNw74T",
   "metadata": {
    "id": "S0a1z9xNw74T"
   },
   "source": [
    "# Let's start learning by doing\n",
    "\n",
    "for sake of visibility we will conclude queries with LIMIT 10 to limit the result set"
   ]
  },
  {
   "cell_type": "markdown",
   "id": "m84tWJyKxXN3",
   "metadata": {
    "id": "m84tWJyKxXN3"
   },
   "source": [
    "## Select from a single table"
   ]
  },
  {
   "cell_type": "markdown",
   "id": "xvHz-g6-x0qX",
   "metadata": {
    "id": "xvHz-g6-x0qX"
   },
   "source": [
    "*Exercize*: Get the name of the film category"
   ]
  },
  {
   "cell_type": "code",
   "execution_count": null,
   "id": "cDlP_Oqhyj4i",
   "metadata": {
    "colab": {
     "base_uri": "https://localhost:8080/",
     "height": 417
    },
    "id": "cDlP_Oqhyj4i",
    "outputId": "583a420c-2f0b-4838-bfbc-1a4d287ec6e8"
   },
   "outputs": [],
   "source": [
    "%%sql"
   ]
  },
  {
   "cell_type": "markdown",
   "id": "4eC_P47Ry6CU",
   "metadata": {
    "id": "4eC_P47Ry6CU"
   },
   "source": [
    "*Exercize* Get first name and last name of actors"
   ]
  },
  {
   "cell_type": "code",
   "execution_count": null,
   "id": "OcQtWW8xynp1",
   "metadata": {
    "colab": {
     "base_uri": "https://localhost:8080/",
     "height": 1000
    },
    "id": "OcQtWW8xynp1",
    "outputId": "49ad32cb-08ea-418c-8718-d8d87ae9cb4d"
   },
   "outputs": [],
   "source": [
    "%%sql"
   ]
  },
  {
   "cell_type": "markdown",
   "id": "6563a248",
   "metadata": {},
   "source": [
    "### Distinct values"
   ]
  },
  {
   "cell_type": "markdown",
   "id": "0f18eeb5",
   "metadata": {},
   "source": [
    "*Exercize* : Get the distinct rating of the films"
   ]
  },
  {
   "cell_type": "code",
   "execution_count": null,
   "id": "a452e8f9",
   "metadata": {
    "colab": {
     "base_uri": "https://localhost:8080/",
     "height": 1000
    },
    "id": "OcQtWW8xynp1",
    "outputId": "49ad32cb-08ea-418c-8718-d8d87ae9cb4d"
   },
   "outputs": [],
   "source": [
    "%%sql"
   ]
  },
  {
   "cell_type": "markdown",
   "id": "7b67117b",
   "metadata": {},
   "source": [
    "### All attributes (*)"
   ]
  },
  {
   "cell_type": "markdown",
   "id": "U8Xevr2YzWE0",
   "metadata": {
    "id": "U8Xevr2YzWE0"
   },
   "source": [
    "*Exercize* Get all the attributes in the relation language"
   ]
  },
  {
   "cell_type": "code",
   "execution_count": null,
   "id": "MI-kOdJHzUje",
   "metadata": {
    "colab": {
     "base_uri": "https://localhost:8080/",
     "height": 203
    },
    "id": "MI-kOdJHzUje",
    "outputId": "ff747343-a6c5-4551-b34d-8a359a7442a4"
   },
   "outputs": [],
   "source": [
    "%%sql"
   ]
  },
  {
   "cell_type": "markdown",
   "id": "1afbb073",
   "metadata": {
    "id": "etN2_QuYzp_R"
   },
   "source": [
    "### Column aliases\n",
    "- In SQL it's possibile to define aliases for any attribute name\n",
    "- In Relational Algegra it's the ρ operation\n",
    "- The syntax it's simple just add \"as xyz\" after the attribute name, where xyz is the new name\n",
    "- Better no use spaces but only character, number, underscore. In case use quotes"
   ]
  },
  {
   "cell_type": "markdown",
   "id": "etN2_QuYzp_R",
   "metadata": {
    "id": "etN2_QuYzp_R"
   },
   "source": [
    "*Exercize* In the same relation, rename the \"name\" attribute into languagename"
   ]
  },
  {
   "cell_type": "code",
   "execution_count": null,
   "id": "2WAvNbVQzNju",
   "metadata": {
    "colab": {
     "base_uri": "https://localhost:8080/",
     "height": 203
    },
    "id": "2WAvNbVQzNju",
    "outputId": "98c1cea9-a20c-40f0-ec83-725854c2a575"
   },
   "outputs": [],
   "source": [
    "%%sql"
   ]
  },
  {
   "cell_type": "markdown",
   "id": "57abfe06",
   "metadata": {},
   "source": [
    "### SQL Scalar function\n",
    "\n",
    "https://www.sqlite.org/lang_corefunc.html\n",
    "\n",
    "- SQL enables scalar function (i.e. returning a single value) based on attributes selected in the query\n",
    "- Operations need to be consistent with the data type of the attribute\n"
   ]
  },
  {
   "cell_type": "markdown",
   "id": "492eeada",
   "metadata": {},
   "source": [
    "## Simple expressions \n",
    "\n",
    "- Math function on numbers\n",
    "- Concatenation of Strings"
   ]
  },
  {
   "cell_type": "markdown",
   "id": "A2w7JNMF4g1E",
   "metadata": {
    "id": "A2w7JNMF4g1E"
   },
   "source": [
    " *Exercize*: Get the total rent of a film computed as the product of rate * duration, include title and original value."
   ]
  },
  {
   "cell_type": "code",
   "execution_count": null,
   "id": "3c210db1",
   "metadata": {
    "colab": {
     "base_uri": "https://localhost:8080/",
     "height": 203
    },
    "id": "2WAvNbVQzNju",
    "outputId": "98c1cea9-a20c-40f0-ec83-725854c2a575"
   },
   "outputs": [],
   "source": [
    "%%sql "
   ]
  },
  {
   "cell_type": "markdown",
   "id": "62de4ff2",
   "metadata": {
    "id": "A2w7JNMF4g1E"
   },
   "source": [
    " *Exercize*: Get in a single attribute named full_name containing firstname, lastname of staff \n",
    " \n",
    " (Use operator || to concat two field)"
   ]
  },
  {
   "cell_type": "code",
   "execution_count": null,
   "id": "2b5fb2ff",
   "metadata": {
    "colab": {
     "base_uri": "https://localhost:8080/",
     "height": 203
    },
    "id": "2WAvNbVQzNju",
    "outputId": "98c1cea9-a20c-40f0-ec83-725854c2a575"
   },
   "outputs": [],
   "source": [
    "%%sql "
   ]
  },
  {
   "cell_type": "markdown",
   "id": "45d06caa",
   "metadata": {},
   "source": [
    "### Date time functions\n",
    "\n",
    "https://www.sqlite.org/lang_datefunc.html"
   ]
  },
  {
   "cell_type": "markdown",
   "id": "1213851e",
   "metadata": {
    "id": "A2w7JNMF4g1E"
   },
   "source": [
    " *Exercize*: Get the creation date of the customer in the yyyy-mm-dd format\n",
    " \n",
    "- Use strftime(format, attribute) to format the datetime field in the desidered format\n",
    " "
   ]
  },
  {
   "cell_type": "code",
   "execution_count": null,
   "id": "791db9b9",
   "metadata": {},
   "outputs": [],
   "source": [
    "%%sql "
   ]
  },
  {
   "cell_type": "markdown",
   "id": "756cbc3b",
   "metadata": {},
   "source": [
    " *Exercize*: Compute the difference between your birthdate and today\n",
    " \n",
    "- timediff function looks great but it's supported in SQLite >= 3.43\n",
    "- To compute difference in years we can take the date function and the date in 'yyyy-mm-dd' format\n",
    "- In SQLite no need to use FROM, it's reading from a dummy table"
   ]
  },
  {
   "cell_type": "code",
   "execution_count": null,
   "id": "f5ab376b",
   "metadata": {},
   "outputs": [],
   "source": [
    "%%sql "
   ]
  },
  {
   "cell_type": "markdown",
   "id": "e2d2a9c9",
   "metadata": {},
   "source": [
    "### CASE\n",
    "https://www.sqlite.org/lang_expr.html#case\n",
    "\n",
    "CASE in SQL implements the statement IF-THEN-ELSE "
   ]
  },
  {
   "cell_type": "markdown",
   "id": "3b436e84",
   "metadata": {},
   "source": [
    "#### Case  base expression\n",
    "\n",
    "A expression is evaluated, if the when condition matches the result the correspondent then is the result.\n",
    "\n",
    "```sql\n",
    "CASE expr\n",
    "WHEN condition THEN value\n",
    "WHEN condition THEN value\n",
    "ELSE value\n",
    "END\n",
    "```"
   ]
  },
  {
   "cell_type": "markdown",
   "id": "7886e870",
   "metadata": {},
   "source": [
    " *Exercize*: Categorize the film based on the duration, if it's less than 75 min it's a short, otherwise is a full-lenght "
   ]
  },
  {
   "cell_type": "code",
   "execution_count": null,
   "id": "f92cc883",
   "metadata": {},
   "outputs": [],
   "source": [
    "%%sql"
   ]
  },
  {
   "cell_type": "markdown",
   "id": "ce14477c",
   "metadata": {},
   "source": [
    "#### Case without a base expression\n",
    "\n",
    "In this \"case\" all conditions are valuated until the first matches\n",
    "\n",
    "```sql\n",
    "CASE \n",
    "WHEN condition THEN value\n",
    "WHEN condition THEN value\n",
    "ELSE value\n",
    "END\n",
    "```"
   ]
  },
  {
   "cell_type": "markdown",
   "id": "50b4674c",
   "metadata": {},
   "source": [
    " *Exercize*: Categorize the amount  of payment based on ranges:\n",
    " - [0,1]: 'cheap'\n",
    " - [1,5]: 'medium'\n",
    " - [5,-]: 'expensive'"
   ]
  },
  {
   "cell_type": "code",
   "execution_count": null,
   "id": "06f59ecc",
   "metadata": {},
   "outputs": [],
   "source": [
    "%%sql "
   ]
  },
  {
   "cell_type": "markdown",
   "id": "2567b332",
   "metadata": {},
   "source": [
    "### CAST\n",
    "https://www.sqlite.org/lang_expr.html#cast\n",
    "\n",
    "- In computer science, casting it's a procedure to change the data type\n",
    "- In SQL it's used to change the domain of an attribute in the result relation\n",
    "- Casting it's useful in two cases\n",
    "-- When the source data type is too generic, for example a string containing a number (this can be a design issue)\n",
    "-- When we need to work with different attributes, for example to count the number of digit in a number\n",
    "\n",
    "The syntax is CAST(expr as type-name)"
   ]
  },
  {
   "cell_type": "markdown",
   "id": "73db1044",
   "metadata": {},
   "source": [
    " *Exercize*: Convert the release_year in the movie relation into number"
   ]
  },
  {
   "cell_type": "code",
   "execution_count": null,
   "id": "38c38dfe",
   "metadata": {},
   "outputs": [],
   "source": [
    "%%sql"
   ]
  },
  {
   "cell_type": "markdown",
   "id": "6b10001f",
   "metadata": {},
   "source": [
    " *Exercize*: Compute the number of characters of the rental_duration in the film   \n",
    " \n",
    " Use the scalar function length(X) to count the number of characters in a column"
   ]
  },
  {
   "cell_type": "code",
   "execution_count": null,
   "id": "f38b7428",
   "metadata": {},
   "outputs": [],
   "source": [
    "%%sql"
   ]
  },
  {
   "cell_type": "markdown",
   "id": "119ff7af",
   "metadata": {},
   "source": [
    "### Aggregate functions (part 1)\n",
    "https://www.sqlite.org/lang_aggfunc.html"
   ]
  },
  {
   "cell_type": "markdown",
   "id": "79d9e3f6",
   "metadata": {},
   "source": [
    "- At this stage, without WHERE and GROUP BY aggregate functions apply on the entire table\n",
    "- Functions apply to attributes as parameter, also the \"\\*\" is used in a special case"
   ]
  },
  {
   "cell_type": "markdown",
   "id": "c423aef2",
   "metadata": {},
   "source": [
    "#### COUNT \n",
    "- count(\\*): counts the number of tuples in the group\n",
    "- count(X): count the number of times the X is not NULL in the group\n",
    "- count(distinct(X)): as above, but removing duplicates"
   ]
  },
  {
   "cell_type": "markdown",
   "id": "05f1a18f",
   "metadata": {},
   "source": [
    " *Exercize*: Count the number of rentals in the Rental table"
   ]
  },
  {
   "cell_type": "code",
   "execution_count": null,
   "id": "f701e034",
   "metadata": {},
   "outputs": [],
   "source": [
    "%%sql"
   ]
  },
  {
   "cell_type": "markdown",
   "id": "54762dfa",
   "metadata": {},
   "source": [
    " *Exercize*: Count the number of return_date in the rental table"
   ]
  },
  {
   "cell_type": "code",
   "execution_count": null,
   "id": "51b644fa",
   "metadata": {},
   "outputs": [],
   "source": [
    "%%sql"
   ]
  },
  {
   "cell_type": "markdown",
   "id": "f85d92d2",
   "metadata": {},
   "source": [
    " *Exercize*: Count the number of distinct return_date in the rental table"
   ]
  },
  {
   "cell_type": "code",
   "execution_count": null,
   "id": "b974e573",
   "metadata": {},
   "outputs": [],
   "source": [
    "%%sql"
   ]
  },
  {
   "cell_type": "markdown",
   "id": "ee93851e",
   "metadata": {},
   "source": [
    "#### MIN-MAX-AVG-SUM \n",
    "- min(X): minimum non-NULL value of all values in the group\n",
    "- max(X): maximum non-NULL value of all values in the group\n",
    "- avg(X): avg non-NULL value of all values in the group\n",
    "- sum(X): sum of non-NULL value of all values in the group\n",
    "\n",
    "Yes, they should be used for numbers"
   ]
  },
  {
   "cell_type": "markdown",
   "id": "688c5e9c",
   "metadata": {},
   "source": [
    " *Exercize*: Get the min,max,avg,sum of the amount in the payment table"
   ]
  },
  {
   "cell_type": "code",
   "execution_count": null,
   "id": "eab1950b",
   "metadata": {},
   "outputs": [],
   "source": [
    "%%sql"
   ]
  },
  {
   "cell_type": "markdown",
   "id": "59d5ffe1",
   "metadata": {
    "id": "CbdbemO6101j"
   },
   "source": [
    "## Select from multiple tables"
   ]
  },
  {
   "cell_type": "markdown",
   "id": "251c937d",
   "metadata": {},
   "source": [
    "### Product Cartesian (CROSS JOIN)"
   ]
  },
  {
   "cell_type": "markdown",
   "id": "2bdcb60b",
   "metadata": {},
   "source": [
    "- In Relational Algebra it's a binary operator X(A,B) or A X B\n",
    "\n",
    "Creates a new table where\n",
    "- the number of attributes it's the sum of the arity of the source relations\n",
    "- the number of tuples it's the product of the cardinality of the source relations\n",
    "\n",
    "In SQL it's possible to do in two equivalent ways:\n",
    "- FROM A,B\n",
    "- FROM A CROSS JOIN B"
   ]
  },
  {
   "cell_type": "markdown",
   "id": "ec928a34",
   "metadata": {},
   "source": [
    " *Exercize*: Get the potential number of rental by combining the film and the customer tables"
   ]
  },
  {
   "cell_type": "code",
   "execution_count": null,
   "id": "3a04783d",
   "metadata": {},
   "outputs": [],
   "source": [
    "%%sql"
   ]
  },
  {
   "cell_type": "code",
   "execution_count": null,
   "id": "d400c005",
   "metadata": {},
   "outputs": [],
   "source": [
    "%%sql"
   ]
  },
  {
   "cell_type": "code",
   "execution_count": null,
   "id": "da844794",
   "metadata": {},
   "outputs": [],
   "source": [
    "%%sql"
   ]
  },
  {
   "cell_type": "code",
   "execution_count": null,
   "id": "20d7bd2f",
   "metadata": {},
   "outputs": [],
   "source": [
    "%%sql"
   ]
  },
  {
   "cell_type": "markdown",
   "id": "969aad01",
   "metadata": {},
   "source": [
    "### JOINS\n",
    "Join clauses are made by three parts\n",
    "- join operator: indicates which kind of join we are to use (natural, inner, outer, cross)\n",
    "- table (or sub query): the relation to be joined\n",
    "- join constraint: expression to define the condition of the join using \"on\" (\"using\" it's also an option but not always supported)\n",
    "\n",
    "The generic syntax is \n",
    "```sql \n",
    "FROM A kindofjoin JOIN B on A.col=B.col\n",
    "```"
   ]
  },
  {
   "cell_type": "markdown",
   "id": "a896f399",
   "metadata": {},
   "source": [
    "#### Natural JOIN\n",
    "- Natural joins don't need \"on\""
   ]
  },
  {
   "cell_type": "markdown",
   "id": "cae4692c",
   "metadata": {
    "slideshow": {
     "slide_type": "fragment"
    }
   },
   "source": [
    " *Exercize*: Get the list of cities and correspondent country"
   ]
  },
  {
   "cell_type": "code",
   "execution_count": null,
   "id": "9b454843",
   "metadata": {},
   "outputs": [],
   "source": [
    "%%sql"
   ]
  },
  {
   "cell_type": "code",
   "execution_count": null,
   "id": "2d3d3bdf",
   "metadata": {},
   "outputs": [],
   "source": [
    "%%sql"
   ]
  },
  {
   "cell_type": "markdown",
   "id": "69c048bf",
   "metadata": {},
   "source": [
    "#### Inner JOIN\n",
    "- it's default join, che INNER can be omitted"
   ]
  },
  {
   "cell_type": "markdown",
   "id": "884dc63a",
   "metadata": {
    "slideshow": {
     "slide_type": "fragment"
    }
   },
   "source": [
    " *Exercize*: Get the list of cities and correspondent country"
   ]
  },
  {
   "cell_type": "code",
   "execution_count": null,
   "id": "942c97eb",
   "metadata": {},
   "outputs": [],
   "source": [
    "%%sql "
   ]
  },
  {
   "cell_type": "markdown",
   "id": "b5478adc",
   "metadata": {},
   "source": [
    "#### Left/Right Outer JOIN\n",
    "- Join that include the left, right and both rows that don't match"
   ]
  },
  {
   "cell_type": "markdown",
   "id": "1f48df71",
   "metadata": {
    "slideshow": {
     "slide_type": "fragment"
    }
   },
   "source": [
    " *Exercize*: Get the distinct language name and release year \n",
    " \n",
    " Hint: start from language l and use left join"
   ]
  },
  {
   "cell_type": "code",
   "execution_count": null,
   "id": "1343125a",
   "metadata": {},
   "outputs": [],
   "source": [
    "%%sql "
   ]
  },
  {
   "cell_type": "markdown",
   "id": "e1bce6e7",
   "metadata": {},
   "source": [
    "### WHERE\n",
    "- WHERE expressions are evalauted for each row in the input data (FROM) \n",
    "- if the row satisfies the where condition is added into the result set\n",
    "- in a inner-cross join constraints can be expressed both in \"on\" and in \"where\" (ihmo in join it's more readable)\n",
    "- in left-right join the \"on\" adds rows in the result while in the where they can be filtered \n",
    "The generic syntax is \n",
    "```sql \n",
    "WHERE \n",
    "(x = y or z < w) and ...\n",
    "```"
   ]
  },
  {
   "cell_type": "markdown",
   "id": "222d4c95",
   "metadata": {
    "slideshow": {
     "slide_type": "fragment"
    }
   },
   "source": [
    " *Exercize*: Select the title, description, rating, movie length columns from the films table that last 3 hours or longer."
   ]
  },
  {
   "cell_type": "code",
   "execution_count": null,
   "id": "afadcc8b",
   "metadata": {},
   "outputs": [],
   "source": [
    "%%sql"
   ]
  },
  {
   "cell_type": "markdown",
   "id": "a40572d6",
   "metadata": {
    "slideshow": {
     "slide_type": "fragment"
    }
   },
   "source": [
    " ### LIKE\n",
    " https://www.sqlite.org/lang_expr.html#the_like_glob_regexp_match_and_extract_operators\n",
    " \n",
    "```sql \n",
    "WHERE \n",
    "x LIKE pattern\n",
    "```\n",
    " - it's pattern matching comparison between a value and a pattern\n",
    " - pattern can contain string and % to indicate anysequence or _ to indicate a single char"
   ]
  },
  {
   "cell_type": "markdown",
   "id": "89e25226",
   "metadata": {
    "slideshow": {
     "slide_type": "fragment"
    }
   },
   "source": [
    " *Exercize*: Select the actors with first name starting with A"
   ]
  },
  {
   "cell_type": "code",
   "execution_count": null,
   "id": "8899140b",
   "metadata": {},
   "outputs": [],
   "source": [
    "%%sql"
   ]
  },
  {
   "cell_type": "markdown",
   "id": "da9d4194",
   "metadata": {
    "slideshow": {
     "slide_type": "fragment"
    }
   },
   "source": [
    " *Exercize*: Select the actors with last name of 3 characters"
   ]
  },
  {
   "cell_type": "code",
   "execution_count": null,
   "id": "2366db78",
   "metadata": {},
   "outputs": [],
   "source": [
    "%%sql "
   ]
  },
  {
   "cell_type": "markdown",
   "id": "3e5df418",
   "metadata": {
    "slideshow": {
     "slide_type": "fragment"
    }
   },
   "source": [
    " ### BETWEEN\n",
    "The BETWEEN operator is logically equivalent to a pair of comparisons. \"x BETWEEN y AND z\" is equivalent to \"x>=y AND x<=z\" except that with BETWEEN, the x expression is only evaluated once.\n"
   ]
  },
  {
   "cell_type": "markdown",
   "id": "c4a6a62c",
   "metadata": {
    "slideshow": {
     "slide_type": "fragment"
    }
   },
   "source": [
    " *Exercize*: Select the rental returned in September 2005"
   ]
  },
  {
   "cell_type": "code",
   "execution_count": null,
   "id": "e859f581",
   "metadata": {},
   "outputs": [],
   "source": [
    "%%sql"
   ]
  },
  {
   "cell_type": "markdown",
   "id": "a4a76c4d",
   "metadata": {
    "slideshow": {
     "slide_type": "fragment"
    }
   },
   "source": [
    " ### IN (NOT) IN\n",
    " \n",
    " - The IN and NOT IN operators take an expression on the left and a list of values or a subquery on the right\n",
    " - The right operand can be a sub query, i.e. a query returning the same columns as the left operand\n",
    " \n",
    " ```sql \n",
    "WHERE \n",
    "x in (a,b,c)\n",
    "...\n",
    "x in (select x from table)\n",
    "```"
   ]
  },
  {
   "cell_type": "markdown",
   "id": "d997c2d1",
   "metadata": {
    "slideshow": {
     "slide_type": "fragment"
    }
   },
   "source": [
    " *Exercize*: Select the movies with category Action and Animation\n",
    " \n",
    " Hint: Use join to navigate the many to many relationship between FILM and CATEGORY"
   ]
  },
  {
   "cell_type": "code",
   "execution_count": null,
   "id": "bc71e610",
   "metadata": {},
   "outputs": [],
   "source": [
    "%%sql"
   ]
  },
  {
   "cell_type": "markdown",
   "id": "c47fec1d",
   "metadata": {
    "slideshow": {
     "slide_type": "fragment"
    }
   },
   "source": [
    " *Exercize*: Get the customer with same name of an actor"
   ]
  },
  {
   "cell_type": "code",
   "execution_count": null,
   "id": "aeb51c2f",
   "metadata": {},
   "outputs": [],
   "source": [
    "%%sql "
   ]
  },
  {
   "cell_type": "markdown",
   "id": "d9974067",
   "metadata": {
    "slideshow": {
     "slide_type": "fragment"
    }
   },
   "source": [
    " *Exercize*: Get the customer with same name and first name of an actor"
   ]
  },
  {
   "cell_type": "code",
   "execution_count": null,
   "id": "78fd0877",
   "metadata": {},
   "outputs": [],
   "source": [
    "%%sql"
   ]
  },
  {
   "cell_type": "markdown",
   "id": "e87b7e10",
   "metadata": {},
   "source": [
    "### GROUP BY\n",
    "- Partition result set into groups, based on values on attributes\n",
    "- Typically grouping is coupled with aggregate functions \n",
    "- and attributes in group by are present in the select \n",
    "\n",
    "The generic syntax is \n",
    "```sql \n",
    "select x,y, f()\n",
    "GROUP BY x,y\n",
    "```"
   ]
  },
  {
   "cell_type": "markdown",
   "id": "f1a1154f",
   "metadata": {
    "slideshow": {
     "slide_type": "fragment"
    }
   },
   "source": [
    " *Exercize*: Sum the amount of payments for rental made by customers "
   ]
  },
  {
   "cell_type": "code",
   "execution_count": null,
   "id": "fff52b5c",
   "metadata": {},
   "outputs": [],
   "source": [
    "%%sql"
   ]
  },
  {
   "cell_type": "markdown",
   "id": "6f7a5d7b",
   "metadata": {},
   "source": [
    " *Exercize*: "
   ]
  },
  {
   "cell_type": "markdown",
   "id": "33d65ee1",
   "metadata": {},
   "source": [
    "### HAVING\n",
    "- Having filters the rows result sets based on aggregate groups\n",
    "- It's similar to WHERE but it's executed in another stage of process, after groups are created\n",
    "```sql \n",
    "GROUP BY \n",
    "x, y \n",
    "HAVING f(x)>z\n",
    "```"
   ]
  },
  {
   "cell_type": "markdown",
   "id": "19cbcda9",
   "metadata": {},
   "source": [
    " *Exercize*: Sum the amount of payments for rental made by customers that have done at lease 30 rentals"
   ]
  },
  {
   "cell_type": "code",
   "execution_count": null,
   "id": "a377b7fc",
   "metadata": {},
   "outputs": [],
   "source": [
    "%%sql"
   ]
  },
  {
   "cell_type": "markdown",
   "id": "76045f2a",
   "metadata": {},
   "source": [
    "### ORDER BY\n",
    "- Sort result set according to criteria \n",
    "- Multiple criteria can be combined using ,\n",
    "- Include calculated attributes like aggregrations\n",
    "\n",
    "The generic syntax is \n",
    "```sql \n",
    "ORDER BY\n",
    "x (asc/desc)\n",
    "```"
   ]
  },
  {
   "cell_type": "markdown",
   "id": "88cd5e8b",
   "metadata": {},
   "source": [
    " *Exercize*: Get the longest movies"
   ]
  },
  {
   "cell_type": "code",
   "execution_count": null,
   "id": "1037072a",
   "metadata": {},
   "outputs": [],
   "source": [
    "%%sql"
   ]
  },
  {
   "cell_type": "markdown",
   "id": "56fed04d",
   "metadata": {},
   "source": [
    "### UNION\n",
    "The generic syntax is \n",
    "```sql \n",
    "select a from x\n",
    "union \n",
    "select b from y\n",
    "```"
   ]
  },
  {
   "cell_type": "markdown",
   "id": "a79d6bd7",
   "metadata": {},
   "source": [
    " *Exercize*: Get all the first_name, last_name of actors and customers"
   ]
  },
  {
   "cell_type": "code",
   "execution_count": null,
   "id": "0106abe4",
   "metadata": {},
   "outputs": [],
   "source": [
    "%%sql"
   ]
  },
  {
   "cell_type": "markdown",
   "id": "1b2091c0",
   "metadata": {},
   "source": [
    "### EXCEPT\n",
    "The generic syntax is \n",
    "```sql \n",
    "select a from x\n",
    "EXCEPT\n",
    "select b from y\n",
    "```"
   ]
  },
  {
   "cell_type": "markdown",
   "id": "3be3117d",
   "metadata": {},
   "source": [
    " *Exercize*: Get all the first_name, last_name of actors not equal to customers"
   ]
  },
  {
   "cell_type": "code",
   "execution_count": null,
   "id": "7ae82281",
   "metadata": {},
   "outputs": [],
   "source": [
    "%%sql"
   ]
  },
  {
   "cell_type": "markdown",
   "id": "f74211b1",
   "metadata": {},
   "source": [
    "### INTERSECT\n",
    "The generic syntax is \n",
    "```sql \n",
    "select a from x\n",
    "INTERSECT\n",
    "select b from y\n",
    "```"
   ]
  },
  {
   "cell_type": "markdown",
   "id": "0a6de98d",
   "metadata": {},
   "source": [
    " *Exercize*: Get the longest movies"
   ]
  },
  {
   "cell_type": "code",
   "execution_count": null,
   "id": "7d42666c",
   "metadata": {},
   "outputs": [],
   "source": [
    "%%sql"
   ]
  }
 ],
 "metadata": {
  "celltoolbar": "Slideshow",
  "colab": {
   "provenance": []
  },
  "kernelspec": {
   "display_name": "Python 3 (ipykernel)",
   "language": "python",
   "name": "python3"
  },
  "language_info": {
   "codemirror_mode": {
    "name": "ipython",
    "version": 3
   },
   "file_extension": ".py",
   "mimetype": "text/x-python",
   "name": "python",
   "nbconvert_exporter": "python",
   "pygments_lexer": "ipython3",
   "version": "3.9.15"
  },
  "rise": {
   "autolaunch": true,
   "enable_chalkboard": "true",
   "footer": "<div class=\"sds-footer\"> *** Social Data Science (SDS) - Notions of Database Management Systems ***</div>",
   "header": "<div class=\"sds-header\"><div class=\"sds-header-image\"></div></div>",
   "scroll": true,
   "theme": "white"
  }
 },
 "nbformat": 4,
 "nbformat_minor": 5
}
