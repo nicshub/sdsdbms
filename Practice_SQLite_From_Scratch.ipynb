{
 "cells": [
  {
   "cell_type": "markdown",
   "id": "87a85ab9",
   "metadata": {
    "id": "87a85ab9"
   },
   "source": [
    "# Practice-SQLite-From-Scratch"
   ]
  },
  {
   "cell_type": "markdown",
   "id": "389dbb73",
   "metadata": {
    "id": "389dbb73"
   },
   "source": [
    "## Goal"
   ]
  },
  {
   "cell_type": "markdown",
   "id": "57c2fe13",
   "metadata": {
    "id": "57c2fe13"
   },
   "source": [
    "The Goal of this notebook is to provide an environment based on Jupyter Notebooks (in particular Colab) to practice with the SQL language using SQLite"
   ]
  },
  {
   "cell_type": "markdown",
   "id": "6ef09117",
   "metadata": {
    "id": "6ef09117"
   },
   "source": [
    "## Install SQLite (Colab)"
   ]
  },
  {
   "cell_type": "markdown",
   "id": "277b3fb8",
   "metadata": {
    "id": "277b3fb8"
   },
   "source": [
    "In Google Colab, based on linux container need to be installed, run the following cell"
   ]
  },
  {
   "cell_type": "code",
   "execution_count": 1,
   "id": "aSUr5vnErn77",
   "metadata": {
    "colab": {
     "base_uri": "https://localhost:8080/"
    },
    "id": "aSUr5vnErn77",
    "outputId": "da008c17-bf62-4b28-d424-f8deb55569f8"
   },
   "outputs": [
    {
     "name": "stdout",
     "output_type": "stream",
     "text": [
      "zsh:1: command not found: apt-get\r\n"
     ]
    }
   ],
   "source": [
    "!apt-get -y install sqlite3"
   ]
  },
  {
   "cell_type": "markdown",
   "id": "L_1j75ilr30w",
   "metadata": {
    "id": "L_1j75ilr30w"
   },
   "source": [
    "Let's check if it's installed using the command line"
   ]
  },
  {
   "cell_type": "code",
   "execution_count": 2,
   "id": "576b7fd1",
   "metadata": {
    "colab": {
     "base_uri": "https://localhost:8080/"
    },
    "id": "576b7fd1",
    "outputId": "fbaf7028-daa1-448f-d3c1-878625772443"
   },
   "outputs": [
    {
     "name": "stdout",
     "output_type": "stream",
     "text": [
      "3.37.1 2021-12-30 15:30:28 378629bf2ea546f73eee84063c5358439a12f7300e433f18c9e1bddd948dea62\r\n"
     ]
    }
   ],
   "source": [
    "!sqlite3 -version"
   ]
  },
  {
   "cell_type": "markdown",
   "id": "2198ded0",
   "metadata": {
    "id": "2198ded0"
   },
   "source": [
    "## Install ipython magic\n",
    "Add the %sql and %%sql that allow to connect and run queries in Jupyter cell\n",
    "\n",
    "NB Colab installs by default this package, version prior to 0.5.0 may have some issue"
   ]
  },
  {
   "cell_type": "code",
   "execution_count": 3,
   "id": "9de69f82",
   "metadata": {
    "colab": {
     "base_uri": "https://localhost:8080/"
    },
    "id": "9de69f82",
    "outputId": "29bfd2f7-6665-4e58-edd0-765f4ee724bb",
    "scrolled": true
   },
   "outputs": [
    {
     "name": "stdout",
     "output_type": "stream",
     "text": [
      "Requirement already satisfied: ipython-sql in /Users/nics/miniforge3/lib/python3.9/site-packages (0.5.0)\n",
      "Requirement already satisfied: ipython in /Users/nics/miniforge3/lib/python3.9/site-packages (from ipython-sql) (8.2.0)\n",
      "Requirement already satisfied: sqlparse in /Users/nics/miniforge3/lib/python3.9/site-packages (from ipython-sql) (0.4.2)\n",
      "Requirement already satisfied: ipython-genutils in /Users/nics/miniforge3/lib/python3.9/site-packages (from ipython-sql) (0.2.0)\n",
      "Requirement already satisfied: prettytable in /Users/nics/miniforge3/lib/python3.9/site-packages (from ipython-sql) (0.7.2)\n",
      "Requirement already satisfied: sqlalchemy>=2.0 in /Users/nics/miniforge3/lib/python3.9/site-packages (from ipython-sql) (2.0.27)\n",
      "Requirement already satisfied: six in /Users/nics/miniforge3/lib/python3.9/site-packages (from ipython-sql) (1.16.0)\n",
      "Requirement already satisfied: typing-extensions>=4.6.0 in /Users/nics/miniforge3/lib/python3.9/site-packages (from sqlalchemy>=2.0->ipython-sql) (4.9.0)\n",
      "Requirement already satisfied: traitlets>=5 in /Users/nics/miniforge3/lib/python3.9/site-packages (from ipython->ipython-sql) (5.9.0)\n",
      "Requirement already satisfied: prompt-toolkit!=3.0.0,!=3.0.1,<3.1.0,>=2.0.0 in /Users/nics/miniforge3/lib/python3.9/site-packages (from ipython->ipython-sql) (3.0.29)\n",
      "Requirement already satisfied: backcall in /Users/nics/miniforge3/lib/python3.9/site-packages (from ipython->ipython-sql) (0.2.0)\n",
      "Requirement already satisfied: jedi>=0.16 in /Users/nics/miniforge3/lib/python3.9/site-packages (from ipython->ipython-sql) (0.18.1)\n",
      "Requirement already satisfied: pexpect>4.3 in /Users/nics/miniforge3/lib/python3.9/site-packages (from ipython->ipython-sql) (4.8.0)\n",
      "Requirement already satisfied: appnope in /Users/nics/miniforge3/lib/python3.9/site-packages (from ipython->ipython-sql) (0.1.3)\n",
      "Requirement already satisfied: setuptools>=18.5 in /Users/nics/miniforge3/lib/python3.9/site-packages (from ipython->ipython-sql) (65.6.3)\n",
      "Requirement already satisfied: pygments>=2.4.0 in /Users/nics/miniforge3/lib/python3.9/site-packages (from ipython->ipython-sql) (2.17.2)\n",
      "Requirement already satisfied: stack-data in /Users/nics/miniforge3/lib/python3.9/site-packages (from ipython->ipython-sql) (0.2.0)\n",
      "Requirement already satisfied: matplotlib-inline in /Users/nics/miniforge3/lib/python3.9/site-packages (from ipython->ipython-sql) (0.1.3)\n",
      "Requirement already satisfied: decorator in /Users/nics/miniforge3/lib/python3.9/site-packages (from ipython->ipython-sql) (5.1.1)\n",
      "Requirement already satisfied: pickleshare in /Users/nics/miniforge3/lib/python3.9/site-packages (from ipython->ipython-sql) (0.7.5)\n",
      "Requirement already satisfied: parso<0.9.0,>=0.8.0 in /Users/nics/miniforge3/lib/python3.9/site-packages (from jedi>=0.16->ipython->ipython-sql) (0.8.3)\n",
      "Requirement already satisfied: ptyprocess>=0.5 in /Users/nics/miniforge3/lib/python3.9/site-packages (from pexpect>4.3->ipython->ipython-sql) (0.7.0)\n",
      "Requirement already satisfied: wcwidth in /Users/nics/miniforge3/lib/python3.9/site-packages (from prompt-toolkit!=3.0.0,!=3.0.1,<3.1.0,>=2.0.0->ipython->ipython-sql) (0.2.5)\n",
      "Requirement already satisfied: asttokens in /Users/nics/miniforge3/lib/python3.9/site-packages (from stack-data->ipython->ipython-sql) (2.0.5)\n",
      "Requirement already satisfied: executing in /Users/nics/miniforge3/lib/python3.9/site-packages (from stack-data->ipython->ipython-sql) (0.8.3)\n",
      "Requirement already satisfied: pure-eval in /Users/nics/miniforge3/lib/python3.9/site-packages (from stack-data->ipython->ipython-sql) (0.2.2)\n",
      "Note: you may need to restart the kernel to use updated packages.\n"
     ]
    }
   ],
   "source": [
    "%pip install ipython-sql"
   ]
  },
  {
   "cell_type": "code",
   "execution_count": 4,
   "id": "SApIuYPmlej4",
   "metadata": {
    "colab": {
     "base_uri": "https://localhost:8080/"
    },
    "id": "SApIuYPmlej4",
    "outputId": "2bcb7bed-1288-4da3-c1b1-03744ba0d9f4"
   },
   "outputs": [
    {
     "name": "stdout",
     "output_type": "stream",
     "text": [
      "SQLAlchemy                        2.0.27\r\n"
     ]
    }
   ],
   "source": [
    "!pip list installed | grep -i alchem"
   ]
  },
  {
   "cell_type": "code",
   "execution_count": 5,
   "id": "f8a666f7",
   "metadata": {
    "colab": {
     "base_uri": "https://localhost:8080/"
    },
    "id": "SApIuYPmlej4",
    "outputId": "2bcb7bed-1288-4da3-c1b1-03744ba0d9f4"
   },
   "outputs": [
    {
     "name": "stdout",
     "output_type": "stream",
     "text": [
      "ipython-sql                       0.5.0\r\n"
     ]
    }
   ],
   "source": [
    "!pip list installed | grep -i ipython-sql"
   ]
  },
  {
   "cell_type": "markdown",
   "id": "1fa7be3d",
   "metadata": {
    "id": "1fa7be3d"
   },
   "source": [
    "### Load the SQL Magic extension"
   ]
  },
  {
   "cell_type": "code",
   "execution_count": 6,
   "id": "3822b0b1",
   "metadata": {
    "id": "3822b0b1"
   },
   "outputs": [],
   "source": [
    "%load_ext sql"
   ]
  },
  {
   "cell_type": "markdown",
   "id": "9a97fe9d",
   "metadata": {
    "id": "9a97fe9d"
   },
   "source": [
    "## Create a directory to store dataset"
   ]
  },
  {
   "cell_type": "code",
   "execution_count": 7,
   "id": "980a9c33",
   "metadata": {
    "id": "980a9c33"
   },
   "outputs": [],
   "source": [
    "# Create Directory\n",
    "!mkdir -p datasets/"
   ]
  },
  {
   "cell_type": "markdown",
   "id": "e9448237",
   "metadata": {
    "id": "e9448237"
   },
   "source": [
    "## Create a database"
   ]
  },
  {
   "cell_type": "markdown",
   "id": "62d5e145",
   "metadata": {
    "id": "62d5e145"
   },
   "source": [
    "- In SQLite creating a database it's automatic when connecting.\n",
    "- We will use a database named \"sqlite-scratch.db\"\n",
    "- For reproducibility and educational purpose of this notebook we will delete any existing copy of the database, if you want to keep your previous work download the the file and upload again in the dataset directory without running the next cell"
   ]
  },
  {
   "cell_type": "code",
   "execution_count": 8,
   "id": "5ba1fd64",
   "metadata": {
    "id": "5ba1fd64"
   },
   "outputs": [],
   "source": [
    "# Delete\n",
    "!rm -f datasets/sqlite-scratch.db"
   ]
  },
  {
   "cell_type": "markdown",
   "id": "81764564",
   "metadata": {
    "id": "81764564"
   },
   "source": [
    "## Connect to the database"
   ]
  },
  {
   "cell_type": "code",
   "execution_count": 9,
   "id": "ab692554",
   "metadata": {
    "id": "ab692554"
   },
   "outputs": [],
   "source": [
    "%sql sqlite:///datasets/sqlite-scratch.db"
   ]
  },
  {
   "cell_type": "markdown",
   "id": "y8AvqyYSwoCe",
   "metadata": {
    "id": "y8AvqyYSwoCe"
   },
   "source": [
    "Let's check if we are connected, just using the %sql magic commands"
   ]
  },
  {
   "cell_type": "code",
   "execution_count": 10,
   "id": "F5-_771ZwuB6",
   "metadata": {
    "colab": {
     "base_uri": "https://localhost:8080/"
    },
    "id": "F5-_771ZwuB6",
    "outputId": "0b857f23-1c56-4f1e-8a68-f108b7985731"
   },
   "outputs": [
    {
     "name": "stdout",
     "output_type": "stream",
     "text": [
      " * sqlite:///datasets/sqlite-scratch.db\n"
     ]
    }
   ],
   "source": [
    "%sql"
   ]
  },
  {
   "cell_type": "markdown",
   "id": "6c9d2f2b",
   "metadata": {
    "id": "6c9d2f2b"
   },
   "source": [
    "## Create Tables"
   ]
  },
  {
   "cell_type": "markdown",
   "id": "80df130d",
   "metadata": {},
   "source": [
    "*Exercise*: Create a table \"hogwarts_students\" with columns (id, name, age). Set id as primary key as column constraint"
   ]
  },
  {
   "cell_type": "code",
   "execution_count": 11,
   "id": "f9705d0e",
   "metadata": {
    "colab": {
     "base_uri": "https://localhost:8080/"
    },
    "id": "f9705d0e",
    "outputId": "03bc2b25-04eb-4502-d713-f9ffe78d7534"
   },
   "outputs": [
    {
     "name": "stdout",
     "output_type": "stream",
     "text": [
      " * sqlite:///datasets/sqlite-scratch.db\n",
      "Done.\n"
     ]
    },
    {
     "data": {
      "text/plain": [
       "[]"
      ]
     },
     "execution_count": 11,
     "metadata": {},
     "output_type": "execute_result"
    }
   ],
   "source": [
    "%%sql\n",
    "CREATE TABLE IF NOT EXISTS hogwarts_students(\n",
    "id   INTEGER PRIMARY KEY NOT NULL,\n",
    "name TEXT    NOT NULL,\n",
    "age  INTEGER\n",
    ");"
   ]
  },
  {
   "cell_type": "markdown",
   "id": "ada66d00",
   "metadata": {},
   "source": [
    "## SQLite schema\n",
    "- SQLite stores database schema in a table ```sqlite_master```\n",
    "- To view it, simply run a SELECT query\n"
   ]
  },
  {
   "cell_type": "code",
   "execution_count": 12,
   "id": "dec050ee",
   "metadata": {
    "colab": {
     "base_uri": "https://localhost:8080/",
     "height": 165
    },
    "id": "dec050ee",
    "outputId": "9645fae4-7882-41e4-8544-341bb3e3bdb9"
   },
   "outputs": [
    {
     "name": "stdout",
     "output_type": "stream",
     "text": [
      " * sqlite:///datasets/sqlite-scratch.db\n",
      "Done.\n"
     ]
    },
    {
     "data": {
      "text/html": [
       "<table>\n",
       "    <tr>\n",
       "        <th>type</th>\n",
       "        <th>name</th>\n",
       "        <th>tbl_name</th>\n",
       "        <th>rootpage</th>\n",
       "        <th>sql</th>\n",
       "    </tr>\n",
       "    <tr>\n",
       "        <td>table</td>\n",
       "        <td>hogwarts_students</td>\n",
       "        <td>hogwarts_students</td>\n",
       "        <td>2</td>\n",
       "        <td>CREATE TABLE hogwarts_students(<br>id   INTEGER PRIMARY KEY NOT NULL,<br>name TEXT    NOT NULL,<br>age  INTEGER<br>)</td>\n",
       "    </tr>\n",
       "</table>"
      ],
      "text/plain": [
       "[('table', 'hogwarts_students', 'hogwarts_students', 2, 'CREATE TABLE hogwarts_students(\\nid   INTEGER PRIMARY KEY NOT NULL,\\nname TEXT    NOT NULL,\\nage  INTEGER\\n)')]"
      ]
     },
     "execution_count": 12,
     "metadata": {},
     "output_type": "execute_result"
    }
   ],
   "source": [
    "%%sql\n",
    "select * from sqlite_master"
   ]
  },
  {
   "cell_type": "markdown",
   "id": "05738a9f",
   "metadata": {},
   "source": [
    "## DROP Table"
   ]
  },
  {
   "cell_type": "markdown",
   "id": "b71bc6e3",
   "metadata": {},
   "source": [
    "*Exercise*: Drop table hogwarts_students"
   ]
  },
  {
   "cell_type": "code",
   "execution_count": 13,
   "id": "16470ae9",
   "metadata": {
    "colab": {
     "base_uri": "https://localhost:8080/"
    },
    "id": "hks-eCuSm4r5",
    "outputId": "9290c711-7db0-485c-ea4d-e5385a98e41e"
   },
   "outputs": [
    {
     "name": "stdout",
     "output_type": "stream",
     "text": [
      " * sqlite:///datasets/sqlite-scratch.db\n",
      "Done.\n"
     ]
    },
    {
     "data": {
      "text/plain": [
       "[]"
      ]
     },
     "execution_count": 13,
     "metadata": {},
     "output_type": "execute_result"
    }
   ],
   "source": [
    "%%sql\n",
    "DROP table IF exists hogwarts_students"
   ]
  },
  {
   "cell_type": "markdown",
   "id": "e4e828ee",
   "metadata": {},
   "source": [
    "## Create table (table constraints)"
   ]
  },
  {
   "cell_type": "markdown",
   "id": "b1172775",
   "metadata": {},
   "source": [
    "*Exercise*: Create a table \"students\" with columns (id, name, age). Set id as primary key as table constraint"
   ]
  },
  {
   "cell_type": "code",
   "execution_count": 14,
   "id": "hks-eCuSm4r5",
   "metadata": {
    "colab": {
     "base_uri": "https://localhost:8080/"
    },
    "id": "hks-eCuSm4r5",
    "outputId": "9290c711-7db0-485c-ea4d-e5385a98e41e"
   },
   "outputs": [
    {
     "name": "stdout",
     "output_type": "stream",
     "text": [
      " * sqlite:///datasets/sqlite-scratch.db\n",
      "Done.\n"
     ]
    },
    {
     "data": {
      "text/plain": [
       "[]"
      ]
     },
     "execution_count": 14,
     "metadata": {},
     "output_type": "execute_result"
    }
   ],
   "source": [
    "%%sql\n",
    "CREATE TABLE IF NOT EXISTS hogwarts_students(\n",
    "    id     INTEGER NOT NULL,\n",
    "    name   TEXT    NOT NULL,\n",
    "    age    INTEGER,\n",
    "    PRIMARY KEY(id)\n",
    ")"
   ]
  },
  {
   "cell_type": "markdown",
   "id": "4deac32e",
   "metadata": {},
   "source": [
    "### Create table with foreign key\n",
    "- Foreign Key can be declared explicitly both as column or table constraint \n",
    "- They are not \"required\", relationship exist also without declaring, but it's a good practice\n",
    "- FK can also manage action triggered by the source tuple (i.e. on DELETE/UPDATE -> CASCADE/DELETE) \n",
    "\n",
    "Syntax\n",
    "```sql\n",
    "column datatype references references foreigntable(column)\n",
    "```\n",
    "[Full syntax](https://www.sqlite.org/syntax/foreign-key-clause.html)"
   ]
  },
  {
   "cell_type": "markdown",
   "id": "fd207ee4",
   "metadata": {},
   "source": [
    "*Exercise*: Create the following relations explicitly defining references between hogwarts_students.house_id and hogwarts_houses.id\n",
    "- hogwarts_houses(id, name)\n",
    "- hogwarts_students(id, name, surname, age, city_id)"
   ]
  },
  {
   "cell_type": "code",
   "execution_count": 15,
   "id": "90986153",
   "metadata": {},
   "outputs": [
    {
     "name": "stdout",
     "output_type": "stream",
     "text": [
      " * sqlite:///datasets/sqlite-scratch.db\n",
      "Done.\n",
      "Done.\n"
     ]
    },
    {
     "data": {
      "text/plain": [
       "[]"
      ]
     },
     "execution_count": 15,
     "metadata": {},
     "output_type": "execute_result"
    }
   ],
   "source": [
    "%%sql\n",
    "DROP TABLE IF EXISTS hogwarts_houses;\n",
    "DROP TABLE IF EXISTS hogwarts_students;"
   ]
  },
  {
   "cell_type": "code",
   "execution_count": 16,
   "id": "2a8cc6da",
   "metadata": {},
   "outputs": [
    {
     "name": "stdout",
     "output_type": "stream",
     "text": [
      " * sqlite:///datasets/sqlite-scratch.db\n",
      "Done.\n"
     ]
    },
    {
     "data": {
      "text/plain": [
       "[]"
      ]
     },
     "execution_count": 16,
     "metadata": {},
     "output_type": "execute_result"
    }
   ],
   "source": [
    "%%sql\n",
    "CREATE TABLE IF NOT EXISTS hogwarts_houses(\n",
    "id   INTEGER PRIMARY KEY NOT NULL,\n",
    "name TEXT    NOT NULL\n",
    ");"
   ]
  },
  {
   "cell_type": "code",
   "execution_count": 17,
   "id": "7c0f3929",
   "metadata": {},
   "outputs": [
    {
     "name": "stdout",
     "output_type": "stream",
     "text": [
      " * sqlite:///datasets/sqlite-scratch.db\n",
      "Done.\n"
     ]
    },
    {
     "data": {
      "text/plain": [
       "[]"
      ]
     },
     "execution_count": 17,
     "metadata": {},
     "output_type": "execute_result"
    }
   ],
   "source": [
    "%%sql\n",
    "CREATE TABLE IF NOT EXISTS hogwarts_students(\n",
    "id   INTEGER PRIMARY KEY NOT NULL,\n",
    "name TEXT    NOT NULL,\n",
    "age  INTEGER,\n",
    "house_id REFERENCES hogwarts_houses(id)\n",
    ");"
   ]
  },
  {
   "cell_type": "code",
   "execution_count": 18,
   "id": "fe9c2de0",
   "metadata": {},
   "outputs": [
    {
     "name": "stdout",
     "output_type": "stream",
     "text": [
      " * sqlite:///datasets/sqlite-scratch.db\n",
      "Done.\n"
     ]
    },
    {
     "data": {
      "text/html": [
       "<table>\n",
       "    <tr>\n",
       "        <th>type</th>\n",
       "        <th>name</th>\n",
       "        <th>tbl_name</th>\n",
       "        <th>rootpage</th>\n",
       "        <th>sql</th>\n",
       "    </tr>\n",
       "    <tr>\n",
       "        <td>table</td>\n",
       "        <td>hogwarts_houses</td>\n",
       "        <td>hogwarts_houses</td>\n",
       "        <td>2</td>\n",
       "        <td>CREATE TABLE hogwarts_houses(<br>id   INTEGER PRIMARY KEY NOT NULL,<br>name TEXT    NOT NULL<br>)</td>\n",
       "    </tr>\n",
       "    <tr>\n",
       "        <td>table</td>\n",
       "        <td>hogwarts_students</td>\n",
       "        <td>hogwarts_students</td>\n",
       "        <td>3</td>\n",
       "        <td>CREATE TABLE hogwarts_students(<br>id   INTEGER PRIMARY KEY NOT NULL,<br>name TEXT    NOT NULL,<br>age  INTEGER,<br>house_id REFERENCES hogwarts_houses(id)<br>)</td>\n",
       "    </tr>\n",
       "</table>"
      ],
      "text/plain": [
       "[('table', 'hogwarts_houses', 'hogwarts_houses', 2, 'CREATE TABLE hogwarts_houses(\\nid   INTEGER PRIMARY KEY NOT NULL,\\nname TEXT    NOT NULL\\n)'),\n",
       " ('table', 'hogwarts_students', 'hogwarts_students', 3, 'CREATE TABLE hogwarts_students(\\nid   INTEGER PRIMARY KEY NOT NULL,\\nname TEXT    NOT NULL,\\nage  INTEGER,\\nhouse_id REFERENCES hogwarts_houses(id)\\n)')]"
      ]
     },
     "execution_count": 18,
     "metadata": {},
     "output_type": "execute_result"
    }
   ],
   "source": [
    "%%sql\n",
    "select * from sqlite_master"
   ]
  },
  {
   "cell_type": "markdown",
   "id": "968208ab",
   "metadata": {},
   "source": [
    "# Display Physical Schema\n",
    "\n",
    "- graphviz\n",
    "- https://github.com/innovationOUtside/ipython_magic_sqlalchemy_schemadisplay"
   ]
  },
  {
   "cell_type": "code",
   "execution_count": 19,
   "id": "3870b549",
   "metadata": {},
   "outputs": [
    {
     "name": "stdout",
     "output_type": "stream",
     "text": [
      "zsh:1: command not found: apt-get\r\n"
     ]
    }
   ],
   "source": [
    "!apt-get -y install graphviz"
   ]
  },
  {
   "cell_type": "code",
   "execution_count": 20,
   "id": "c6ad464b",
   "metadata": {},
   "outputs": [
    {
     "name": "stdout",
     "output_type": "stream",
     "text": [
      "Requirement already satisfied: schemadisplay-magic in /Users/nics/miniforge3/lib/python3.9/site-packages (0.0.8)\n",
      "Requirement already satisfied: pydot in /Users/nics/miniforge3/lib/python3.9/site-packages (from schemadisplay-magic) (2.0.0)\n",
      "Requirement already satisfied: graphviz in /Users/nics/miniforge3/lib/python3.9/site-packages (from schemadisplay-magic) (0.20.1)\n",
      "Requirement already satisfied: sqlalchemy in /Users/nics/miniforge3/lib/python3.9/site-packages (from schemadisplay-magic) (2.0.27)\n",
      "Requirement already satisfied: pandas in /Users/nics/miniforge3/lib/python3.9/site-packages (from schemadisplay-magic) (1.5.2)\n",
      "Requirement already satisfied: python-dateutil>=2.8.1 in /Users/nics/miniforge3/lib/python3.9/site-packages (from pandas->schemadisplay-magic) (2.8.2)\n",
      "Requirement already satisfied: pytz>=2020.1 in /Users/nics/miniforge3/lib/python3.9/site-packages (from pandas->schemadisplay-magic) (2022.7)\n",
      "Requirement already satisfied: numpy>=1.20.3 in /Users/nics/miniforge3/lib/python3.9/site-packages (from pandas->schemadisplay-magic) (1.21.5)\n",
      "Requirement already satisfied: pyparsing>=3 in /Users/nics/miniforge3/lib/python3.9/site-packages (from pydot->schemadisplay-magic) (3.0.9)\n",
      "Requirement already satisfied: typing-extensions>=4.6.0 in /Users/nics/miniforge3/lib/python3.9/site-packages (from sqlalchemy->schemadisplay-magic) (4.9.0)\n",
      "Requirement already satisfied: six>=1.5 in /Users/nics/miniforge3/lib/python3.9/site-packages (from python-dateutil>=2.8.1->pandas->schemadisplay-magic) (1.16.0)\n",
      "Note: you may need to restart the kernel to use updated packages.\n"
     ]
    }
   ],
   "source": [
    "%pip install schemadisplay-magic"
   ]
  },
  {
   "cell_type": "code",
   "execution_count": 21,
   "id": "a554bbe2",
   "metadata": {},
   "outputs": [],
   "source": [
    "%load_ext schemadisplay_magic"
   ]
  },
  {
   "cell_type": "code",
   "execution_count": 22,
   "id": "a96f818f",
   "metadata": {},
   "outputs": [
    {
     "data": {
      "image/svg+xml": [
       "<?xml version=\"1.0\" encoding=\"UTF-8\" standalone=\"no\"?>\n",
       "<!DOCTYPE svg PUBLIC \"-//W3C//DTD SVG 1.1//EN\"\n",
       " \"http://www.w3.org/Graphics/SVG/1.1/DTD/svg11.dtd\">\n",
       "<!-- Generated by graphviz version 10.0.1 (20240210.2158)\n",
       " -->\n",
       "<!-- Title: G Pages: 1 -->\n",
       "<svg width=\"234pt\" height=\"81pt\"\n",
       " viewBox=\"0.00 0.00 233.50 81.25\" xmlns=\"http://www.w3.org/2000/svg\" xmlns:xlink=\"http://www.w3.org/1999/xlink\">\n",
       "<g id=\"graph0\" class=\"graph\" transform=\"scale(1 1) rotate(0) translate(4 77.25)\">\n",
       "<title>G</title>\n",
       "<polygon fill=\"white\" stroke=\"none\" points=\"-4,4 -4,-77.25 229.5,-77.25 229.5,4 -4,4\"/>\n",
       "<!-- hogwarts_houses -->\n",
       "<g id=\"node1\" class=\"node\">\n",
       "<title>hogwarts_houses</title>\n",
       "<text text-anchor=\"start\" x=\"156.38\" y=\"-47.35\" font-family=\"Bitstream-Vera Sans\" font-size=\"7.00\">hogwarts_houses</text>\n",
       "<polygon fill=\"none\" stroke=\"black\" points=\"151,-41.75 151,-43.75 216.5,-43.75 216.5,-41.75 151,-41.75\"/>\n",
       "<text text-anchor=\"start\" x=\"153\" y=\"-33.1\" font-family=\"Bitstream-Vera Sans\" font-size=\"7.00\">&#45; id(PK) : INTEGER</text>\n",
       "<text text-anchor=\"start\" x=\"153\" y=\"-20.85\" font-family=\"Bitstream-Vera Sans\" font-size=\"7.00\">&#45; name : TEXT</text>\n",
       "<polygon fill=\"none\" stroke=\"black\" points=\"150,-16.25 150,-57 217.5,-57 217.5,-16.25 150,-16.25\"/>\n",
       "</g>\n",
       "<!-- hogwarts_students -->\n",
       "<g id=\"node2\" class=\"node\">\n",
       "<title>hogwarts_students</title>\n",
       "<text text-anchor=\"start\" x=\"23.38\" y=\"-59.6\" font-family=\"Bitstream-Vera Sans\" font-size=\"7.00\">hogwarts_students</text>\n",
       "<polygon fill=\"none\" stroke=\"black\" points=\"9,-54 9,-56 97,-56 97,-54 9,-54\"/>\n",
       "<text text-anchor=\"start\" x=\"11\" y=\"-45.35\" font-family=\"Bitstream-Vera Sans\" font-size=\"7.00\">&#45; id(PK) : INTEGER</text>\n",
       "<text text-anchor=\"start\" x=\"11\" y=\"-33.1\" font-family=\"Bitstream-Vera Sans\" font-size=\"7.00\">&#45; name : TEXT</text>\n",
       "<text text-anchor=\"start\" x=\"11\" y=\"-20.85\" font-family=\"Bitstream-Vera Sans\" font-size=\"7.00\">&#45; age : INTEGER</text>\n",
       "<text text-anchor=\"start\" x=\"11\" y=\"-8.6\" font-family=\"Bitstream-Vera Sans\" font-size=\"7.00\">&#45; house_id(FK) : INTEGER</text>\n",
       "<polygon fill=\"none\" stroke=\"black\" points=\"8,-4 8,-69.25 98,-69.25 98,-4 8,-4\"/>\n",
       "</g>\n",
       "<!-- hogwarts_students&#45;&gt;hogwarts_houses -->\n",
       "<g id=\"edge1\" class=\"edge\">\n",
       "<title>hogwarts_students&#45;&gt;hogwarts_houses</title>\n",
       "<path fill=\"none\" stroke=\"black\" d=\"M116.23,-36.63C121.98,-36.63 127.76,-36.63 133.38,-36.63\"/>\n",
       "<polygon fill=\"black\" stroke=\"black\" points=\"116.33,-36.63 106.33,-32.13 111,-36.63 106.67,-36.63 106.67,-36.63 106.67,-36.63 111,-36.63 106.33,-41.13 116.33,-36.63\"/>\n",
       "<ellipse fill=\"none\" stroke=\"black\" cx=\"137.54\" cy=\"-36.63\" rx=\"4\" ry=\"4\"/>\n",
       "<text text-anchor=\"middle\" x=\"136.42\" y=\"-38.23\" font-family=\"Bitstream-Vera Sans\" font-size=\"7.00\">+ id</text>\n",
       "<text text-anchor=\"middle\" x=\"122.87\" y=\"-29.98\" font-family=\"Bitstream-Vera Sans\" font-size=\"7.00\">+ house_id</text>\n",
       "</g>\n",
       "</g>\n",
       "</svg>\n"
      ],
      "text/plain": [
       "<graphviz.sources.Source at 0x14005bcd0>"
      ]
     },
     "execution_count": 22,
     "metadata": {},
     "output_type": "execute_result"
    }
   ],
   "source": [
    "%schema --connection_string sqlite:///datasets/sqlite-scratch.db"
   ]
  },
  {
   "cell_type": "markdown",
   "id": "f815668a",
   "metadata": {
    "slideshow": {
     "slide_type": "skip"
    }
   },
   "source": [
    "Back to Theory for ALTER TABLE"
   ]
  },
  {
   "cell_type": "markdown",
   "id": "cc88363d",
   "metadata": {},
   "source": [
    "## ALTER Table"
   ]
  },
  {
   "cell_type": "markdown",
   "id": "075ef3fe",
   "metadata": {},
   "source": [
    "*Exercise*: \n",
    "- Add a column gender in hogwarts_students table\n",
    "- Rename hogwarts_houses in houses \n",
    "- Rename hogwarts_students in students "
   ]
  },
  {
   "cell_type": "code",
   "execution_count": 23,
   "id": "65e28ff0",
   "metadata": {},
   "outputs": [
    {
     "name": "stdout",
     "output_type": "stream",
     "text": [
      " * sqlite:///datasets/sqlite-scratch.db\n",
      "Done.\n"
     ]
    },
    {
     "data": {
      "text/plain": [
       "[]"
      ]
     },
     "execution_count": 23,
     "metadata": {},
     "output_type": "execute_result"
    }
   ],
   "source": [
    "%%sql\n",
    "ALTER TABLE hogwarts_students ADD column gender TEXT"
   ]
  },
  {
   "cell_type": "code",
   "execution_count": 24,
   "id": "deca495f",
   "metadata": {},
   "outputs": [
    {
     "name": "stdout",
     "output_type": "stream",
     "text": [
      " * sqlite:///datasets/sqlite-scratch.db\n",
      "Done.\n",
      "Done.\n"
     ]
    },
    {
     "data": {
      "text/plain": [
       "[]"
      ]
     },
     "execution_count": 24,
     "metadata": {},
     "output_type": "execute_result"
    }
   ],
   "source": [
    "%%sql\n",
    "ALTER TABLE hogwarts_houses RENAME to houses;\n",
    "ALTER TABLE hogwarts_students RENAME to students;"
   ]
  },
  {
   "cell_type": "markdown",
   "id": "81ef203c",
   "metadata": {
    "slideshow": {
     "slide_type": "skip"
    }
   },
   "source": [
    "Back to Theory for DML"
   ]
  },
  {
   "cell_type": "markdown",
   "id": "c9148d33",
   "metadata": {},
   "source": [
    "## Insert into a table (specifying columns)"
   ]
  },
  {
   "cell_type": "markdown",
   "id": "7af99bd8",
   "metadata": {},
   "source": [
    "*Exercise*: \n",
    "- Insert Gryffindor, Slytherin  in the houses table\n",
    "\n",
    "nb\n",
    "Since id is primary key, in sqlite it's automatically created with rowid, so we don't need to specify in the column list"
   ]
  },
  {
   "cell_type": "code",
   "execution_count": 25,
   "id": "b4a05be5",
   "metadata": {},
   "outputs": [
    {
     "name": "stdout",
     "output_type": "stream",
     "text": [
      " * sqlite:///datasets/sqlite-scratch.db\n",
      "2 rows affected.\n"
     ]
    },
    {
     "data": {
      "text/plain": [
       "[]"
      ]
     },
     "execution_count": 25,
     "metadata": {},
     "output_type": "execute_result"
    }
   ],
   "source": [
    "%%sql \n",
    "INSERT into houses(name) \n",
    "VALUES \n",
    "('Gryffindor'),\n",
    "('Slytherin')"
   ]
  },
  {
   "cell_type": "markdown",
   "id": "2478832e",
   "metadata": {},
   "source": [
    "Check if rows are inserted "
   ]
  },
  {
   "cell_type": "code",
   "execution_count": 26,
   "id": "d1d3ef9a",
   "metadata": {},
   "outputs": [
    {
     "name": "stdout",
     "output_type": "stream",
     "text": [
      " * sqlite:///datasets/sqlite-scratch.db\n",
      "Done.\n"
     ]
    },
    {
     "data": {
      "text/html": [
       "<table>\n",
       "    <tr>\n",
       "        <th>id</th>\n",
       "        <th>name</th>\n",
       "    </tr>\n",
       "    <tr>\n",
       "        <td>1</td>\n",
       "        <td>Gryffindor</td>\n",
       "    </tr>\n",
       "    <tr>\n",
       "        <td>2</td>\n",
       "        <td>Slytherin</td>\n",
       "    </tr>\n",
       "</table>"
      ],
      "text/plain": [
       "[(1, 'Gryffindor'), (2, 'Slytherin')]"
      ]
     },
     "execution_count": 26,
     "metadata": {},
     "output_type": "execute_result"
    }
   ],
   "source": [
    "%%sql\n",
    "select * from houses"
   ]
  },
  {
   "cell_type": "markdown",
   "id": "2b0fb6fd",
   "metadata": {},
   "source": [
    "## CREATE Table Default and Unique\n",
    "- As column constraint it's possible to set a default value for the column using DEFAULT keywork\n",
    "- This setting allows to insert into a table without specifying the columns, if not present a NULL values is set, if the column is defined as NOT NULL, an error arise\n",
    "- A table constraint can also check if multiple columns are UNIQUE"
   ]
  },
  {
   "cell_type": "markdown",
   "id": "c1a221a6",
   "metadata": {},
   "source": [
    "*Exercise*: \n",
    "Albus Silente needs a table to check that all Hogwarts have perfomed the OWL exams.\n",
    "- Create a single table having\n",
    "    - student name: text not null (eg. \"Harry Potter\")\n",
    "    - class name: text not null (eg. \"Defence Against the Dark Arts\")\n",
    "    - grade: integer default 0 \n",
    "- Add a table constraint to check UNIQUE on student name, class name"
   ]
  },
  {
   "cell_type": "code",
   "execution_count": 27,
   "id": "f2e9e660",
   "metadata": {},
   "outputs": [
    {
     "name": "stdout",
     "output_type": "stream",
     "text": [
      " * sqlite:///datasets/sqlite-scratch.db\n",
      "Done.\n",
      "Done.\n"
     ]
    },
    {
     "data": {
      "text/plain": [
       "[]"
      ]
     },
     "execution_count": 27,
     "metadata": {},
     "output_type": "execute_result"
    }
   ],
   "source": [
    "%%sql\n",
    "DROP TABLE IF EXISTS owl_records;\n",
    "CREATE TABLE IF NOT EXISTS owl_records(\n",
    "student TEXT NOT NULL,\n",
    "class   TEXT NOT NULL,\n",
    "grade  NUMBER DEFAULT 0,\n",
    "UNIQUE (student,class)\n",
    ")"
   ]
  },
  {
   "cell_type": "code",
   "execution_count": 28,
   "id": "1735229e",
   "metadata": {},
   "outputs": [
    {
     "name": "stdout",
     "output_type": "stream",
     "text": [
      " * sqlite:///datasets/sqlite-scratch.db\n",
      "1 rows affected.\n"
     ]
    },
    {
     "data": {
      "text/plain": [
       "[]"
      ]
     },
     "execution_count": 28,
     "metadata": {},
     "output_type": "execute_result"
    }
   ],
   "source": [
    "%%sql\n",
    "insert into owl_records(student, class)\n",
    "values\n",
    "('Harry Potter', 'Defence Against the Dark Arts')"
   ]
  },
  {
   "cell_type": "markdown",
   "id": "f4838484",
   "metadata": {},
   "source": [
    "Check Records"
   ]
  },
  {
   "cell_type": "code",
   "execution_count": 29,
   "id": "89d549d0",
   "metadata": {},
   "outputs": [
    {
     "name": "stdout",
     "output_type": "stream",
     "text": [
      " * sqlite:///datasets/sqlite-scratch.db\n",
      "Done.\n"
     ]
    },
    {
     "data": {
      "text/html": [
       "<table>\n",
       "    <tr>\n",
       "        <th>student</th>\n",
       "        <th>class</th>\n",
       "        <th>grade</th>\n",
       "    </tr>\n",
       "    <tr>\n",
       "        <td>Harry Potter</td>\n",
       "        <td>Defence Against the Dark Arts</td>\n",
       "        <td>0</td>\n",
       "    </tr>\n",
       "</table>"
      ],
      "text/plain": [
       "[('Harry Potter', 'Defence Against the Dark Arts', 0)]"
      ]
     },
     "execution_count": 29,
     "metadata": {},
     "output_type": "execute_result"
    }
   ],
   "source": [
    "%%sql\n",
    "select * from owl_records"
   ]
  },
  {
   "cell_type": "markdown",
   "id": "19e0f6e9",
   "metadata": {},
   "source": [
    "Run again the insert query to check unique constraint\n"
   ]
  },
  {
   "cell_type": "markdown",
   "id": "36fcc475",
   "metadata": {},
   "source": [
    "## INSERT INTO ... SELECT"
   ]
  },
  {
   "cell_type": "markdown",
   "id": "de174952",
   "metadata": {},
   "source": [
    "*Exercise*: \n",
    "Prof. Mcgonagal needs to create a list of students,\n",
    "- Insert into the students using select into\n",
    "- Bonus add a where clause in the select to avoid repetitions"
   ]
  },
  {
   "cell_type": "code",
   "execution_count": 30,
   "id": "4693b2a2",
   "metadata": {},
   "outputs": [
    {
     "name": "stdout",
     "output_type": "stream",
     "text": [
      " * sqlite:///datasets/sqlite-scratch.db\n",
      "1 rows affected.\n"
     ]
    },
    {
     "data": {
      "text/plain": [
       "[]"
      ]
     },
     "execution_count": 30,
     "metadata": {},
     "output_type": "execute_result"
    }
   ],
   "source": [
    "%%sql\n",
    "insert into students(name) select distinct student from owl_records"
   ]
  },
  {
   "cell_type": "code",
   "execution_count": 31,
   "id": "e8f8b944",
   "metadata": {},
   "outputs": [
    {
     "name": "stdout",
     "output_type": "stream",
     "text": [
      " * sqlite:///datasets/sqlite-scratch.db\n",
      "Done.\n"
     ]
    },
    {
     "data": {
      "text/html": [
       "<table>\n",
       "    <tr>\n",
       "        <th>id</th>\n",
       "        <th>name</th>\n",
       "        <th>age</th>\n",
       "        <th>house_id</th>\n",
       "        <th>gender</th>\n",
       "    </tr>\n",
       "    <tr>\n",
       "        <td>1</td>\n",
       "        <td>Harry Potter</td>\n",
       "        <td>None</td>\n",
       "        <td>None</td>\n",
       "        <td>None</td>\n",
       "    </tr>\n",
       "</table>"
      ],
      "text/plain": [
       "[(1, 'Harry Potter', None, None, None)]"
      ]
     },
     "execution_count": 31,
     "metadata": {},
     "output_type": "execute_result"
    }
   ],
   "source": [
    "%%sql\n",
    "select * from students"
   ]
  },
  {
   "cell_type": "code",
   "execution_count": 33,
   "id": "47f3e167",
   "metadata": {},
   "outputs": [
    {
     "name": "stdout",
     "output_type": "stream",
     "text": [
      " * sqlite:///datasets/sqlite-scratch.db\n",
      "1 rows affected.\n"
     ]
    },
    {
     "data": {
      "text/plain": [
       "[]"
      ]
     },
     "execution_count": 33,
     "metadata": {},
     "output_type": "execute_result"
    }
   ],
   "source": [
    "%%sql\n",
    "insert into owl_records(student, class)\n",
    "values\n",
    "('Hermione Granger', 'Defence Against the Dark Arts')"
   ]
  },
  {
   "cell_type": "code",
   "execution_count": 34,
   "id": "fcedfca3",
   "metadata": {},
   "outputs": [
    {
     "name": "stdout",
     "output_type": "stream",
     "text": [
      " * sqlite:///datasets/sqlite-scratch.db\n",
      "1 rows affected.\n"
     ]
    },
    {
     "data": {
      "text/plain": [
       "[]"
      ]
     },
     "execution_count": 34,
     "metadata": {},
     "output_type": "execute_result"
    }
   ],
   "source": [
    "%%sql\n",
    "insert into students(name) select distinct student from owl_records \n",
    "where student not in (select name from students);\n"
   ]
  },
  {
   "cell_type": "code",
   "execution_count": 35,
   "id": "46ddf89f",
   "metadata": {},
   "outputs": [
    {
     "name": "stdout",
     "output_type": "stream",
     "text": [
      " * sqlite:///datasets/sqlite-scratch.db\n",
      "Done.\n"
     ]
    },
    {
     "data": {
      "text/html": [
       "<table>\n",
       "    <tr>\n",
       "        <th>id</th>\n",
       "        <th>name</th>\n",
       "        <th>age</th>\n",
       "        <th>house_id</th>\n",
       "        <th>gender</th>\n",
       "    </tr>\n",
       "    <tr>\n",
       "        <td>1</td>\n",
       "        <td>Harry Potter</td>\n",
       "        <td>None</td>\n",
       "        <td>None</td>\n",
       "        <td>None</td>\n",
       "    </tr>\n",
       "    <tr>\n",
       "        <td>2</td>\n",
       "        <td>Hermione Granger</td>\n",
       "        <td>None</td>\n",
       "        <td>None</td>\n",
       "        <td>None</td>\n",
       "    </tr>\n",
       "</table>"
      ],
      "text/plain": [
       "[(1, 'Harry Potter', None, None, None),\n",
       " (2, 'Hermione Granger', None, None, None)]"
      ]
     },
     "execution_count": 35,
     "metadata": {},
     "output_type": "execute_result"
    }
   ],
   "source": [
    "%%sql\n",
    "select * from students\n"
   ]
  },
  {
   "cell_type": "code",
   "execution_count": 37,
   "id": "37e123d5",
   "metadata": {},
   "outputs": [
    {
     "name": "stdout",
     "output_type": "stream",
     "text": [
      " * sqlite:///datasets/sqlite-scratch.db\n",
      "Done.\n"
     ]
    },
    {
     "data": {
      "text/html": [
       "<table>\n",
       "    <tr>\n",
       "        <th>student</th>\n",
       "        <th>class</th>\n",
       "        <th>grade</th>\n",
       "    </tr>\n",
       "    <tr>\n",
       "        <td>Harry Potter</td>\n",
       "        <td>Defence Against the Dark Arts</td>\n",
       "        <td>0</td>\n",
       "    </tr>\n",
       "    <tr>\n",
       "        <td>Hermione Granger</td>\n",
       "        <td>Defence Against the Dark Arts</td>\n",
       "        <td>0</td>\n",
       "    </tr>\n",
       "</table>"
      ],
      "text/plain": [
       "[('Harry Potter', 'Defence Against the Dark Arts', 0),\n",
       " ('Hermione Granger', 'Defence Against the Dark Arts', 0)]"
      ]
     },
     "execution_count": 37,
     "metadata": {},
     "output_type": "execute_result"
    }
   ],
   "source": [
    "%%sql\n",
    "select * from owl_records\n"
   ]
  },
  {
   "cell_type": "markdown",
   "id": "102f8e16",
   "metadata": {},
   "source": [
    "## DELETE"
   ]
  },
  {
   "cell_type": "markdown",
   "id": "4825bac9",
   "metadata": {},
   "source": [
    "*Exercise*: \n",
    "Fred and George want to leave the school to open a magic chop\n",
    "- Insert and delete them into the students table"
   ]
  },
  {
   "cell_type": "code",
   "execution_count": 38,
   "id": "57100021",
   "metadata": {},
   "outputs": [
    {
     "name": "stdout",
     "output_type": "stream",
     "text": [
      " * sqlite:///datasets/sqlite-scratch.db\n",
      "2 rows affected.\n"
     ]
    },
    {
     "data": {
      "text/plain": [
       "[]"
      ]
     },
     "execution_count": 38,
     "metadata": {},
     "output_type": "execute_result"
    }
   ],
   "source": [
    "%%sql\n",
    "insert into students(name) values ('Fred'),('George')\n"
   ]
  },
  {
   "cell_type": "code",
   "execution_count": 41,
   "id": "bdb1aa0d",
   "metadata": {},
   "outputs": [
    {
     "name": "stdout",
     "output_type": "stream",
     "text": [
      " * sqlite:///datasets/sqlite-scratch.db\n",
      "2 rows affected.\n"
     ]
    },
    {
     "data": {
      "text/plain": [
       "[]"
      ]
     },
     "execution_count": 41,
     "metadata": {},
     "output_type": "execute_result"
    }
   ],
   "source": [
    "%%sql \n",
    "delete from students where name in ('Fred','George')"
   ]
  },
  {
   "cell_type": "markdown",
   "id": "9dac94df",
   "metadata": {},
   "source": [
    "*Exercise*: \n",
    "Peeves does a prank:\n",
    "- Delete all records in owl_records table"
   ]
  },
  {
   "cell_type": "code",
   "execution_count": 42,
   "id": "85159630",
   "metadata": {},
   "outputs": [
    {
     "name": "stdout",
     "output_type": "stream",
     "text": [
      " * sqlite:///datasets/sqlite-scratch.db\n",
      "2 rows affected.\n"
     ]
    },
    {
     "data": {
      "text/plain": [
       "[]"
      ]
     },
     "execution_count": 42,
     "metadata": {},
     "output_type": "execute_result"
    }
   ],
   "source": [
    "%%sql \n",
    "delete from owl_records"
   ]
  },
  {
   "cell_type": "markdown",
   "id": "d4d80f30",
   "metadata": {},
   "source": [
    "## UPDATE"
   ]
  },
  {
   "cell_type": "markdown",
   "id": "c29ed24f",
   "metadata": {},
   "source": [
    "*Exercise*: In the Sorting Hat ceremony, Harry and Hermione are assigned to Gryffindor house:\n",
    "- update students table accordingly \n"
   ]
  },
  {
   "cell_type": "code",
   "execution_count": 43,
   "id": "7cfd51d7",
   "metadata": {},
   "outputs": [
    {
     "name": "stdout",
     "output_type": "stream",
     "text": [
      " * sqlite:///datasets/sqlite-scratch.db\n",
      "Done.\n"
     ]
    },
    {
     "data": {
      "text/html": [
       "<table>\n",
       "    <tr>\n",
       "        <th>id</th>\n",
       "        <th>name</th>\n",
       "    </tr>\n",
       "    <tr>\n",
       "        <td>1</td>\n",
       "        <td>Gryffindor</td>\n",
       "    </tr>\n",
       "    <tr>\n",
       "        <td>2</td>\n",
       "        <td>Slytherin</td>\n",
       "    </tr>\n",
       "</table>"
      ],
      "text/plain": [
       "[(1, 'Gryffindor'), (2, 'Slytherin')]"
      ]
     },
     "execution_count": 43,
     "metadata": {},
     "output_type": "execute_result"
    }
   ],
   "source": [
    "%%sql \n",
    "select * from houses"
   ]
  },
  {
   "cell_type": "code",
   "execution_count": 45,
   "id": "acdb7e0c",
   "metadata": {},
   "outputs": [
    {
     "name": "stdout",
     "output_type": "stream",
     "text": [
      " * sqlite:///datasets/sqlite-scratch.db\n",
      "2 rows affected.\n"
     ]
    },
    {
     "data": {
      "text/plain": [
       "[]"
      ]
     },
     "execution_count": 45,
     "metadata": {},
     "output_type": "execute_result"
    }
   ],
   "source": [
    "%%sql \n",
    "update students set house_id=1 where name in ('Harry Potter','Hermione Granger')"
   ]
  },
  {
   "cell_type": "markdown",
   "id": "2e4a37f6",
   "metadata": {},
   "source": [
    "## Close connection"
   ]
  },
  {
   "cell_type": "code",
   "execution_count": 39,
   "id": "iuNaD-1EoVuR",
   "metadata": {
    "colab": {
     "base_uri": "https://localhost:8080/"
    },
    "id": "iuNaD-1EoVuR",
    "outputId": "90bacce3-b144-47ca-9fd4-8c35984352ac"
   },
   "outputs": [
    {
     "data": {
      "text/plain": [
       "{'sqlite:///datasets/sqlite-scratch.db': <sql.connection.Connection at 0x7c072f9bacb0>}"
      ]
     },
     "execution_count": 39,
     "metadata": {},
     "output_type": "execute_result"
    }
   ],
   "source": [
    "%sql -l"
   ]
  },
  {
   "cell_type": "code",
   "execution_count": 40,
   "id": "xuRawWL5o_MQ",
   "metadata": {
    "id": "xuRawWL5o_MQ"
   },
   "outputs": [],
   "source": [
    "%sql -x sqlite:///datasets/sqlite-scratch.db"
   ]
  },
  {
   "cell_type": "code",
   "execution_count": null,
   "id": "UtsmV4-HpDjl",
   "metadata": {
    "id": "UtsmV4-HpDjl"
   },
   "outputs": [],
   "source": []
  }
 ],
 "metadata": {
  "celltoolbar": "Slideshow",
  "colab": {
   "provenance": []
  },
  "kernelspec": {
   "display_name": "Python 3 (ipykernel)",
   "language": "python",
   "name": "python3"
  },
  "language_info": {
   "codemirror_mode": {
    "name": "ipython",
    "version": 3
   },
   "file_extension": ".py",
   "mimetype": "text/x-python",
   "name": "python",
   "nbconvert_exporter": "python",
   "pygments_lexer": "ipython3",
   "version": "3.9.15"
  },
  "rise": {
   "autolaunch": true,
   "enable_chalkboard": "true",
   "footer": "<div class=\"sds-footer\"> *** Social Data Science (SDS) - Notions of Database Management Systems ***</div>",
   "header": "<div class=\"sds-header\"><div class=\"sds-header-image\"></div></div>",
   "scroll": true,
   "theme": "white"
  }
 },
 "nbformat": 4,
 "nbformat_minor": 5
}
