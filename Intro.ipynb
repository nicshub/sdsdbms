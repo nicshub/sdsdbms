{
 "cells": [
  {
   "cell_type": "markdown",
   "id": "87a85ab9",
   "metadata": {
    "slideshow": {
     "slide_type": "slide"
    }
   },
   "source": [
    "# Notions of Database Management Systems"
   ]
  },
  {
   "cell_type": "markdown",
   "id": "54b99ccf",
   "metadata": {
    "cell_style": "center",
    "slideshow": {
     "slide_type": "fragment"
    }
   },
   "source": [
    "> The course introduces the student to DBMS, that provides methods to create, manage, and access a large volume of data\n",
    "\n",
    "https://sds.sociologia.unimib.it/modules/\n"
   ]
  },
  {
   "cell_type": "markdown",
   "id": "21af0bab",
   "metadata": {
    "cell_style": "split",
    "slideshow": {
     "slide_type": "subslide"
    }
   },
   "source": [
    "## Expectations\n",
    "![](images/LearnDatabaseManagementwithMemesExpectations.png)"
   ]
  },
  {
   "cell_type": "markdown",
   "id": "10e14155",
   "metadata": {
    "cell_style": "split",
    "slideshow": {
     "slide_type": "fragment"
    }
   },
   "source": [
    "## Reality ?\n",
    "![](images/LearnDatabaseManagementwithMemesReality.png)"
   ]
  },
  {
   "cell_type": "markdown",
   "id": "6dfae168",
   "metadata": {
    "slideshow": {
     "slide_type": "subslide"
    }
   },
   "source": [
    "## Let's introduce our self"
   ]
  },
  {
   "cell_type": "markdown",
   "id": "970708d9",
   "metadata": {
    "cell_style": "split",
    "slideshow": {
     "slide_type": "fragment"
    }
   },
   "source": [
    "Who am I ?\n",
    "\n",
    "https://about.me/snicotra"
   ]
  },
  {
   "cell_type": "markdown",
   "id": "6307f013",
   "metadata": {
    "cell_style": "split",
    "slideshow": {
     "slide_type": "fragment"
    }
   },
   "source": [
    "Who are you ? \n",
    "\n",
    "Roundtable presentation:\n",
    "- What is the last database have you used ?\n",
    "- Can you \"speak\" SQL ?\n",
    "- What do you expect to learn ?"
   ]
  },
  {
   "cell_type": "markdown",
   "id": "07885223",
   "metadata": {
    "slideshow": {
     "slide_type": "subslide"
    }
   },
   "source": [
    "## Course Plan"
   ]
  },
  {
   "cell_type": "markdown",
   "id": "4079f9ba",
   "metadata": {
    "slideshow": {
     "slide_type": "fragment"
    }
   },
   "source": [
    "**Introduction**: Data-Big Data, Information Systems, DMBS (Definition, History, Examples). Desktop Database"
   ]
  },
  {
   "cell_type": "markdown",
   "id": "67e4714c",
   "metadata": {
    "slideshow": {
     "slide_type": "fragment"
    }
   },
   "source": [
    "**Relational Model**: Data Model Conceptual - Pyhisical, Relational Model, Relational Algebra"
   ]
  },
  {
   "cell_type": "markdown",
   "id": "ef0168ce",
   "metadata": {
    "slideshow": {
     "slide_type": "fragment"
    }
   },
   "source": [
    "**Notebooks for Analytics**: Introduction to Literate Programming, Jupyter Notebooks, Google Colab"
   ]
  },
  {
   "cell_type": "markdown",
   "id": "3f401b73",
   "metadata": {
    "slideshow": {
     "slide_type": "subslide"
    }
   },
   "source": [
    "**SQL: Querying a database (DDL)**: Overview of the select including filtering, sorting, join, aggregation. SQLlite"
   ]
  },
  {
   "cell_type": "markdown",
   "id": "99892e3d",
   "metadata": {
    "slideshow": {
     "slide_type": "fragment"
    }
   },
   "source": [
    "**SQL: Create/Populate a Database (DML)**: Insert/Update/Delete operations. Overview of advanced functionalities: Transactions, Trigger, Stored Procedure and User Defined functions"
   ]
  },
  {
   "cell_type": "markdown",
   "id": "38315e84",
   "metadata": {
    "slideshow": {
     "slide_type": "fragment"
    }
   },
   "source": [
    "**DBMS in the real world:** Client-Server Architecture, Main DBMS (Mysql, Postgres, SQL Server, Oracle). SaaS Databases in Cloud (focus BigQuery & Gdelt project)"
   ]
  },
  {
   "cell_type": "markdown",
   "id": "aeb7400b",
   "metadata": {
    "slideshow": {
     "slide_type": "subslide"
    }
   },
   "source": [
    "**Beyond DBMS:** Modern Datawharehoses: Data Bricks, Snowflake, Open Table Formats"
   ]
  },
  {
   "cell_type": "markdown",
   "id": "a608cee4",
   "metadata": {
    "slideshow": {
     "slide_type": "fragment"
    }
   },
   "source": [
    "**Third Generation of data warehouses:** Data governance and data catalog, DBT"
   ]
  },
  {
   "cell_type": "markdown",
   "id": "beaeafdd",
   "metadata": {
    "slideshow": {
     "slide_type": "subslide"
    }
   },
   "source": [
    "## Class Material"
   ]
  },
  {
   "cell_type": "markdown",
   "id": "aa9e9c19",
   "metadata": {
    "slideshow": {
     "slide_type": "fragment"
    }
   },
   "source": [
    "[![github](https://github.githubassets.com/images/modules/logos_page/GitHub-Logo.png) https://github.com/nicshub/sdsdbms](https://github.com/nicshub/sdsdbms)"
   ]
  },
  {
   "cell_type": "markdown",
   "id": "fbf566ab",
   "metadata": {
    "slideshow": {
     "slide_type": "slide"
    }
   },
   "source": [
    "# Let's start"
   ]
  },
  {
   "cell_type": "markdown",
   "id": "25f1f094",
   "metadata": {
    "slideshow": {
     "slide_type": "fragment"
    }
   },
   "source": [
    "![NicsMeme](https://i.imgflip.com/8d5q0d.jpg)"
   ]
  }
 ],
 "metadata": {
  "celltoolbar": "Slideshow",
  "kernelspec": {
   "display_name": "Python 3 (ipykernel)",
   "language": "python",
   "name": "python3"
  },
  "language_info": {
   "codemirror_mode": {
    "name": "ipython",
    "version": 3
   },
   "file_extension": ".py",
   "mimetype": "text/x-python",
   "name": "python",
   "nbconvert_exporter": "python",
   "pygments_lexer": "ipython3",
   "version": "3.9.15"
  },
  "rise": {
   "autolaunch": true,
   "enable_chalkboard": "true",
   "footer": "<div class=\"sds-footer\"> *** Social Data Science (SDS) - Notions of Database Management Systems ***</div>",
   "header": "<div class=\"sds-header\"><div class=\"sds-header-image\"></div></div>",
   "scroll": true,
   "theme": "white"
  }
 },
 "nbformat": 4,
 "nbformat_minor": 5
}
